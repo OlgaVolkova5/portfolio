{
 "cells": [
  {
   "cell_type": "markdown",
   "metadata": {},
   "source": [
    "# Сборный проект"
   ]
  },
  {
   "cell_type": "markdown",
   "metadata": {},
   "source": [
    "## Задача\n",
    "Изучить поведение пользователей мобильного приложения и результаты A/A/B-эксперимента. \n"
   ]
  },
  {
   "cell_type": "markdown",
   "metadata": {},
   "source": [
    "## Описание данных\n",
    "Каждая запись в логе — это действие пользователя, или событие.\n",
    "- EventName — название события;\n",
    "- DeviceIDHash — уникальный идентификатор пользователя;\n",
    "- EventTimestamp — время события;\n",
    "- ExpId — номер эксперимента: 246 и 247 — контрольные группы, а 248 — экспериментальная.\n"
   ]
  },
  {
   "cell_type": "markdown",
   "metadata": {},
   "source": [
    "## Оглавление\n",
    "- [Шаг 1. Предпросмотр данных](#step1)\n",
    "- [Шаг 2. Подготовка данных](#step2)  \n",
    "- [Шаг 3. Анализ данных](#step3) \n",
    "- [Шаг 4. Построение воронки событий](#step4) \n",
    "- [Шаг 5. Изучение A/A/B-эксперимента](#step5) \n",
    "- [Общий вывод](#step6)    "
   ]
  },
  {
   "cell_type": "markdown",
   "metadata": {},
   "source": [
    "## Шаг 1. Предпросмотр данных<a id=\"step1\"></a> "
   ]
  },
  {
   "cell_type": "markdown",
   "metadata": {},
   "source": [
    "Откроем и изучим данные"
   ]
  },
  {
   "cell_type": "code",
   "execution_count": 1,
   "metadata": {
    "scrolled": true
   },
   "outputs": [
    {
     "data": {
      "text/html": [
       "<div>\n",
       "<style scoped>\n",
       "    .dataframe tbody tr th:only-of-type {\n",
       "        vertical-align: middle;\n",
       "    }\n",
       "\n",
       "    .dataframe tbody tr th {\n",
       "        vertical-align: top;\n",
       "    }\n",
       "\n",
       "    .dataframe thead th {\n",
       "        text-align: right;\n",
       "    }\n",
       "</style>\n",
       "<table border=\"1\" class=\"dataframe\">\n",
       "  <thead>\n",
       "    <tr style=\"text-align: right;\">\n",
       "      <th></th>\n",
       "      <th>EventName</th>\n",
       "      <th>DeviceIDHash</th>\n",
       "      <th>EventTimestamp</th>\n",
       "      <th>ExpId</th>\n",
       "    </tr>\n",
       "  </thead>\n",
       "  <tbody>\n",
       "    <tr>\n",
       "      <td>0</td>\n",
       "      <td>MainScreenAppear</td>\n",
       "      <td>4575588528974610257</td>\n",
       "      <td>1564029816</td>\n",
       "      <td>246</td>\n",
       "    </tr>\n",
       "    <tr>\n",
       "      <td>1</td>\n",
       "      <td>MainScreenAppear</td>\n",
       "      <td>7416695313311560658</td>\n",
       "      <td>1564053102</td>\n",
       "      <td>246</td>\n",
       "    </tr>\n",
       "    <tr>\n",
       "      <td>2</td>\n",
       "      <td>PaymentScreenSuccessful</td>\n",
       "      <td>3518123091307005509</td>\n",
       "      <td>1564054127</td>\n",
       "      <td>248</td>\n",
       "    </tr>\n",
       "    <tr>\n",
       "      <td>3</td>\n",
       "      <td>CartScreenAppear</td>\n",
       "      <td>3518123091307005509</td>\n",
       "      <td>1564054127</td>\n",
       "      <td>248</td>\n",
       "    </tr>\n",
       "    <tr>\n",
       "      <td>4</td>\n",
       "      <td>PaymentScreenSuccessful</td>\n",
       "      <td>6217807653094995999</td>\n",
       "      <td>1564055322</td>\n",
       "      <td>248</td>\n",
       "    </tr>\n",
       "    <tr>\n",
       "      <td>5</td>\n",
       "      <td>CartScreenAppear</td>\n",
       "      <td>6217807653094995999</td>\n",
       "      <td>1564055323</td>\n",
       "      <td>248</td>\n",
       "    </tr>\n",
       "    <tr>\n",
       "      <td>6</td>\n",
       "      <td>OffersScreenAppear</td>\n",
       "      <td>8351860793733343758</td>\n",
       "      <td>1564066242</td>\n",
       "      <td>246</td>\n",
       "    </tr>\n",
       "    <tr>\n",
       "      <td>7</td>\n",
       "      <td>MainScreenAppear</td>\n",
       "      <td>5682100281902512875</td>\n",
       "      <td>1564085677</td>\n",
       "      <td>246</td>\n",
       "    </tr>\n",
       "    <tr>\n",
       "      <td>8</td>\n",
       "      <td>MainScreenAppear</td>\n",
       "      <td>1850981295691852772</td>\n",
       "      <td>1564086702</td>\n",
       "      <td>247</td>\n",
       "    </tr>\n",
       "    <tr>\n",
       "      <td>9</td>\n",
       "      <td>MainScreenAppear</td>\n",
       "      <td>5407636962369102641</td>\n",
       "      <td>1564112112</td>\n",
       "      <td>246</td>\n",
       "    </tr>\n",
       "  </tbody>\n",
       "</table>\n",
       "</div>"
      ],
      "text/plain": [
       "                 EventName         DeviceIDHash  EventTimestamp  ExpId\n",
       "0         MainScreenAppear  4575588528974610257      1564029816    246\n",
       "1         MainScreenAppear  7416695313311560658      1564053102    246\n",
       "2  PaymentScreenSuccessful  3518123091307005509      1564054127    248\n",
       "3         CartScreenAppear  3518123091307005509      1564054127    248\n",
       "4  PaymentScreenSuccessful  6217807653094995999      1564055322    248\n",
       "5         CartScreenAppear  6217807653094995999      1564055323    248\n",
       "6       OffersScreenAppear  8351860793733343758      1564066242    246\n",
       "7         MainScreenAppear  5682100281902512875      1564085677    246\n",
       "8         MainScreenAppear  1850981295691852772      1564086702    247\n",
       "9         MainScreenAppear  5407636962369102641      1564112112    246"
      ]
     },
     "metadata": {},
     "output_type": "display_data"
    },
    {
     "name": "stdout",
     "output_type": "stream",
     "text": [
      "<class 'pandas.core.frame.DataFrame'>\n",
      "RangeIndex: 244126 entries, 0 to 244125\n",
      "Data columns (total 4 columns):\n",
      "EventName         244126 non-null object\n",
      "DeviceIDHash      244126 non-null int64\n",
      "EventTimestamp    244126 non-null int64\n",
      "ExpId             244126 non-null int64\n",
      "dtypes: int64(3), object(1)\n",
      "memory usage: 7.5+ MB\n"
     ]
    },
    {
     "data": {
      "text/plain": [
       "None"
      ]
     },
     "metadata": {},
     "output_type": "display_data"
    },
    {
     "data": {
      "text/plain": [
       "MainScreenAppear           119205\n",
       "OffersScreenAppear          46825\n",
       "CartScreenAppear            42731\n",
       "PaymentScreenSuccessful     34313\n",
       "Tutorial                     1052\n",
       "Name: EventName, dtype: int64"
      ]
     },
     "metadata": {},
     "output_type": "display_data"
    },
    {
     "data": {
      "text/plain": [
       "6304868067479728361    2308\n",
       "197027893265565660     2003\n",
       "4623191541214045580    1771\n",
       "6932517045703054087    1448\n",
       "1754140665440434215    1222\n",
       "                       ... \n",
       "7724520246123323531       1\n",
       "2760145394827990211       1\n",
       "2086627244641656064       1\n",
       "8164821368561674670       1\n",
       "1083512226259476085       1\n",
       "Name: DeviceIDHash, Length: 7551, dtype: int64"
      ]
     },
     "metadata": {},
     "output_type": "display_data"
    },
    {
     "data": {
      "text/plain": [
       "1564935799    9\n",
       "1564670435    9\n",
       "1565017227    8\n",
       "1565191469    8\n",
       "1564911846    8\n",
       "             ..\n",
       "1564717756    1\n",
       "1564758720    1\n",
       "1564766916    1\n",
       "1564738250    1\n",
       "1565191461    1\n",
       "Name: EventTimestamp, Length: 176654, dtype: int64"
      ]
     },
     "metadata": {},
     "output_type": "display_data"
    },
    {
     "data": {
      "text/plain": [
       "248    85747\n",
       "246    80304\n",
       "247    78075\n",
       "Name: ExpId, dtype: int64"
      ]
     },
     "metadata": {},
     "output_type": "display_data"
    }
   ],
   "source": [
    "import pandas as pd\n",
    "from datetime import datetime\n",
    "\n",
    "\n",
    "import plotly.express as px\n",
    "import numpy as np\n",
    "from IPython.display import display\n",
    "import math as mth\n",
    "import seaborn as sns\n",
    "from matplotlib import pyplot as plt\n",
    "sns.set(style=\"dark\")\n",
    "import scipy.stats as stats\n",
    "from scipy import stats as st\n",
    "from pandas.plotting import register_matplotlib_converters\n",
    "register_matplotlib_converters()\n",
    "\n",
    "log_data=pd.read_csv('/datasets/logs_exp.csv', sep='\\t')\n",
    "def info(data):\n",
    "    display(data.head(10))\n",
    "    display(data.info())\n",
    "    for i in data.columns:\n",
    "        display(data[i].value_counts())\n",
    "info(log_data)"
   ]
  },
  {
   "cell_type": "markdown",
   "metadata": {},
   "source": [
    "Всего в логе 244 126 событий, поделенные на пять категорий, совершенные 7 551 пользователями, разделенными на 3 группы - 2 контрольные и 1 тестовую."
   ]
  },
  {
   "cell_type": "markdown",
   "metadata": {},
   "source": [
    "## Шаг 2. Подготовка данных <a id=\"step2\"></a> "
   ]
  },
  {
   "cell_type": "markdown",
   "metadata": {},
   "source": [
    "Переименуем столбцы"
   ]
  },
  {
   "cell_type": "code",
   "execution_count": 2,
   "metadata": {},
   "outputs": [],
   "source": [
    "log_data.columns=['event','user_id','timestamp','group']"
   ]
  },
  {
   "cell_type": "markdown",
   "metadata": {},
   "source": [
    "В основном данным не надо менять тип, но столбик timestamp переведем в более понятный формат даты."
   ]
  },
  {
   "cell_type": "code",
   "execution_count": 3,
   "metadata": {
    "scrolled": true
   },
   "outputs": [
    {
     "name": "stdout",
     "output_type": "stream",
     "text": [
      "<class 'pandas.core.frame.DataFrame'>\n",
      "RangeIndex: 244126 entries, 0 to 244125\n",
      "Data columns (total 6 columns):\n",
      "event        244126 non-null object\n",
      "user_id      244126 non-null int64\n",
      "timestamp    244126 non-null int64\n",
      "group        244126 non-null int64\n",
      "date_time    244126 non-null datetime64[ns]\n",
      "date         244126 non-null object\n",
      "dtypes: datetime64[ns](1), int64(3), object(2)\n",
      "memory usage: 11.2+ MB\n"
     ]
    },
    {
     "data": {
      "text/plain": [
       "None"
      ]
     },
     "metadata": {},
     "output_type": "display_data"
    },
    {
     "data": {
      "text/html": [
       "<div>\n",
       "<style scoped>\n",
       "    .dataframe tbody tr th:only-of-type {\n",
       "        vertical-align: middle;\n",
       "    }\n",
       "\n",
       "    .dataframe tbody tr th {\n",
       "        vertical-align: top;\n",
       "    }\n",
       "\n",
       "    .dataframe thead th {\n",
       "        text-align: right;\n",
       "    }\n",
       "</style>\n",
       "<table border=\"1\" class=\"dataframe\">\n",
       "  <thead>\n",
       "    <tr style=\"text-align: right;\">\n",
       "      <th></th>\n",
       "      <th>event</th>\n",
       "      <th>user_id</th>\n",
       "      <th>timestamp</th>\n",
       "      <th>group</th>\n",
       "      <th>date_time</th>\n",
       "      <th>date</th>\n",
       "    </tr>\n",
       "  </thead>\n",
       "  <tbody>\n",
       "    <tr>\n",
       "      <td>0</td>\n",
       "      <td>MainScreenAppear</td>\n",
       "      <td>4575588528974610257</td>\n",
       "      <td>1564029816</td>\n",
       "      <td>246</td>\n",
       "      <td>2019-07-25 04:43:36</td>\n",
       "      <td>2019-07-25</td>\n",
       "    </tr>\n",
       "    <tr>\n",
       "      <td>1</td>\n",
       "      <td>MainScreenAppear</td>\n",
       "      <td>7416695313311560658</td>\n",
       "      <td>1564053102</td>\n",
       "      <td>246</td>\n",
       "      <td>2019-07-25 11:11:42</td>\n",
       "      <td>2019-07-25</td>\n",
       "    </tr>\n",
       "    <tr>\n",
       "      <td>2</td>\n",
       "      <td>PaymentScreenSuccessful</td>\n",
       "      <td>3518123091307005509</td>\n",
       "      <td>1564054127</td>\n",
       "      <td>248</td>\n",
       "      <td>2019-07-25 11:28:47</td>\n",
       "      <td>2019-07-25</td>\n",
       "    </tr>\n",
       "    <tr>\n",
       "      <td>3</td>\n",
       "      <td>CartScreenAppear</td>\n",
       "      <td>3518123091307005509</td>\n",
       "      <td>1564054127</td>\n",
       "      <td>248</td>\n",
       "      <td>2019-07-25 11:28:47</td>\n",
       "      <td>2019-07-25</td>\n",
       "    </tr>\n",
       "    <tr>\n",
       "      <td>4</td>\n",
       "      <td>PaymentScreenSuccessful</td>\n",
       "      <td>6217807653094995999</td>\n",
       "      <td>1564055322</td>\n",
       "      <td>248</td>\n",
       "      <td>2019-07-25 11:48:42</td>\n",
       "      <td>2019-07-25</td>\n",
       "    </tr>\n",
       "  </tbody>\n",
       "</table>\n",
       "</div>"
      ],
      "text/plain": [
       "                     event              user_id   timestamp  group  \\\n",
       "0         MainScreenAppear  4575588528974610257  1564029816    246   \n",
       "1         MainScreenAppear  7416695313311560658  1564053102    246   \n",
       "2  PaymentScreenSuccessful  3518123091307005509  1564054127    248   \n",
       "3         CartScreenAppear  3518123091307005509  1564054127    248   \n",
       "4  PaymentScreenSuccessful  6217807653094995999  1564055322    248   \n",
       "\n",
       "            date_time        date  \n",
       "0 2019-07-25 04:43:36  2019-07-25  \n",
       "1 2019-07-25 11:11:42  2019-07-25  \n",
       "2 2019-07-25 11:28:47  2019-07-25  \n",
       "3 2019-07-25 11:28:47  2019-07-25  \n",
       "4 2019-07-25 11:48:42  2019-07-25  "
      ]
     },
     "metadata": {},
     "output_type": "display_data"
    }
   ],
   "source": [
    "def to_date(row):\n",
    "    wrong=row['timestamp']\n",
    "    new=datetime.fromtimestamp(wrong).strftime('%Y-%m-%d %H:%M:%S')\n",
    "    return new\n",
    "log_data['date_time']=log_data.apply(to_date,axis=1)\n",
    "log_data['date_time']=pd.to_datetime(log_data['date_time'], format='%Y.%m.%dT%H:%M:%S')\n",
    "log_data['date']=log_data['date_time'].dt.date\n",
    "display(log_data.info())\n",
    "display(log_data.head())"
   ]
  },
  {
   "cell_type": "markdown",
   "metadata": {},
   "source": [
    "Удалим дублирующиеся события"
   ]
  },
  {
   "cell_type": "code",
   "execution_count": 4,
   "metadata": {
    "scrolled": true
   },
   "outputs": [
    {
     "name": "stdout",
     "output_type": "stream",
     "text": [
      "<class 'pandas.core.frame.DataFrame'>\n",
      "Int64Index: 243713 entries, 0 to 244125\n",
      "Data columns (total 6 columns):\n",
      "event        243713 non-null object\n",
      "user_id      243713 non-null int64\n",
      "timestamp    243713 non-null int64\n",
      "group        243713 non-null int64\n",
      "date_time    243713 non-null datetime64[ns]\n",
      "date         243713 non-null object\n",
      "dtypes: datetime64[ns](1), int64(3), object(2)\n",
      "memory usage: 13.0+ MB\n"
     ]
    }
   ],
   "source": [
    "log_data=log_data.drop_duplicates()\n",
    "log_data.info()"
   ]
  },
  {
   "cell_type": "markdown",
   "metadata": {},
   "source": [
    "## Шаг 3. Анализ данных<a id=\"step3\"></a> "
   ]
  },
  {
   "cell_type": "markdown",
   "metadata": {},
   "source": [
    "Изучим данные по-подробнее"
   ]
  },
  {
   "cell_type": "code",
   "execution_count": 5,
   "metadata": {},
   "outputs": [
    {
     "name": "stdout",
     "output_type": "stream",
     "text": [
      "В логе находится 243713 событий\n"
     ]
    }
   ],
   "source": [
    "print('В логе находится',log_data['event'].count(),'событий')"
   ]
  },
  {
   "cell_type": "code",
   "execution_count": 6,
   "metadata": {},
   "outputs": [
    {
     "name": "stdout",
     "output_type": "stream",
     "text": [
      "В логе находится 7551 пользователей\n"
     ]
    }
   ],
   "source": [
    "print('В логе находится',len(log_data['user_id'].unique()),'пользователей')"
   ]
  },
  {
   "cell_type": "code",
   "execution_count": 7,
   "metadata": {
    "scrolled": true
   },
   "outputs": [
    {
     "name": "stdout",
     "output_type": "stream",
     "text": [
      "В среднем на одного человека приходится 32.28 события\n"
     ]
    }
   ],
   "source": [
    "print('В среднем на одного человека приходится',round(log_data['event'].count()/len(log_data['user_id'].unique()),2),'события')"
   ]
  },
  {
   "cell_type": "markdown",
   "metadata": {},
   "source": [
    "Посмотрим повнимательнее на данные о количестве действий на сайте, совершаемых пользователями"
   ]
  },
  {
   "cell_type": "code",
   "execution_count": 8,
   "metadata": {
    "scrolled": false
   },
   "outputs": [
    {
     "data": {
      "text/plain": [
       "count    7551.000000\n",
       "mean       32.275593\n",
       "std        65.154219\n",
       "min         1.000000\n",
       "25%         9.000000\n",
       "50%        20.000000\n",
       "75%        37.000000\n",
       "max      2307.000000\n",
       "Name: event, dtype: float64"
      ]
     },
     "execution_count": 8,
     "metadata": {},
     "output_type": "execute_result"
    },
    {
     "data": {
      "image/png": "[encoded data removed]",
      "text/plain": [
       "<Figure size 432x288 with 1 Axes>"
      ]
     },
     "metadata": {},
     "output_type": "display_data"
    }
   ],
   "source": [
    "event_pivot=log_data.pivot_table(index='user_id',aggfunc={'event':'count'}).reset_index()\n",
    "event_pivot['event'].hist(bins=100,color='darkblue')\n",
    "plt.title('Количество действий пользователя на сайте')\n",
    "plt.xlabel('Количество действий')\n",
    "plt.ylabel('Количество пользователей')\n",
    "event_pivot['event'].describe()"
   ]
  },
  {
   "cell_type": "markdown",
   "metadata": {},
   "source": [
    "Есть выбивающиеся из общей массы пользователи, совершающие до 2307 событий. Отсечем таких, которые совершили более 150 событий, так как это скорее единичные случаи, которые в дальнейшем исказят нам тест. Всего лог сократится на 134 пользователей и 44436 событий."
   ]
  },
  {
   "cell_type": "code",
   "execution_count": 9,
   "metadata": {
    "scrolled": false
   },
   "outputs": [
    {
     "data": {
      "text/plain": [
       "count    7417.000000\n",
       "mean       26.867601\n",
       "std        24.710574\n",
       "min         1.000000\n",
       "25%         9.000000\n",
       "50%        19.000000\n",
       "75%        36.000000\n",
       "max       149.000000\n",
       "Name: event, dtype: float64"
      ]
     },
     "metadata": {},
     "output_type": "display_data"
    },
    {
     "name": "stdout",
     "output_type": "stream",
     "text": [
      "В логе находится 199277 событий\n",
      "В логе находится 7417 пользователей\n"
     ]
    },
    {
     "data": {
      "image/png": "[encoded data removed]",
      "text/plain": [
       "<Figure size 432x288 with 1 Axes>"
      ]
     },
     "metadata": {},
     "output_type": "display_data"
    }
   ],
   "source": [
    "clean_event_pivot=event_pivot.query('event<150')\n",
    "clean_event_pivot['event'].hist(bins=150,color='darkblue')\n",
    "plt.title('Количество действий пользователя на сайте')\n",
    "plt.xlabel('Количество действий')\n",
    "plt.ylabel('Количество пользователей')\n",
    "clean_event_id=clean_event_pivot['user_id']\n",
    "clean_log_data=log_data.query('user_id in @clean_event_id')\n",
    "display(clean_event_pivot['event'].describe())\n",
    "print('В логе находится',clean_log_data['event'].count(),'событий')\n",
    "print('В логе находится',len(clean_log_data['user_id'].unique()),'пользователей')"
   ]
  },
  {
   "cell_type": "markdown",
   "metadata": {},
   "source": [
    "Минимальная дата - 25 июля."
   ]
  },
  {
   "cell_type": "markdown",
   "metadata": {},
   "source": [
    "Максимальная дата - 7 августа."
   ]
  },
  {
   "cell_type": "code",
   "execution_count": 10,
   "metadata": {
    "scrolled": false
   },
   "outputs": [
    {
     "data": {
      "text/plain": [
       "count                  199277\n",
       "unique                 150932\n",
       "top       2019-08-01 14:40:35\n",
       "freq                        9\n",
       "first     2019-07-25 04:43:36\n",
       "last      2019-08-07 21:15:17\n",
       "Name: date_time, dtype: object"
      ]
     },
     "metadata": {},
     "output_type": "display_data"
    },
    {
     "data": {
      "image/png": "[encoded data removed]",
      "text/plain": [
       "<Figure size 1296x432 with 1 Axes>"
      ]
     },
     "metadata": {},
     "output_type": "display_data"
    }
   ],
   "source": [
    "from pandas.plotting import register_matplotlib_converters\n",
    "register_matplotlib_converters()\n",
    "display(clean_log_data['date_time'].describe())\n",
    "\n",
    "ax=sns.relplot(x='date',\n",
    "            y='event', \n",
    "            kind=\"line\",\n",
    "            data=clean_log_data.pivot_table(index='date',aggfunc={'event':'count'}).reset_index(),\n",
    "            height=6, aspect=3)\n",
    "plt.title('Количество событий по дате')\n",
    "plt.ylabel('Количество событий')\n",
    "plt.xlabel('Дата');"
   ]
  },
  {
   "cell_type": "markdown",
   "metadata": {},
   "source": [
    "По гистограмме видно, что полноценные данные начали поступать только с 1 августа, а до этого они были скорее единичными. Отсечем все июльские данные."
   ]
  },
  {
   "cell_type": "code",
   "execution_count": 11,
   "metadata": {},
   "outputs": [
    {
     "data": {
      "text/plain": [
       "count                  196669\n",
       "unique                 148502\n",
       "top       2019-08-01 14:40:35\n",
       "freq                        9\n",
       "first     2019-08-01 00:07:28\n",
       "last      2019-08-07 21:15:17\n",
       "Name: date_time, dtype: object"
      ]
     },
     "execution_count": 11,
     "metadata": {},
     "output_type": "execute_result"
    }
   ],
   "source": [
    "new_log_data=clean_log_data.query('date_time>\"2019-07-31 23:59:59\"')\n",
    "new_log_data['date_time'].describe()"
   ]
  },
  {
   "cell_type": "code",
   "execution_count": 12,
   "metadata": {
    "scrolled": true
   },
   "outputs": [
    {
     "name": "stdout",
     "output_type": "stream",
     "text": [
      "В отброшенном логе находится 2608 событий\n",
      "и 1407 пользователей\n"
     ]
    }
   ],
   "source": [
    "print('В отброшенном логе находится',clean_log_data.query('date_time<=\"2019-07-31 23:59:59\"')['event'].count(),'событий')\n",
    "print('и',len(clean_log_data.query('date_time<=\"2019-07-31 23:59:59\"')['user_id'].unique()),'пользователей')"
   ]
  },
  {
   "cell_type": "markdown",
   "metadata": {},
   "source": [
    "Посмотрим количество данных по группам."
   ]
  },
  {
   "cell_type": "code",
   "execution_count": 13,
   "metadata": {
    "scrolled": true
   },
   "outputs": [
    {
     "data": {
      "text/html": [
       "<div>\n",
       "<style scoped>\n",
       "    .dataframe tbody tr th:only-of-type {\n",
       "        vertical-align: middle;\n",
       "    }\n",
       "\n",
       "    .dataframe tbody tr th {\n",
       "        vertical-align: top;\n",
       "    }\n",
       "\n",
       "    .dataframe thead th {\n",
       "        text-align: right;\n",
       "    }\n",
       "</style>\n",
       "<table border=\"1\" class=\"dataframe\">\n",
       "  <thead>\n",
       "    <tr style=\"text-align: right;\">\n",
       "      <th></th>\n",
       "      <th>group</th>\n",
       "      <th>user_id</th>\n",
       "    </tr>\n",
       "  </thead>\n",
       "  <tbody>\n",
       "    <tr>\n",
       "      <td>0</td>\n",
       "      <td>246</td>\n",
       "      <td>2439</td>\n",
       "    </tr>\n",
       "    <tr>\n",
       "      <td>1</td>\n",
       "      <td>247</td>\n",
       "      <td>2477</td>\n",
       "    </tr>\n",
       "    <tr>\n",
       "      <td>2</td>\n",
       "      <td>248</td>\n",
       "      <td>2484</td>\n",
       "    </tr>\n",
       "  </tbody>\n",
       "</table>\n",
       "</div>"
      ],
      "text/plain": [
       "   group  user_id\n",
       "0    246     2439\n",
       "1    247     2477\n",
       "2    248     2484"
      ]
     },
     "execution_count": 13,
     "metadata": {},
     "output_type": "execute_result"
    }
   ],
   "source": [
    "new_log_data.groupby('group', as_index=False).agg({'user_id' : pd.Series.nunique})"
   ]
  },
  {
   "cell_type": "markdown",
   "metadata": {},
   "source": [
    "В очищенном логе присутствуют данные по всем интересующим нас группам."
   ]
  },
  {
   "cell_type": "markdown",
   "metadata": {},
   "source": [
    "## Шаг 4. Построение воронки событий<a id=\"step4\"></a> "
   ]
  },
  {
   "cell_type": "markdown",
   "metadata": {},
   "source": [
    "Изучим данные лога по событиям"
   ]
  },
  {
   "cell_type": "code",
   "execution_count": 14,
   "metadata": {
    "scrolled": false
   },
   "outputs": [
    {
     "data": {
      "text/html": [
       "<div>\n",
       "<style scoped>\n",
       "    .dataframe tbody tr th:only-of-type {\n",
       "        vertical-align: middle;\n",
       "    }\n",
       "\n",
       "    .dataframe tbody tr th {\n",
       "        vertical-align: top;\n",
       "    }\n",
       "\n",
       "    .dataframe thead th {\n",
       "        text-align: right;\n",
       "    }\n",
       "</style>\n",
       "<table border=\"1\" class=\"dataframe\">\n",
       "  <thead>\n",
       "    <tr style=\"text-align: right;\">\n",
       "      <th></th>\n",
       "      <th>event</th>\n",
       "      <th>date_time</th>\n",
       "    </tr>\n",
       "  </thead>\n",
       "  <tbody>\n",
       "    <tr>\n",
       "      <td>0</td>\n",
       "      <td>MainScreenAppear</td>\n",
       "      <td>110050</td>\n",
       "    </tr>\n",
       "    <tr>\n",
       "      <td>1</td>\n",
       "      <td>OffersScreenAppear</td>\n",
       "      <td>38250</td>\n",
       "    </tr>\n",
       "    <tr>\n",
       "      <td>2</td>\n",
       "      <td>CartScreenAppear</td>\n",
       "      <td>27023</td>\n",
       "    </tr>\n",
       "    <tr>\n",
       "      <td>3</td>\n",
       "      <td>PaymentScreenSuccessful</td>\n",
       "      <td>20379</td>\n",
       "    </tr>\n",
       "    <tr>\n",
       "      <td>4</td>\n",
       "      <td>Tutorial</td>\n",
       "      <td>967</td>\n",
       "    </tr>\n",
       "  </tbody>\n",
       "</table>\n",
       "</div>"
      ],
      "text/plain": [
       "                     event  date_time\n",
       "0         MainScreenAppear     110050\n",
       "1       OffersScreenAppear      38250\n",
       "2         CartScreenAppear      27023\n",
       "3  PaymentScreenSuccessful      20379\n",
       "4                 Tutorial        967"
      ]
     },
     "metadata": {},
     "output_type": "display_data"
    },
    {
     "data": {
      "image/png": "[encoded data removed]",
      "text/plain": [
       "<Figure size 900x360 with 1 Axes>"
      ]
     },
     "metadata": {},
     "output_type": "display_data"
    }
   ],
   "source": [
    "event_type_pivot=(new_log_data\n",
    "                  .pivot_table(index='event'\n",
    "                                          ,aggfunc={'date_time':'count'})\n",
    "                  .sort_values(by='date_time',ascending=False)\n",
    "                  .reset_index())\n",
    "display(event_type_pivot)\n",
    "def event_type(data,x_column):\n",
    "    ax=sns.catplot(y=\"event\"\n",
    "            ,x=x_column\n",
    "            ,kind=\"bar\"\n",
    "            , data=data\n",
    "            , height=5\n",
    "            , aspect=2.5\n",
    "            , orient='h'\n",
    "            ,palette=\"Blues_r\"\n",
    "           )\n",
    "    plt.title('Распределение по типу события')\n",
    "    plt.ylabel('Событие')\n",
    "    plt.xlabel('Количество событий')\n",
    "    plt.show()\n",
    "event_type(event_type_pivot,'date_time')\n"
   ]
  },
  {
   "cell_type": "markdown",
   "metadata": {},
   "source": [
    "Самое часто встречающееся событие - показ главного экрана. Меньше всего смотрят обучение. "
   ]
  },
  {
   "cell_type": "markdown",
   "metadata": {},
   "source": [
    "Изучим данные по количеству пользователей, совершивших события."
   ]
  },
  {
   "cell_type": "code",
   "execution_count": 15,
   "metadata": {
    "scrolled": false
   },
   "outputs": [
    {
     "data": {
      "text/html": [
       "<div>\n",
       "<style scoped>\n",
       "    .dataframe tbody tr th:only-of-type {\n",
       "        vertical-align: middle;\n",
       "    }\n",
       "\n",
       "    .dataframe tbody tr th {\n",
       "        vertical-align: top;\n",
       "    }\n",
       "\n",
       "    .dataframe thead th {\n",
       "        text-align: right;\n",
       "    }\n",
       "</style>\n",
       "<table border=\"1\" class=\"dataframe\">\n",
       "  <thead>\n",
       "    <tr style=\"text-align: right;\">\n",
       "      <th></th>\n",
       "      <th>event</th>\n",
       "      <th>user_id</th>\n",
       "      <th>user_share</th>\n",
       "    </tr>\n",
       "  </thead>\n",
       "  <tbody>\n",
       "    <tr>\n",
       "      <td>0</td>\n",
       "      <td>MainScreenAppear</td>\n",
       "      <td>7287</td>\n",
       "      <td>98.47</td>\n",
       "    </tr>\n",
       "    <tr>\n",
       "      <td>1</td>\n",
       "      <td>OffersScreenAppear</td>\n",
       "      <td>4461</td>\n",
       "      <td>60.28</td>\n",
       "    </tr>\n",
       "    <tr>\n",
       "      <td>2</td>\n",
       "      <td>CartScreenAppear</td>\n",
       "      <td>3603</td>\n",
       "      <td>48.69</td>\n",
       "    </tr>\n",
       "    <tr>\n",
       "      <td>3</td>\n",
       "      <td>PaymentScreenSuccessful</td>\n",
       "      <td>3409</td>\n",
       "      <td>46.07</td>\n",
       "    </tr>\n",
       "    <tr>\n",
       "      <td>4</td>\n",
       "      <td>Tutorial</td>\n",
       "      <td>811</td>\n",
       "      <td>10.96</td>\n",
       "    </tr>\n",
       "  </tbody>\n",
       "</table>\n",
       "</div>"
      ],
      "text/plain": [
       "                     event  user_id  user_share\n",
       "0         MainScreenAppear     7287       98.47\n",
       "1       OffersScreenAppear     4461       60.28\n",
       "2         CartScreenAppear     3603       48.69\n",
       "3  PaymentScreenSuccessful     3409       46.07\n",
       "4                 Tutorial      811       10.96"
      ]
     },
     "metadata": {},
     "output_type": "display_data"
    },
    {
     "data": {
      "image/png": "[encoded data removed]",
      "text/plain": [
       "<Figure size 900x360 with 1 Axes>"
      ]
     },
     "metadata": {},
     "output_type": "display_data"
    }
   ],
   "source": [
    "user_event_type_pivot=(new_log_data\n",
    "                       .pivot_table(index=['event']\n",
    "                                    ,aggfunc={'user_id':'nunique'})\n",
    "                       .sort_values(by='user_id',ascending=False)\n",
    "                       .reset_index())\n",
    "\n",
    "user_event_type_pivot['user_share']=round(user_event_type_pivot['user_id']/len(new_log_data['user_id'].unique())*100,2)\n",
    "display(user_event_type_pivot)\n",
    "event_type(user_event_type_pivot,'user_id')"
   ]
  },
  {
   "cell_type": "markdown",
   "metadata": {},
   "source": [
    "46% пользователей хоть раз совершили заказ за изучаемый период. Это очень хороший показатель. Однако, так же видно, что они шли к цели разными путями. Не все были на главной странице, не все шли через страницу предложения. А обучением занялось всего-лишь 11% пользователей, но эта конверсия нам меньше всего интересна в контексте данной задачи."
   ]
  },
  {
   "cell_type": "markdown",
   "metadata": {},
   "source": [
    "Изучим воронку, в которой пользователь посещает как главную страницу, так и страницу предложения."
   ]
  },
  {
   "cell_type": "code",
   "execution_count": 16,
   "metadata": {
    "scrolled": false
   },
   "outputs": [
    {
     "data": {
      "text/html": [
       "<div>\n",
       "<style scoped>\n",
       "    .dataframe tbody tr th:only-of-type {\n",
       "        vertical-align: middle;\n",
       "    }\n",
       "\n",
       "    .dataframe tbody tr th {\n",
       "        vertical-align: top;\n",
       "    }\n",
       "\n",
       "    .dataframe thead th {\n",
       "        text-align: right;\n",
       "    }\n",
       "</style>\n",
       "<table border=\"1\" class=\"dataframe\">\n",
       "  <thead>\n",
       "    <tr style=\"text-align: right;\">\n",
       "      <th></th>\n",
       "      <th>event</th>\n",
       "      <th>count</th>\n",
       "      <th>share</th>\n",
       "      <th>share_previous</th>\n",
       "      <th>lost</th>\n",
       "    </tr>\n",
       "  </thead>\n",
       "  <tbody>\n",
       "    <tr>\n",
       "      <td>0</td>\n",
       "      <td>pageview</td>\n",
       "      <td>7287</td>\n",
       "      <td>100.00</td>\n",
       "      <td>100.00</td>\n",
       "      <td>0.00</td>\n",
       "    </tr>\n",
       "    <tr>\n",
       "      <td>1</td>\n",
       "      <td>offer</td>\n",
       "      <td>4090</td>\n",
       "      <td>56.13</td>\n",
       "      <td>56.13</td>\n",
       "      <td>-43.87</td>\n",
       "    </tr>\n",
       "    <tr>\n",
       "      <td>2</td>\n",
       "      <td>checkout</td>\n",
       "      <td>1716</td>\n",
       "      <td>23.55</td>\n",
       "      <td>41.96</td>\n",
       "      <td>-58.04</td>\n",
       "    </tr>\n",
       "    <tr>\n",
       "      <td>3</td>\n",
       "      <td>payment</td>\n",
       "      <td>1300</td>\n",
       "      <td>17.84</td>\n",
       "      <td>75.76</td>\n",
       "      <td>-24.24</td>\n",
       "    </tr>\n",
       "  </tbody>\n",
       "</table>\n",
       "</div>"
      ],
      "text/plain": [
       "      event  count   share  share_previous   lost\n",
       "0  pageview   7287  100.00          100.00   0.00\n",
       "1     offer   4090   56.13           56.13 -43.87\n",
       "2  checkout   1716   23.55           41.96 -58.04\n",
       "3   payment   1300   17.84           75.76 -24.24"
      ]
     },
     "metadata": {},
     "output_type": "display_data"
    },
    {
     "data": {
      "image/png": "[encoded data removed]",
      "text/plain": [
       "<Figure size 900x360 with 1 Axes>"
      ]
     },
     "metadata": {},
     "output_type": "display_data"
    }
   ],
   "source": [
    "users = new_log_data.pivot_table(\n",
    "    index='user_id', \n",
    "    columns='event', \n",
    "    values='date_time',\n",
    "    aggfunc='min').reset_index()\n",
    "step_1_f = ~users['MainScreenAppear'].isna()\n",
    "step_2_f= step_1_f & (users['OffersScreenAppear'] >= users['MainScreenAppear']) \n",
    "step_3_f= step_2_f & (users['CartScreenAppear'] >= users['OffersScreenAppear']) \n",
    "step_4_f= step_3_f & (users['PaymentScreenSuccessful'] >= users['CartScreenAppear'])\n",
    "\n",
    "n_pageviews_f = users[step_1_f].shape[0] \n",
    "n_offers_f = users[step_2_f].shape[0] \n",
    "n_checkout_f = users[step_3_f].shape[0] \n",
    "n_payment_f = users[step_4_f].shape[0] \n",
    "\n",
    "data_f = [{\"event\":\"pageview\",\"count\": n_pageviews_f,'share':round(n_pageviews_f/n_pageviews_f*100,2),'share_previous':round(n_pageviews_f/n_pageviews_f*100,2)},\n",
    "        {\"event\":\"offer\",\"count\": n_offers_f,'share':round(n_offers_f/n_pageviews_f*100,2),'share_previous':round(n_offers_f/n_pageviews_f*100,2)},\n",
    "        {\"event\":\"checkout\",\"count\": n_checkout_f,'share':round(n_checkout_f/n_pageviews_f*100,2),'share_previous':round(n_checkout_f/n_offers_f*100,2)},\n",
    "          {\"event\":\"payment\",\"count\": n_payment_f,'share':round(n_payment_f/n_pageviews_f*100,2),'share_previous':round(n_payment_f/n_checkout_f*100,2)}]\n",
    "funnel_f= pd.DataFrame(data_f)\n",
    "funnel_f['lost'] = funnel_f['share_previous']-100\n",
    "display(funnel_f)\n",
    "\n",
    "event_type(funnel_f,'count')"
   ]
  },
  {
   "cell_type": "markdown",
   "metadata": {},
   "source": [
    "В полной воронке всего 18% посетителей доходит от главной страницы до оплаты. При этом очень много людей теряется на этапе \"Главная - Предложение\", и еще больше - на этапе \"Предложение-Корзина\"."
   ]
  },
  {
   "cell_type": "markdown",
   "metadata": {},
   "source": [
    "Предположим, что далеко не все пользователи проходят через страницу \"Предложение\", поэтому построим воронку, не учитывая её."
   ]
  },
  {
   "cell_type": "code",
   "execution_count": 17,
   "metadata": {
    "scrolled": false
   },
   "outputs": [
    {
     "data": {
      "text/html": [
       "<div>\n",
       "<style scoped>\n",
       "    .dataframe tbody tr th:only-of-type {\n",
       "        vertical-align: middle;\n",
       "    }\n",
       "\n",
       "    .dataframe tbody tr th {\n",
       "        vertical-align: top;\n",
       "    }\n",
       "\n",
       "    .dataframe thead th {\n",
       "        text-align: right;\n",
       "    }\n",
       "</style>\n",
       "<table border=\"1\" class=\"dataframe\">\n",
       "  <thead>\n",
       "    <tr style=\"text-align: right;\">\n",
       "      <th></th>\n",
       "      <th>event</th>\n",
       "      <th>count</th>\n",
       "      <th>share</th>\n",
       "      <th>share_previous</th>\n",
       "      <th>lost</th>\n",
       "    </tr>\n",
       "  </thead>\n",
       "  <tbody>\n",
       "    <tr>\n",
       "      <td>0</td>\n",
       "      <td>pageview</td>\n",
       "      <td>7287</td>\n",
       "      <td>100.00</td>\n",
       "      <td>100.00</td>\n",
       "      <td>0.00</td>\n",
       "    </tr>\n",
       "    <tr>\n",
       "      <td>1</td>\n",
       "      <td>checkout</td>\n",
       "      <td>3317</td>\n",
       "      <td>45.52</td>\n",
       "      <td>45.52</td>\n",
       "      <td>-54.48</td>\n",
       "    </tr>\n",
       "    <tr>\n",
       "      <td>2</td>\n",
       "      <td>payment</td>\n",
       "      <td>2486</td>\n",
       "      <td>34.12</td>\n",
       "      <td>74.95</td>\n",
       "      <td>-25.05</td>\n",
       "    </tr>\n",
       "  </tbody>\n",
       "</table>\n",
       "</div>"
      ],
      "text/plain": [
       "      event  count   share  share_previous   lost\n",
       "0  pageview   7287  100.00          100.00   0.00\n",
       "1  checkout   3317   45.52           45.52 -54.48\n",
       "2   payment   2486   34.12           74.95 -25.05"
      ]
     },
     "metadata": {},
     "output_type": "display_data"
    },
    {
     "data": {
      "image/png": "[encoded data removed]",
      "text/plain": [
       "<Figure size 900x360 with 1 Axes>"
      ]
     },
     "metadata": {},
     "output_type": "display_data"
    }
   ],
   "source": [
    "step_1_m =~users['MainScreenAppear'].isna()\n",
    "step_2_m= step_1_m & (users['CartScreenAppear'] >= users['MainScreenAppear']) \n",
    "step_3_m= step_2_m & (users['PaymentScreenSuccessful'] >= users['CartScreenAppear'])\n",
    "\n",
    "n_pageviews_m= users[step_1_m].shape[0]\n",
    "n_checkout_m = users[step_2_m].shape[0] \n",
    "n_payment_m = users[step_3_m].shape[0]\n",
    "\n",
    "data_m = [{\"event\":\"pageview\",\"count\": n_pageviews_m,'share':round(n_pageviews_m/n_pageviews_m*100,2),'share_previous':round(n_pageviews_m/n_pageviews_m*100,2)},\n",
    "        {\"event\":\"checkout\",\"count\": n_checkout_m,'share':round(n_checkout_m/n_pageviews_m*100,2),'share_previous':round(n_checkout_m/n_pageviews_m*100,2)},\n",
    "          {\"event\":\"payment\",\"count\": n_payment_m,'share':round(n_payment_m/n_pageviews_m*100,2),'share_previous':round(n_payment_m/n_checkout_m*100,2)}]\n",
    "funnel_m= pd.DataFrame(data_m)\n",
    "funnel_m['lost'] = funnel_m['share_previous']-100\n",
    "funnel_m\n",
    "display(funnel_m)\n",
    "event_type(funnel_m,'count')"
   ]
  },
  {
   "cell_type": "markdown",
   "metadata": {},
   "source": [
    "Эта воронка учитывает больше количество пользователей, купивших товар, поэтому будем считать её основной. По ней можно заметить, что от главной до корзины доходит всего 45,5% пользователей, а при оплате теряется еще 25% пользователей. Однако оплачивают заказ 34% пользователей, посмотревших главную страницу, что является хорошей конверсией."
   ]
  },
  {
   "cell_type": "markdown",
   "metadata": {},
   "source": [
    "Изучим воронку пользователей, не посещающих главную страницу."
   ]
  },
  {
   "cell_type": "code",
   "execution_count": 18,
   "metadata": {
    "scrolled": true
   },
   "outputs": [
    {
     "data": {
      "text/html": [
       "<div>\n",
       "<style scoped>\n",
       "    .dataframe tbody tr th:only-of-type {\n",
       "        vertical-align: middle;\n",
       "    }\n",
       "\n",
       "    .dataframe tbody tr th {\n",
       "        vertical-align: top;\n",
       "    }\n",
       "\n",
       "    .dataframe thead th {\n",
       "        text-align: right;\n",
       "    }\n",
       "</style>\n",
       "<table border=\"1\" class=\"dataframe\">\n",
       "  <thead>\n",
       "    <tr style=\"text-align: right;\">\n",
       "      <th></th>\n",
       "      <th>event</th>\n",
       "      <th>count</th>\n",
       "      <th>share</th>\n",
       "      <th>share_previous</th>\n",
       "      <th>lost</th>\n",
       "    </tr>\n",
       "  </thead>\n",
       "  <tbody>\n",
       "    <tr>\n",
       "      <td>0</td>\n",
       "      <td>offer</td>\n",
       "      <td>109</td>\n",
       "      <td>100.00</td>\n",
       "      <td>100.00</td>\n",
       "      <td>0.00</td>\n",
       "    </tr>\n",
       "    <tr>\n",
       "      <td>1</td>\n",
       "      <td>checkout</td>\n",
       "      <td>56</td>\n",
       "      <td>51.38</td>\n",
       "      <td>51.38</td>\n",
       "      <td>-48.62</td>\n",
       "    </tr>\n",
       "    <tr>\n",
       "      <td>2</td>\n",
       "      <td>payment</td>\n",
       "      <td>16</td>\n",
       "      <td>14.68</td>\n",
       "      <td>28.57</td>\n",
       "      <td>-71.43</td>\n",
       "    </tr>\n",
       "  </tbody>\n",
       "</table>\n",
       "</div>"
      ],
      "text/plain": [
       "      event  count   share  share_previous   lost\n",
       "0     offer    109  100.00          100.00   0.00\n",
       "1  checkout     56   51.38           51.38 -48.62\n",
       "2   payment     16   14.68           28.57 -71.43"
      ]
     },
     "metadata": {},
     "output_type": "display_data"
    },
    {
     "data": {
      "image/png": "[encoded data removed]",
      "text/plain": [
       "<Figure size 900x360 with 1 Axes>"
      ]
     },
     "metadata": {},
     "output_type": "display_data"
    }
   ],
   "source": [
    "users_o=users[users['MainScreenAppear'].isna()].reset_index()\n",
    "step_1_o =~users_o['OffersScreenAppear'].isna()\n",
    "step_2_o= step_1_o & (users_o['CartScreenAppear'] >= users_o['OffersScreenAppear']) \n",
    "step_3_o= step_2_o & (users_o['PaymentScreenSuccessful'] >= users_o['CartScreenAppear'])\n",
    "step_2_o\n",
    "n_offers_o = users_o[step_1_o].shape[0]\n",
    "n_checkout_o = users_o[step_2_o].shape[0] \n",
    "n_payment_o = users_o[step_3_o].shape[0]\n",
    "\n",
    "data_o = [{\"event\":\"offer\",\"count\": n_offers_o,'share':round(n_offers_o/n_offers_o*100,2),'share_previous':round(n_offers_o/n_offers_o*100,2)},\n",
    "        {\"event\":\"checkout\",\"count\": n_checkout_o,'share':round(n_checkout_o/n_offers_o*100,2),'share_previous':round(n_checkout_o/n_offers_o*100,2)},\n",
    "          {\"event\":\"payment\",\"count\": n_payment_o,'share':round(n_payment_o/n_offers_o*100,2),'share_previous':round(n_payment_o/n_checkout_o*100,2)}]\n",
    "funnel_o= pd.DataFrame(data_o)\n",
    "funnel_o['lost'] = funnel_o['share_previous']-100\n",
    "display(funnel_o)\n",
    "event_type(funnel_o,'count')"
   ]
  },
  {
   "cell_type": "markdown",
   "metadata": {},
   "source": [
    "Как видно было выше, таких пользователей немного, и они менее охотно совершают покупки."
   ]
  },
  {
   "cell_type": "markdown",
   "metadata": {},
   "source": [
    "## Шаг 5. Изучение A/A/B-эксперимента<a id=\"step5\"></a> "
   ]
  },
  {
   "cell_type": "markdown",
   "metadata": {},
   "source": [
    "Изучим данные о пользователей групп."
   ]
  },
  {
   "cell_type": "code",
   "execution_count": 19,
   "metadata": {
    "scrolled": true
   },
   "outputs": [
    {
     "name": "stdout",
     "output_type": "stream",
     "text": [
      "Количество пользователей в А1 группе - 2439\n",
      "Количество пользователей в А2 группе - 2477\n",
      "Количество пользователей в B группе - 2484\n"
     ]
    }
   ],
   "source": [
    "a1_group=new_log_data.query('group==246')\n",
    "a2_group=new_log_data.query('group==247')\n",
    "b_group=new_log_data.query('group==248')\n",
    "user_a1_group=a1_group['user_id']\n",
    "user_a2_group=a2_group['user_id']\n",
    "user_b_group=b_group['user_id']\n",
    "print('Количество пользователей в А1 группе -',user_a1_group.nunique())\n",
    "print('Количество пользователей в А2 группе -',user_a2_group.nunique())\n",
    "print('Количество пользователей в B группе -',user_b_group.nunique())"
   ]
  },
  {
   "cell_type": "code",
   "execution_count": 20,
   "metadata": {
    "scrolled": false
   },
   "outputs": [
    {
     "name": "stdout",
     "output_type": "stream",
     "text": [
      "Количество пользователей группы а1 в группе а2- 0\n",
      "Количество пользователей группы а2 в группе а1- 0\n",
      "Количество пользователей группы b в группе а2- 0\n",
      "Количество пользователей группы b в группе а1- 0\n",
      "Количество пользователей группы а1 в группе b- 0\n",
      "Количество пользователей группы а2 в группе b- 0\n"
     ]
    }
   ],
   "source": [
    "print('Количество пользователей группы а1 в группе а2-',a2_group.query('user_id in @user_a1_group')['user_id'].nunique())\n",
    "print('Количество пользователей группы а2 в группе а1-',a1_group.query('user_id in @user_a2_group')['user_id'].nunique())\n",
    "print('Количество пользователей группы b в группе а2-',a2_group.query('user_id in @user_b_group')['user_id'].nunique())\n",
    "print('Количество пользователей группы b в группе а1-',a1_group.query('user_id in @user_b_group')['user_id'].nunique())\n",
    "print('Количество пользователей группы а1 в группе b-',b_group.query('user_id in @user_a1_group')['user_id'].nunique())\n",
    "print('Количество пользователей группы а2 в группе b-',b_group.query('user_id in @user_a2_group')['user_id'].nunique())"
   ]
  },
  {
   "cell_type": "markdown",
   "metadata": {},
   "source": [
    "Количество пользователей в группах отличается более чем на 1%, но отличие достаточно невилико. Пользователей, которые попали в несколько групп нет."
   ]
  },
  {
   "cell_type": "markdown",
   "metadata": {},
   "source": [
    "Проведем проверку гипотезы о равенстве долей между контрольными группами."
   ]
  },
  {
   "cell_type": "code",
   "execution_count": 21,
   "metadata": {},
   "outputs": [
    {
     "name": "stdout",
     "output_type": "stream",
     "text": [
      "Количество событий\n"
     ]
    },
    {
     "data": {
      "text/html": [
       "<div>\n",
       "<style scoped>\n",
       "    .dataframe tbody tr th:only-of-type {\n",
       "        vertical-align: middle;\n",
       "    }\n",
       "\n",
       "    .dataframe tbody tr th {\n",
       "        vertical-align: top;\n",
       "    }\n",
       "\n",
       "    .dataframe thead th {\n",
       "        text-align: right;\n",
       "    }\n",
       "</style>\n",
       "<table border=\"1\" class=\"dataframe\">\n",
       "  <thead>\n",
       "    <tr style=\"text-align: right;\">\n",
       "      <th>group</th>\n",
       "      <th>event</th>\n",
       "      <th>246</th>\n",
       "      <th>247</th>\n",
       "    </tr>\n",
       "  </thead>\n",
       "  <tbody>\n",
       "    <tr>\n",
       "      <td>0</td>\n",
       "      <td>MainScreenAppear</td>\n",
       "      <td>35128</td>\n",
       "      <td>37226</td>\n",
       "    </tr>\n",
       "    <tr>\n",
       "      <td>1</td>\n",
       "      <td>OffersScreenAppear</td>\n",
       "      <td>12595</td>\n",
       "      <td>12953</td>\n",
       "    </tr>\n",
       "    <tr>\n",
       "      <td>2</td>\n",
       "      <td>CartScreenAppear</td>\n",
       "      <td>9333</td>\n",
       "      <td>8706</td>\n",
       "    </tr>\n",
       "    <tr>\n",
       "      <td>3</td>\n",
       "      <td>PaymentScreenSuccessful</td>\n",
       "      <td>7072</td>\n",
       "      <td>6573</td>\n",
       "    </tr>\n",
       "    <tr>\n",
       "      <td>4</td>\n",
       "      <td>Tutorial</td>\n",
       "      <td>301</td>\n",
       "      <td>327</td>\n",
       "    </tr>\n",
       "  </tbody>\n",
       "</table>\n",
       "</div>"
      ],
      "text/plain": [
       "group                    event    246    247\n",
       "0             MainScreenAppear  35128  37226\n",
       "1           OffersScreenAppear  12595  12953\n",
       "2             CartScreenAppear   9333   8706\n",
       "3      PaymentScreenSuccessful   7072   6573\n",
       "4                     Tutorial    301    327"
      ]
     },
     "metadata": {},
     "output_type": "display_data"
    },
    {
     "name": "stdout",
     "output_type": "stream",
     "text": [
      "\n",
      "Количество пользователей\n"
     ]
    },
    {
     "data": {
      "text/html": [
       "<div>\n",
       "<style scoped>\n",
       "    .dataframe tbody tr th:only-of-type {\n",
       "        vertical-align: middle;\n",
       "    }\n",
       "\n",
       "    .dataframe tbody tr th {\n",
       "        vertical-align: top;\n",
       "    }\n",
       "\n",
       "    .dataframe thead th {\n",
       "        text-align: right;\n",
       "    }\n",
       "</style>\n",
       "<table border=\"1\" class=\"dataframe\">\n",
       "  <thead>\n",
       "    <tr style=\"text-align: right;\">\n",
       "      <th>group</th>\n",
       "      <th>event</th>\n",
       "      <th>246</th>\n",
       "      <th>247</th>\n",
       "      <th>share1</th>\n",
       "      <th>share2</th>\n",
       "    </tr>\n",
       "  </thead>\n",
       "  <tbody>\n",
       "    <tr>\n",
       "      <td>0</td>\n",
       "      <td>MainScreenAppear</td>\n",
       "      <td>2406</td>\n",
       "      <td>2441</td>\n",
       "      <td>98.6470</td>\n",
       "      <td>98.5466</td>\n",
       "    </tr>\n",
       "    <tr>\n",
       "      <td>1</td>\n",
       "      <td>OffersScreenAppear</td>\n",
       "      <td>1498</td>\n",
       "      <td>1484</td>\n",
       "      <td>61.4186</td>\n",
       "      <td>59.9112</td>\n",
       "    </tr>\n",
       "    <tr>\n",
       "      <td>2</td>\n",
       "      <td>CartScreenAppear</td>\n",
       "      <td>1222</td>\n",
       "      <td>1202</td>\n",
       "      <td>50.1025</td>\n",
       "      <td>48.5264</td>\n",
       "    </tr>\n",
       "    <tr>\n",
       "      <td>3</td>\n",
       "      <td>PaymentScreenSuccessful</td>\n",
       "      <td>1156</td>\n",
       "      <td>1122</td>\n",
       "      <td>47.3965</td>\n",
       "      <td>45.2967</td>\n",
       "    </tr>\n",
       "    <tr>\n",
       "      <td>4</td>\n",
       "      <td>Tutorial</td>\n",
       "      <td>265</td>\n",
       "      <td>276</td>\n",
       "      <td>10.8651</td>\n",
       "      <td>11.1425</td>\n",
       "    </tr>\n",
       "  </tbody>\n",
       "</table>\n",
       "</div>"
      ],
      "text/plain": [
       "group                    event   246   247   share1   share2\n",
       "0             MainScreenAppear  2406  2441  98.6470  98.5466\n",
       "1           OffersScreenAppear  1498  1484  61.4186  59.9112\n",
       "2             CartScreenAppear  1222  1202  50.1025  48.5264\n",
       "3      PaymentScreenSuccessful  1156  1122  47.3965  45.2967\n",
       "4                     Tutorial   265   276  10.8651  11.1425"
      ]
     },
     "metadata": {},
     "output_type": "display_data"
    },
    {
     "name": "stdout",
     "output_type": "stream",
     "text": [
      "Проверка гипотез о равенстве долей\n",
      "\n",
      "Доля пользователей, посетивших главный экран\n",
      "- H0= доли двух выборок равны\n",
      "- H1= доли двух выборок отличаются\n",
      "p-значение:  0.76489\n",
      "Не получилось отвергнуть нулевую гипотезу, нет оснований считать доли разными\n",
      "\n",
      "Доля пользователей, посетивших страницу предложения\n",
      "- H0= доли двух выборок равны\n",
      "- H1= доли двух выборок отличаются\n",
      "p-значение:  0.27936\n",
      "Не получилось отвергнуть нулевую гипотезу, нет оснований считать доли разными\n",
      "\n",
      "Доля пользвателей, посетивших страницу корзины\n",
      "- H0= доли двух выборок равны\n",
      "- H1= доли двух выборок отличаются\n",
      "p-значение:  0.26911\n",
      "Не получилось отвергнуть нулевую гипотезу, нет оснований считать доли разными\n",
      "\n",
      "Доля пользвателей, посетивших страницу оплаты\n",
      "- H0= доли двух выборок равны\n",
      "- H1= доли двух выборок отличаются\n",
      "p-значение:  0.13991\n",
      "Не получилось отвергнуть нулевую гипотезу, нет оснований считать доли разными\n",
      "\n",
      "Доля пользвателей, посетивших страницу обучения\n",
      "- H0= доли двух выборок равны\n",
      "- H1= доли двух выборок отличаются\n",
      "p-значение:  0.756\n",
      "Не получилось отвергнуть нулевую гипотезу, нет оснований считать доли разными\n"
     ]
    }
   ],
   "source": [
    "def sravnenie_total (group1,group2,alpha):\n",
    "    \n",
    "    pre_pivot=new_log_data[(new_log_data['group']==group1) | (new_log_data['group']==group2) ].pivot_table(index='event'\n",
    "                                                                                                  ,columns='group'\n",
    "                                                                                                  ,values='user_id'\n",
    "                                                                                                  ,aggfunc='count').sort_values(by=group1,ascending=False).reset_index()\n",
    "    user_group1=new_log_data.loc[new_log_data['group']==group1,'user_id'].nunique()\n",
    "    user_group2=new_log_data.loc[new_log_data['group']==group2,'user_id'].nunique()\n",
    "    pivot=new_log_data[(new_log_data['group']==group1) | (new_log_data['group']==group2) ].pivot_table(index='event'\n",
    "                                                                                                  ,columns='group'\n",
    "                                                                                                  ,values='user_id'\n",
    "                                                                                                  ,aggfunc='nunique').sort_values(by=group1,ascending=False).reset_index()\n",
    "    \n",
    "    pivot['share1']=round(pivot[group1]/user_group1*100,4)\n",
    "    pivot['share2']=round(pivot[group2]/user_group2*100,4)\n",
    "    print('Количество событий')\n",
    "    display(pre_pivot)\n",
    "    print()\n",
    "    print('Количество пользователей')\n",
    "    display(pivot)\n",
    "    \n",
    "    print('Проверка гипотез о равенстве долей')\n",
    "\n",
    "    def check_hip(event, name):\n",
    "        print()\n",
    "        print(name)\n",
    "        print('- H0= доли двух выборок равны')\n",
    "        print('- H1= доли двух выборок отличаются')\n",
    "        p1 = pivot.loc[pivot['event']==event,group1].values[0]/user_group1\n",
    "        p2 = pivot.loc[pivot['event']==event,group2].values[0]/user_group2\n",
    "        p_combined = (pivot.loc[pivot['event']==event,group1].values[0]+ pivot.loc[pivot['event']==event,group2].values[0]) / (\n",
    "        user_group1+ user_group2)\n",
    "        difference = p1 - p2\n",
    "        z_value = difference / mth.sqrt(p_combined * (1 - p_combined) * (\n",
    "            1/user_group1 + 1/user_group2))\n",
    "        distr = st.norm(0, 1)\n",
    "        p_value =(1 - distr.cdf(abs(z_value))) * 2 \n",
    "        print('p-значение: ', round(p_value,5))\n",
    "        if (p_value < alpha):\n",
    "            print(\"Отвергаем нулевую гипотезу: между долями есть значимая разница\")\n",
    "        else:\n",
    "            print(\"Не получилось отвергнуть нулевую гипотезу, нет оснований считать доли разными\")\n",
    "    check_hip('MainScreenAppear', 'Доля пользователей, посетивших главный экран')    \n",
    "    check_hip('OffersScreenAppear', 'Доля пользователей, посетивших страницу предложения')    \n",
    "    check_hip('CartScreenAppear', 'Доля пользвателей, посетивших страницу корзины')  \n",
    "    check_hip('PaymentScreenSuccessful', 'Доля пользвателей, посетивших страницу оплаты')\n",
    "    check_hip('Tutorial', 'Доля пользвателей, посетивших страницу обучения')\n",
    "\n",
    "sravnenie_total(246,247,0.05)"
   ]
  },
  {
   "cell_type": "markdown",
   "metadata": {},
   "source": [
    "Статистического различия между долями в контрольных группах нет."
   ]
  },
  {
   "cell_type": "markdown",
   "metadata": {},
   "source": [
    "Проведем проверку гипотезы о равенстве долей между первой контрольной и тестовой группами."
   ]
  },
  {
   "cell_type": "code",
   "execution_count": 22,
   "metadata": {
    "scrolled": false
   },
   "outputs": [
    {
     "name": "stdout",
     "output_type": "stream",
     "text": [
      "Количество событий\n"
     ]
    },
    {
     "data": {
      "text/html": [
       "<div>\n",
       "<style scoped>\n",
       "    .dataframe tbody tr th:only-of-type {\n",
       "        vertical-align: middle;\n",
       "    }\n",
       "\n",
       "    .dataframe tbody tr th {\n",
       "        vertical-align: top;\n",
       "    }\n",
       "\n",
       "    .dataframe thead th {\n",
       "        text-align: right;\n",
       "    }\n",
       "</style>\n",
       "<table border=\"1\" class=\"dataframe\">\n",
       "  <thead>\n",
       "    <tr style=\"text-align: right;\">\n",
       "      <th>group</th>\n",
       "      <th>event</th>\n",
       "      <th>246</th>\n",
       "      <th>248</th>\n",
       "    </tr>\n",
       "  </thead>\n",
       "  <tbody>\n",
       "    <tr>\n",
       "      <td>0</td>\n",
       "      <td>MainScreenAppear</td>\n",
       "      <td>35128</td>\n",
       "      <td>37696</td>\n",
       "    </tr>\n",
       "    <tr>\n",
       "      <td>1</td>\n",
       "      <td>OffersScreenAppear</td>\n",
       "      <td>12595</td>\n",
       "      <td>12702</td>\n",
       "    </tr>\n",
       "    <tr>\n",
       "      <td>2</td>\n",
       "      <td>CartScreenAppear</td>\n",
       "      <td>9333</td>\n",
       "      <td>8984</td>\n",
       "    </tr>\n",
       "    <tr>\n",
       "      <td>3</td>\n",
       "      <td>PaymentScreenSuccessful</td>\n",
       "      <td>7072</td>\n",
       "      <td>6734</td>\n",
       "    </tr>\n",
       "    <tr>\n",
       "      <td>4</td>\n",
       "      <td>Tutorial</td>\n",
       "      <td>301</td>\n",
       "      <td>339</td>\n",
       "    </tr>\n",
       "  </tbody>\n",
       "</table>\n",
       "</div>"
      ],
      "text/plain": [
       "group                    event    246    248\n",
       "0             MainScreenAppear  35128  37696\n",
       "1           OffersScreenAppear  12595  12702\n",
       "2             CartScreenAppear   9333   8984\n",
       "3      PaymentScreenSuccessful   7072   6734\n",
       "4                     Tutorial    301    339"
      ]
     },
     "metadata": {},
     "output_type": "display_data"
    },
    {
     "name": "stdout",
     "output_type": "stream",
     "text": [
      "\n",
      "Количество пользователей\n"
     ]
    },
    {
     "data": {
      "text/html": [
       "<div>\n",
       "<style scoped>\n",
       "    .dataframe tbody tr th:only-of-type {\n",
       "        vertical-align: middle;\n",
       "    }\n",
       "\n",
       "    .dataframe tbody tr th {\n",
       "        vertical-align: top;\n",
       "    }\n",
       "\n",
       "    .dataframe thead th {\n",
       "        text-align: right;\n",
       "    }\n",
       "</style>\n",
       "<table border=\"1\" class=\"dataframe\">\n",
       "  <thead>\n",
       "    <tr style=\"text-align: right;\">\n",
       "      <th>group</th>\n",
       "      <th>event</th>\n",
       "      <th>246</th>\n",
       "      <th>248</th>\n",
       "      <th>share1</th>\n",
       "      <th>share2</th>\n",
       "    </tr>\n",
       "  </thead>\n",
       "  <tbody>\n",
       "    <tr>\n",
       "      <td>0</td>\n",
       "      <td>MainScreenAppear</td>\n",
       "      <td>2406</td>\n",
       "      <td>2440</td>\n",
       "      <td>98.6470</td>\n",
       "      <td>98.2287</td>\n",
       "    </tr>\n",
       "    <tr>\n",
       "      <td>1</td>\n",
       "      <td>OffersScreenAppear</td>\n",
       "      <td>1498</td>\n",
       "      <td>1479</td>\n",
       "      <td>61.4186</td>\n",
       "      <td>59.5411</td>\n",
       "    </tr>\n",
       "    <tr>\n",
       "      <td>2</td>\n",
       "      <td>CartScreenAppear</td>\n",
       "      <td>1222</td>\n",
       "      <td>1179</td>\n",
       "      <td>50.1025</td>\n",
       "      <td>47.4638</td>\n",
       "    </tr>\n",
       "    <tr>\n",
       "      <td>3</td>\n",
       "      <td>PaymentScreenSuccessful</td>\n",
       "      <td>1156</td>\n",
       "      <td>1131</td>\n",
       "      <td>47.3965</td>\n",
       "      <td>45.5314</td>\n",
       "    </tr>\n",
       "    <tr>\n",
       "      <td>4</td>\n",
       "      <td>Tutorial</td>\n",
       "      <td>265</td>\n",
       "      <td>270</td>\n",
       "      <td>10.8651</td>\n",
       "      <td>10.8696</td>\n",
       "    </tr>\n",
       "  </tbody>\n",
       "</table>\n",
       "</div>"
      ],
      "text/plain": [
       "group                    event   246   248   share1   share2\n",
       "0             MainScreenAppear  2406  2440  98.6470  98.2287\n",
       "1           OffersScreenAppear  1498  1479  61.4186  59.5411\n",
       "2             CartScreenAppear  1222  1179  50.1025  47.4638\n",
       "3      PaymentScreenSuccessful  1156  1131  47.3965  45.5314\n",
       "4                     Tutorial   265   270  10.8651  10.8696"
      ]
     },
     "metadata": {},
     "output_type": "display_data"
    },
    {
     "name": "stdout",
     "output_type": "stream",
     "text": [
      "Проверка гипотез о равенстве долей\n",
      "\n",
      "Доля пользователей, посетивших главный экран\n",
      "- H0= доли двух выборок равны\n",
      "- H1= доли двух выборок отличаются\n",
      "p-значение:  0.23693\n",
      "Не получилось отвергнуть нулевую гипотезу, нет оснований считать доли разными\n",
      "\n",
      "Доля пользователей, посетивших страницу предложения\n",
      "- H0= доли двух выборок равны\n",
      "- H1= доли двух выборок отличаются\n",
      "p-значение:  0.17792\n",
      "Не получилось отвергнуть нулевую гипотезу, нет оснований считать доли разными\n",
      "\n",
      "Доля пользвателей, посетивших страницу корзины\n",
      "- H0= доли двух выборок равны\n",
      "- H1= доли двух выборок отличаются\n",
      "p-значение:  0.06404\n",
      "Не получилось отвергнуть нулевую гипотезу, нет оснований считать доли разными\n",
      "\n",
      "Доля пользвателей, посетивших страницу оплаты\n",
      "- H0= доли двух выборок равны\n",
      "- H1= доли двух выборок отличаются\n",
      "p-значение:  0.18957\n",
      "Не получилось отвергнуть нулевую гипотезу, нет оснований считать доли разными\n",
      "\n",
      "Доля пользвателей, посетивших страницу обучения\n",
      "- H0= доли двух выборок равны\n",
      "- H1= доли двух выборок отличаются\n",
      "p-значение:  0.99599\n",
      "Не получилось отвергнуть нулевую гипотезу, нет оснований считать доли разными\n"
     ]
    }
   ],
   "source": [
    "sravnenie_total(246,248,0.05)"
   ]
  },
  {
   "cell_type": "markdown",
   "metadata": {},
   "source": [
    "Статистического различия между долями в группах нет."
   ]
  },
  {
   "cell_type": "markdown",
   "metadata": {},
   "source": [
    "Проведем проверку гипотезы о равенстве долей между второй контрольной и тестовой группами."
   ]
  },
  {
   "cell_type": "code",
   "execution_count": 23,
   "metadata": {
    "scrolled": false
   },
   "outputs": [
    {
     "name": "stdout",
     "output_type": "stream",
     "text": [
      "Количество событий\n"
     ]
    },
    {
     "data": {
      "text/html": [
       "<div>\n",
       "<style scoped>\n",
       "    .dataframe tbody tr th:only-of-type {\n",
       "        vertical-align: middle;\n",
       "    }\n",
       "\n",
       "    .dataframe tbody tr th {\n",
       "        vertical-align: top;\n",
       "    }\n",
       "\n",
       "    .dataframe thead th {\n",
       "        text-align: right;\n",
       "    }\n",
       "</style>\n",
       "<table border=\"1\" class=\"dataframe\">\n",
       "  <thead>\n",
       "    <tr style=\"text-align: right;\">\n",
       "      <th>group</th>\n",
       "      <th>event</th>\n",
       "      <th>247</th>\n",
       "      <th>248</th>\n",
       "    </tr>\n",
       "  </thead>\n",
       "  <tbody>\n",
       "    <tr>\n",
       "      <td>0</td>\n",
       "      <td>MainScreenAppear</td>\n",
       "      <td>37226</td>\n",
       "      <td>37696</td>\n",
       "    </tr>\n",
       "    <tr>\n",
       "      <td>1</td>\n",
       "      <td>OffersScreenAppear</td>\n",
       "      <td>12953</td>\n",
       "      <td>12702</td>\n",
       "    </tr>\n",
       "    <tr>\n",
       "      <td>2</td>\n",
       "      <td>CartScreenAppear</td>\n",
       "      <td>8706</td>\n",
       "      <td>8984</td>\n",
       "    </tr>\n",
       "    <tr>\n",
       "      <td>3</td>\n",
       "      <td>PaymentScreenSuccessful</td>\n",
       "      <td>6573</td>\n",
       "      <td>6734</td>\n",
       "    </tr>\n",
       "    <tr>\n",
       "      <td>4</td>\n",
       "      <td>Tutorial</td>\n",
       "      <td>327</td>\n",
       "      <td>339</td>\n",
       "    </tr>\n",
       "  </tbody>\n",
       "</table>\n",
       "</div>"
      ],
      "text/plain": [
       "group                    event    247    248\n",
       "0             MainScreenAppear  37226  37696\n",
       "1           OffersScreenAppear  12953  12702\n",
       "2             CartScreenAppear   8706   8984\n",
       "3      PaymentScreenSuccessful   6573   6734\n",
       "4                     Tutorial    327    339"
      ]
     },
     "metadata": {},
     "output_type": "display_data"
    },
    {
     "name": "stdout",
     "output_type": "stream",
     "text": [
      "\n",
      "Количество пользователей\n"
     ]
    },
    {
     "data": {
      "text/html": [
       "<div>\n",
       "<style scoped>\n",
       "    .dataframe tbody tr th:only-of-type {\n",
       "        vertical-align: middle;\n",
       "    }\n",
       "\n",
       "    .dataframe tbody tr th {\n",
       "        vertical-align: top;\n",
       "    }\n",
       "\n",
       "    .dataframe thead th {\n",
       "        text-align: right;\n",
       "    }\n",
       "</style>\n",
       "<table border=\"1\" class=\"dataframe\">\n",
       "  <thead>\n",
       "    <tr style=\"text-align: right;\">\n",
       "      <th>group</th>\n",
       "      <th>event</th>\n",
       "      <th>247</th>\n",
       "      <th>248</th>\n",
       "      <th>share1</th>\n",
       "      <th>share2</th>\n",
       "    </tr>\n",
       "  </thead>\n",
       "  <tbody>\n",
       "    <tr>\n",
       "      <td>0</td>\n",
       "      <td>MainScreenAppear</td>\n",
       "      <td>2441</td>\n",
       "      <td>2440</td>\n",
       "      <td>98.5466</td>\n",
       "      <td>98.2287</td>\n",
       "    </tr>\n",
       "    <tr>\n",
       "      <td>1</td>\n",
       "      <td>OffersScreenAppear</td>\n",
       "      <td>1484</td>\n",
       "      <td>1479</td>\n",
       "      <td>59.9112</td>\n",
       "      <td>59.5411</td>\n",
       "    </tr>\n",
       "    <tr>\n",
       "      <td>2</td>\n",
       "      <td>CartScreenAppear</td>\n",
       "      <td>1202</td>\n",
       "      <td>1179</td>\n",
       "      <td>48.5264</td>\n",
       "      <td>47.4638</td>\n",
       "    </tr>\n",
       "    <tr>\n",
       "      <td>3</td>\n",
       "      <td>PaymentScreenSuccessful</td>\n",
       "      <td>1122</td>\n",
       "      <td>1131</td>\n",
       "      <td>45.2967</td>\n",
       "      <td>45.5314</td>\n",
       "    </tr>\n",
       "    <tr>\n",
       "      <td>4</td>\n",
       "      <td>Tutorial</td>\n",
       "      <td>276</td>\n",
       "      <td>270</td>\n",
       "      <td>11.1425</td>\n",
       "      <td>10.8696</td>\n",
       "    </tr>\n",
       "  </tbody>\n",
       "</table>\n",
       "</div>"
      ],
      "text/plain": [
       "group                    event   247   248   share1   share2\n",
       "0             MainScreenAppear  2441  2440  98.5466  98.2287\n",
       "1           OffersScreenAppear  1484  1479  59.9112  59.5411\n",
       "2             CartScreenAppear  1202  1179  48.5264  47.4638\n",
       "3      PaymentScreenSuccessful  1122  1131  45.2967  45.5314\n",
       "4                     Tutorial   276   270  11.1425  10.8696"
      ]
     },
     "metadata": {},
     "output_type": "display_data"
    },
    {
     "name": "stdout",
     "output_type": "stream",
     "text": [
      "Проверка гипотез о равенстве долей\n",
      "\n",
      "Доля пользователей, посетивших главный экран\n",
      "- H0= доли двух выборок равны\n",
      "- H1= доли двух выборок отличаются\n",
      "p-значение:  0.374\n",
      "Не получилось отвергнуть нулевую гипотезу, нет оснований считать доли разными\n",
      "\n",
      "Доля пользователей, посетивших страницу предложения\n",
      "- H0= доли двух выборок равны\n",
      "- H1= доли двух выборок отличаются\n",
      "p-значение:  0.79042\n",
      "Не получилось отвергнуть нулевую гипотезу, нет оснований считать доли разными\n",
      "\n",
      "Доля пользвателей, посетивших страницу корзины\n",
      "- H0= доли двух выборок равны\n",
      "- H1= доли двух выборок отличаются\n",
      "p-значение:  0.4538\n",
      "Не получилось отвергнуть нулевую гипотезу, нет оснований считать доли разными\n",
      "\n",
      "Доля пользвателей, посетивших страницу оплаты\n",
      "- H0= доли двух выборок равны\n",
      "- H1= доли двух выборок отличаются\n",
      "p-значение:  0.86817\n",
      "Не получилось отвергнуть нулевую гипотезу, нет оснований считать доли разными\n",
      "\n",
      "Доля пользвателей, посетивших страницу обучения\n",
      "- H0= доли двух выборок равны\n",
      "- H1= доли двух выборок отличаются\n",
      "p-значение:  0.75874\n",
      "Не получилось отвергнуть нулевую гипотезу, нет оснований считать доли разными\n"
     ]
    }
   ],
   "source": [
    "sravnenie_total(247,248,0.05)"
   ]
  },
  {
   "cell_type": "markdown",
   "metadata": {},
   "source": [
    "Статистического различия между долями в группах нет."
   ]
  },
  {
   "cell_type": "markdown",
   "metadata": {},
   "source": [
    "Проведем проверку гипотезы о равенстве долей между общей контрольной и тестовой группами."
   ]
  },
  {
   "cell_type": "code",
   "execution_count": 25,
   "metadata": {
    "scrolled": false
   },
   "outputs": [
    {
     "name": "stdout",
     "output_type": "stream",
     "text": [
      "Количество событий\n"
     ]
    },
    {
     "data": {
      "text/html": [
       "<div>\n",
       "<style scoped>\n",
       "    .dataframe tbody tr th:only-of-type {\n",
       "        vertical-align: middle;\n",
       "    }\n",
       "\n",
       "    .dataframe tbody tr th {\n",
       "        vertical-align: top;\n",
       "    }\n",
       "\n",
       "    .dataframe thead th {\n",
       "        text-align: right;\n",
       "    }\n",
       "</style>\n",
       "<table border=\"1\" class=\"dataframe\">\n",
       "  <thead>\n",
       "    <tr style=\"text-align: right;\">\n",
       "      <th>group</th>\n",
       "      <th>event</th>\n",
       "      <th>248</th>\n",
       "      <th>control</th>\n",
       "    </tr>\n",
       "  </thead>\n",
       "  <tbody>\n",
       "    <tr>\n",
       "      <td>0</td>\n",
       "      <td>MainScreenAppear</td>\n",
       "      <td>37696</td>\n",
       "      <td>72354</td>\n",
       "    </tr>\n",
       "    <tr>\n",
       "      <td>1</td>\n",
       "      <td>OffersScreenAppear</td>\n",
       "      <td>12702</td>\n",
       "      <td>25548</td>\n",
       "    </tr>\n",
       "    <tr>\n",
       "      <td>2</td>\n",
       "      <td>CartScreenAppear</td>\n",
       "      <td>8984</td>\n",
       "      <td>18039</td>\n",
       "    </tr>\n",
       "    <tr>\n",
       "      <td>3</td>\n",
       "      <td>PaymentScreenSuccessful</td>\n",
       "      <td>6734</td>\n",
       "      <td>13645</td>\n",
       "    </tr>\n",
       "    <tr>\n",
       "      <td>4</td>\n",
       "      <td>Tutorial</td>\n",
       "      <td>339</td>\n",
       "      <td>628</td>\n",
       "    </tr>\n",
       "  </tbody>\n",
       "</table>\n",
       "</div>"
      ],
      "text/plain": [
       "group                    event    248  control\n",
       "0             MainScreenAppear  37696    72354\n",
       "1           OffersScreenAppear  12702    25548\n",
       "2             CartScreenAppear   8984    18039\n",
       "3      PaymentScreenSuccessful   6734    13645\n",
       "4                     Tutorial    339      628"
      ]
     },
     "metadata": {},
     "output_type": "display_data"
    },
    {
     "name": "stdout",
     "output_type": "stream",
     "text": [
      "\n",
      "Количество пользователей\n"
     ]
    },
    {
     "data": {
      "text/html": [
       "<div>\n",
       "<style scoped>\n",
       "    .dataframe tbody tr th:only-of-type {\n",
       "        vertical-align: middle;\n",
       "    }\n",
       "\n",
       "    .dataframe tbody tr th {\n",
       "        vertical-align: top;\n",
       "    }\n",
       "\n",
       "    .dataframe thead th {\n",
       "        text-align: right;\n",
       "    }\n",
       "</style>\n",
       "<table border=\"1\" class=\"dataframe\">\n",
       "  <thead>\n",
       "    <tr style=\"text-align: right;\">\n",
       "      <th>group</th>\n",
       "      <th>event</th>\n",
       "      <th>248</th>\n",
       "      <th>control</th>\n",
       "      <th>share1</th>\n",
       "      <th>share2</th>\n",
       "    </tr>\n",
       "  </thead>\n",
       "  <tbody>\n",
       "    <tr>\n",
       "      <td>0</td>\n",
       "      <td>MainScreenAppear</td>\n",
       "      <td>2440</td>\n",
       "      <td>4847</td>\n",
       "      <td>98.5964</td>\n",
       "      <td>98.2287</td>\n",
       "    </tr>\n",
       "    <tr>\n",
       "      <td>1</td>\n",
       "      <td>OffersScreenAppear</td>\n",
       "      <td>1479</td>\n",
       "      <td>2982</td>\n",
       "      <td>60.6591</td>\n",
       "      <td>59.5411</td>\n",
       "    </tr>\n",
       "    <tr>\n",
       "      <td>2</td>\n",
       "      <td>CartScreenAppear</td>\n",
       "      <td>1179</td>\n",
       "      <td>2424</td>\n",
       "      <td>49.3084</td>\n",
       "      <td>47.4638</td>\n",
       "    </tr>\n",
       "    <tr>\n",
       "      <td>3</td>\n",
       "      <td>PaymentScreenSuccessful</td>\n",
       "      <td>1131</td>\n",
       "      <td>2278</td>\n",
       "      <td>46.3385</td>\n",
       "      <td>45.5314</td>\n",
       "    </tr>\n",
       "    <tr>\n",
       "      <td>4</td>\n",
       "      <td>Tutorial</td>\n",
       "      <td>270</td>\n",
       "      <td>541</td>\n",
       "      <td>11.0049</td>\n",
       "      <td>10.8696</td>\n",
       "    </tr>\n",
       "  </tbody>\n",
       "</table>\n",
       "</div>"
      ],
      "text/plain": [
       "group                    event   248  control   share1   share2\n",
       "0             MainScreenAppear  2440     4847  98.5964  98.2287\n",
       "1           OffersScreenAppear  1479     2982  60.6591  59.5411\n",
       "2             CartScreenAppear  1179     2424  49.3084  47.4638\n",
       "3      PaymentScreenSuccessful  1131     2278  46.3385  45.5314\n",
       "4                     Tutorial   270      541  11.0049  10.8696"
      ]
     },
     "metadata": {},
     "output_type": "display_data"
    },
    {
     "name": "stdout",
     "output_type": "stream",
     "text": [
      "Проверка гипотез о равенстве долей\n",
      "\n",
      "Доля пользователей, посетивших главный экран\n",
      "- H0= доли двух выборок равны\n",
      "- H1= доли двух выборок отличаются\n",
      "p-значение:  0.22312\n",
      "Не получилось отвергнуть нулевую гипотезу, нет оснований считать доли разными\n",
      "\n",
      "Доля пользователей, посетивших страницу предложения\n",
      "- H0= доли двух выборок равны\n",
      "- H1= доли двух выборок отличаются\n",
      "p-значение:  0.35332\n",
      "Не получилось отвергнуть нулевую гипотезу, нет оснований считать доли разными\n",
      "\n",
      "Доля пользвателей, посетивших страницу корзины\n",
      "- H0= доли двух выборок равны\n",
      "- H1= доли двух выборок отличаются\n",
      "p-значение:  0.13383\n",
      "Не получилось отвергнуть нулевую гипотезу, нет оснований считать доли разными\n",
      "\n",
      "Доля пользвателей, посетивших страницу оплаты\n",
      "- H0= доли двух выборок равны\n",
      "- H1= доли двух выборок отличаются\n",
      "p-значение:  0.5107\n",
      "Не получилось отвергнуть нулевую гипотезу, нет оснований считать доли разными\n",
      "\n",
      "Доля пользвателей, посетивших страницу обучения\n",
      "- H0= доли двух выборок равны\n",
      "- H1= доли двух выборок отличаются\n",
      "p-значение:  0.86032\n",
      "Не получилось отвергнуть нулевую гипотезу, нет оснований считать доли разными\n"
     ]
    }
   ],
   "source": [
    "new_log_data.loc[:,'group2']=new_log_data.loc[:,'group']\n",
    "new_log_data.loc[(new_log_data['group']==246)|(new_log_data['group']==247),'group']='control'\n",
    "sravnenie_total('control',248,0.05)"
   ]
  },
  {
   "cell_type": "markdown",
   "metadata": {},
   "source": [
    "Статистического различия между долями в группах нет."
   ]
  },
  {
   "cell_type": "markdown",
   "metadata": {},
   "source": [
    "На этом шаге было проверено 20 гипотез о равенстве долей при уровне значимости 0.05, все из которых не получилось отвергнуть. Если бы был использован уровень значимости 0.1, то из всех гипотез мы приняли бы альтернативную в сравнении первой контрольной группы с тестовой о разнице доли людей, переходящих в корзину. В остальных случаях решение не изменилось бы, нет смысла менять установленный уровень значимости."
   ]
  },
  {
   "cell_type": "markdown",
   "metadata": {},
   "source": [
    "## Шаг 5. Общий вывод <a id=\"step6\"></a> "
   ]
  },
  {
   "cell_type": "markdown",
   "metadata": {},
   "source": [
    "Изучен лог работы приложения стартапа, который продает продукты питания. В изначальном логе содержалось 244 126 события, поделенные на пять категорий, совершенные 7 551 пользователями, разделенными на 3 группы - 2 контрольные и 1 тестовую. Лог был очищен от дублей,отклоняющихся значений и событий из другого периода."
   ]
  },
  {
   "cell_type": "markdown",
   "metadata": {},
   "source": [
    "Большинство пользователей мобильного приложения идет путем \"Главный экран-Корзина-Оплата\", не заглядывая на страницу Предложения и далеко не всегда пользуюясь обучением. 46% пользователей совершают покупку, при этом больше всего сокращается на этапе \"Главный экран-Корзина\"."
   ]
  },
  {
   "cell_type": "markdown",
   "metadata": {},
   "source": [
    "При проведении A/A/B-теста было выявленно, что изменение шрифта никак не отразилось на поведении пользователей, поэтому приложение может продолжать работать дальше как со старыми, так и с новыми шрифтами."
   ]
  }
 ],
 "metadata": {
  "kernelspec": {
   "display_name": "Python 3",
   "language": "python",
   "name": "python3"
  },
  "language_info": {
   "codemirror_mode": {
    "name": "ipython",
    "version": 3
   },
   "file_extension": ".py",
   "mimetype": "text/x-python",
   "name": "python",
   "nbconvert_exporter": "python",
   "pygments_lexer": "ipython3",
   "version": "3.7.6"
  }
 },
 "nbformat": 4,
 "nbformat_minor": 2
}
