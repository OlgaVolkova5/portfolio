{
 "cells": [
  {
   "cell_type": "markdown",
   "metadata": {},
   "source": [
    "# Определение перспективного тарифа для телеком компании\n"
   ]
  },
  {
   "cell_type": "markdown",
   "metadata": {},
   "source": [
    "## Описание проекта"
   ]
  },
  {
   "cell_type": "markdown",
   "metadata": {},
   "source": [
    "## Описание тарифов"
   ]
  },
  {
   "cell_type": "markdown",
   "metadata": {},
   "source": [
    "1. Тариф «Смарт»\n",
    " - Ежемесячная плата: 550 рублей\n",
    " - Включено 500 минут разговора, 50 сообщений и 15 Гб интернет-трафика\n",
    " - Стоимость услуг сверх тарифного пакета:\n",
    " - минута разговора: 3 рубля\n",
    " - сообщение: 3 рубля\n",
    " - 1 Гб интернет-трафика: 200 рублей\n",
    "2. Тариф «Ультра»\n",
    " - Ежемесячная плата: 1950 рублей\n",
    " - Включено 3000 минут разговора, 1000 сообщений и 30 Гб интернет-трафика\n",
    " - Стоимость услуг сверх тарифного пакета:\n",
    " - минута разговора: 1 рубль\n",
    " - сообщение: 1 рубль\n",
    " - 1 Гб интернет-трафика: 150 рублей"
   ]
  },
  {
   "cell_type": "markdown",
   "metadata": {},
   "source": [
    "## Шаг 1. Изучение общей информации"
   ]
  },
  {
   "cell_type": "markdown",
   "metadata": {},
   "source": [
    "Изучим данные из предоставленных данных. Первым рассмотрим данные по тарифам."
   ]
  },
  {
   "cell_type": "code",
   "execution_count": 1,
   "metadata": {
    "scrolled": false
   },
   "outputs": [
    {
     "data": {
      "text/html": [
       "<div>\n",
       "<style scoped>\n",
       "    .dataframe tbody tr th:only-of-type {\n",
       "        vertical-align: middle;\n",
       "    }\n",
       "\n",
       "    .dataframe tbody tr th {\n",
       "        vertical-align: top;\n",
       "    }\n",
       "\n",
       "    .dataframe thead th {\n",
       "        text-align: right;\n",
       "    }\n",
       "</style>\n",
       "<table border=\"1\" class=\"dataframe\">\n",
       "  <thead>\n",
       "    <tr style=\"text-align: right;\">\n",
       "      <th></th>\n",
       "      <th>messages_included</th>\n",
       "      <th>mb_per_month_included</th>\n",
       "      <th>minutes_included</th>\n",
       "      <th>rub_monthly_fee</th>\n",
       "      <th>rub_per_gb</th>\n",
       "      <th>rub_per_message</th>\n",
       "      <th>rub_per_minute</th>\n",
       "      <th>tariff_name</th>\n",
       "    </tr>\n",
       "  </thead>\n",
       "  <tbody>\n",
       "    <tr>\n",
       "      <td>0</td>\n",
       "      <td>50</td>\n",
       "      <td>15360</td>\n",
       "      <td>500</td>\n",
       "      <td>550</td>\n",
       "      <td>200</td>\n",
       "      <td>3</td>\n",
       "      <td>3</td>\n",
       "      <td>smart</td>\n",
       "    </tr>\n",
       "    <tr>\n",
       "      <td>1</td>\n",
       "      <td>1000</td>\n",
       "      <td>30720</td>\n",
       "      <td>3000</td>\n",
       "      <td>1950</td>\n",
       "      <td>150</td>\n",
       "      <td>1</td>\n",
       "      <td>1</td>\n",
       "      <td>ultra</td>\n",
       "    </tr>\n",
       "  </tbody>\n",
       "</table>\n",
       "</div>"
      ],
      "text/plain": [
       "   messages_included  mb_per_month_included  minutes_included  \\\n",
       "0                 50                  15360               500   \n",
       "1               1000                  30720              3000   \n",
       "\n",
       "   rub_monthly_fee  rub_per_gb  rub_per_message  rub_per_minute tariff_name  \n",
       "0              550         200                3               3       smart  \n",
       "1             1950         150                1               1       ultra  "
      ]
     },
     "metadata": {},
     "output_type": "display_data"
    },
    {
     "name": "stdout",
     "output_type": "stream",
     "text": [
      "<class 'pandas.core.frame.DataFrame'>\n",
      "RangeIndex: 2 entries, 0 to 1\n",
      "Data columns (total 8 columns):\n",
      "messages_included        2 non-null int64\n",
      "mb_per_month_included    2 non-null int64\n",
      "minutes_included         2 non-null int64\n",
      "rub_monthly_fee          2 non-null int64\n",
      "rub_per_gb               2 non-null int64\n",
      "rub_per_message          2 non-null int64\n",
      "rub_per_minute           2 non-null int64\n",
      "tariff_name              2 non-null object\n",
      "dtypes: int64(7), object(1)\n",
      "memory usage: 256.0+ bytes\n"
     ]
    },
    {
     "data": {
      "text/plain": [
       "None"
      ]
     },
     "metadata": {},
     "output_type": "display_data"
    }
   ],
   "source": [
    "import pandas as pd\n",
    "from scipy import stats as st\n",
    "import numpy as np\n",
    "import matplotlib.mlab as mlab\n",
    "import matplotlib.pyplot as plt\n",
    "from IPython.display import display\n",
    "tariffs_data = pd.read_csv('/datasets/tariffs.csv')\n",
    "users_data = pd.read_csv('/datasets/users.csv')\n",
    "calls_data = pd.read_csv('/datasets/calls.csv')\n",
    "internet_data = pd.read_csv('/datasets/internet.csv',index_col=0)\n",
    "messages_data = pd.read_csv('/datasets/messages.csv')\n",
    "def head_info(data):\n",
    "    display(data.head(10))\n",
    "    display(data.info())\n",
    "head_info(tariffs_data)"
   ]
  },
  {
   "cell_type": "markdown",
   "metadata": {},
   "source": [
    "Данные по таррифу представляют собой описанную в задании информацию, но записанную в табличной форме. Изучим данные по пользователям."
   ]
  },
  {
   "cell_type": "code",
   "execution_count": 2,
   "metadata": {
    "scrolled": true
   },
   "outputs": [
    {
     "data": {
      "text/html": [
       "<div>\n",
       "<style scoped>\n",
       "    .dataframe tbody tr th:only-of-type {\n",
       "        vertical-align: middle;\n",
       "    }\n",
       "\n",
       "    .dataframe tbody tr th {\n",
       "        vertical-align: top;\n",
       "    }\n",
       "\n",
       "    .dataframe thead th {\n",
       "        text-align: right;\n",
       "    }\n",
       "</style>\n",
       "<table border=\"1\" class=\"dataframe\">\n",
       "  <thead>\n",
       "    <tr style=\"text-align: right;\">\n",
       "      <th></th>\n",
       "      <th>user_id</th>\n",
       "      <th>age</th>\n",
       "      <th>churn_date</th>\n",
       "      <th>city</th>\n",
       "      <th>first_name</th>\n",
       "      <th>last_name</th>\n",
       "      <th>reg_date</th>\n",
       "      <th>tariff</th>\n",
       "    </tr>\n",
       "  </thead>\n",
       "  <tbody>\n",
       "    <tr>\n",
       "      <td>0</td>\n",
       "      <td>1000</td>\n",
       "      <td>52</td>\n",
       "      <td>NaN</td>\n",
       "      <td>Краснодар</td>\n",
       "      <td>Рафаил</td>\n",
       "      <td>Верещагин</td>\n",
       "      <td>2018-05-25</td>\n",
       "      <td>ultra</td>\n",
       "    </tr>\n",
       "    <tr>\n",
       "      <td>1</td>\n",
       "      <td>1001</td>\n",
       "      <td>41</td>\n",
       "      <td>NaN</td>\n",
       "      <td>Москва</td>\n",
       "      <td>Иван</td>\n",
       "      <td>Ежов</td>\n",
       "      <td>2018-11-01</td>\n",
       "      <td>smart</td>\n",
       "    </tr>\n",
       "    <tr>\n",
       "      <td>2</td>\n",
       "      <td>1002</td>\n",
       "      <td>59</td>\n",
       "      <td>NaN</td>\n",
       "      <td>Стерлитамак</td>\n",
       "      <td>Евгений</td>\n",
       "      <td>Абрамович</td>\n",
       "      <td>2018-06-17</td>\n",
       "      <td>smart</td>\n",
       "    </tr>\n",
       "    <tr>\n",
       "      <td>3</td>\n",
       "      <td>1003</td>\n",
       "      <td>23</td>\n",
       "      <td>NaN</td>\n",
       "      <td>Москва</td>\n",
       "      <td>Белла</td>\n",
       "      <td>Белякова</td>\n",
       "      <td>2018-08-17</td>\n",
       "      <td>ultra</td>\n",
       "    </tr>\n",
       "    <tr>\n",
       "      <td>4</td>\n",
       "      <td>1004</td>\n",
       "      <td>68</td>\n",
       "      <td>NaN</td>\n",
       "      <td>Новокузнецк</td>\n",
       "      <td>Татьяна</td>\n",
       "      <td>Авдеенко</td>\n",
       "      <td>2018-05-14</td>\n",
       "      <td>ultra</td>\n",
       "    </tr>\n",
       "    <tr>\n",
       "      <td>5</td>\n",
       "      <td>1005</td>\n",
       "      <td>67</td>\n",
       "      <td>NaN</td>\n",
       "      <td>Набережные Челны</td>\n",
       "      <td>Афанасий</td>\n",
       "      <td>Горлов</td>\n",
       "      <td>2018-01-25</td>\n",
       "      <td>smart</td>\n",
       "    </tr>\n",
       "    <tr>\n",
       "      <td>6</td>\n",
       "      <td>1006</td>\n",
       "      <td>21</td>\n",
       "      <td>NaN</td>\n",
       "      <td>Ульяновск</td>\n",
       "      <td>Леонид</td>\n",
       "      <td>Ермолаев</td>\n",
       "      <td>2018-02-26</td>\n",
       "      <td>smart</td>\n",
       "    </tr>\n",
       "    <tr>\n",
       "      <td>7</td>\n",
       "      <td>1007</td>\n",
       "      <td>65</td>\n",
       "      <td>NaN</td>\n",
       "      <td>Москва</td>\n",
       "      <td>Юна</td>\n",
       "      <td>Березина</td>\n",
       "      <td>2018-04-19</td>\n",
       "      <td>smart</td>\n",
       "    </tr>\n",
       "    <tr>\n",
       "      <td>8</td>\n",
       "      <td>1008</td>\n",
       "      <td>63</td>\n",
       "      <td>NaN</td>\n",
       "      <td>Челябинск</td>\n",
       "      <td>Рустэм</td>\n",
       "      <td>Пономарёв</td>\n",
       "      <td>2018-12-19</td>\n",
       "      <td>smart</td>\n",
       "    </tr>\n",
       "    <tr>\n",
       "      <td>9</td>\n",
       "      <td>1009</td>\n",
       "      <td>24</td>\n",
       "      <td>NaN</td>\n",
       "      <td>Пермь</td>\n",
       "      <td>Василиса</td>\n",
       "      <td>Блинова</td>\n",
       "      <td>2018-03-22</td>\n",
       "      <td>smart</td>\n",
       "    </tr>\n",
       "  </tbody>\n",
       "</table>\n",
       "</div>"
      ],
      "text/plain": [
       "   user_id  age churn_date              city first_name  last_name  \\\n",
       "0     1000   52        NaN         Краснодар     Рафаил  Верещагин   \n",
       "1     1001   41        NaN            Москва       Иван       Ежов   \n",
       "2     1002   59        NaN       Стерлитамак    Евгений  Абрамович   \n",
       "3     1003   23        NaN            Москва      Белла   Белякова   \n",
       "4     1004   68        NaN       Новокузнецк    Татьяна   Авдеенко   \n",
       "5     1005   67        NaN  Набережные Челны   Афанасий     Горлов   \n",
       "6     1006   21        NaN         Ульяновск     Леонид   Ермолаев   \n",
       "7     1007   65        NaN            Москва        Юна   Березина   \n",
       "8     1008   63        NaN         Челябинск     Рустэм  Пономарёв   \n",
       "9     1009   24        NaN             Пермь   Василиса    Блинова   \n",
       "\n",
       "     reg_date tariff  \n",
       "0  2018-05-25  ultra  \n",
       "1  2018-11-01  smart  \n",
       "2  2018-06-17  smart  \n",
       "3  2018-08-17  ultra  \n",
       "4  2018-05-14  ultra  \n",
       "5  2018-01-25  smart  \n",
       "6  2018-02-26  smart  \n",
       "7  2018-04-19  smart  \n",
       "8  2018-12-19  smart  \n",
       "9  2018-03-22  smart  "
      ]
     },
     "metadata": {},
     "output_type": "display_data"
    },
    {
     "name": "stdout",
     "output_type": "stream",
     "text": [
      "<class 'pandas.core.frame.DataFrame'>\n",
      "RangeIndex: 500 entries, 0 to 499\n",
      "Data columns (total 8 columns):\n",
      "user_id       500 non-null int64\n",
      "age           500 non-null int64\n",
      "churn_date    38 non-null object\n",
      "city          500 non-null object\n",
      "first_name    500 non-null object\n",
      "last_name     500 non-null object\n",
      "reg_date      500 non-null object\n",
      "tariff        500 non-null object\n",
      "dtypes: int64(2), object(6)\n",
      "memory usage: 31.4+ KB\n"
     ]
    },
    {
     "data": {
      "text/plain": [
       "None"
      ]
     },
     "metadata": {},
     "output_type": "display_data"
    }
   ],
   "source": [
    "head_info(users_data)"
   ]
  },
  {
   "cell_type": "markdown",
   "metadata": {},
   "source": [
    "Всего у нас в базе информация по пятистам пользователям.Данные по дате прекращения пользования тарифом пропущены по многим данным, но это не отклонения, а правильная информация, так как обозначает что пользователи не прекратили пользоваться тарифом на данный момент."
   ]
  },
  {
   "cell_type": "code",
   "execution_count": 3,
   "metadata": {
    "scrolled": true
   },
   "outputs": [
    {
     "data": {
      "text/html": [
       "<div>\n",
       "<style scoped>\n",
       "    .dataframe tbody tr th:only-of-type {\n",
       "        vertical-align: middle;\n",
       "    }\n",
       "\n",
       "    .dataframe tbody tr th {\n",
       "        vertical-align: top;\n",
       "    }\n",
       "\n",
       "    .dataframe thead th {\n",
       "        text-align: right;\n",
       "    }\n",
       "</style>\n",
       "<table border=\"1\" class=\"dataframe\">\n",
       "  <thead>\n",
       "    <tr style=\"text-align: right;\">\n",
       "      <th></th>\n",
       "      <th>id</th>\n",
       "      <th>call_date</th>\n",
       "      <th>duration</th>\n",
       "      <th>user_id</th>\n",
       "    </tr>\n",
       "  </thead>\n",
       "  <tbody>\n",
       "    <tr>\n",
       "      <td>0</td>\n",
       "      <td>1000_0</td>\n",
       "      <td>2018-07-25</td>\n",
       "      <td>0.00</td>\n",
       "      <td>1000</td>\n",
       "    </tr>\n",
       "    <tr>\n",
       "      <td>1</td>\n",
       "      <td>1000_1</td>\n",
       "      <td>2018-08-17</td>\n",
       "      <td>0.00</td>\n",
       "      <td>1000</td>\n",
       "    </tr>\n",
       "    <tr>\n",
       "      <td>2</td>\n",
       "      <td>1000_2</td>\n",
       "      <td>2018-06-11</td>\n",
       "      <td>2.85</td>\n",
       "      <td>1000</td>\n",
       "    </tr>\n",
       "    <tr>\n",
       "      <td>3</td>\n",
       "      <td>1000_3</td>\n",
       "      <td>2018-09-21</td>\n",
       "      <td>13.80</td>\n",
       "      <td>1000</td>\n",
       "    </tr>\n",
       "    <tr>\n",
       "      <td>4</td>\n",
       "      <td>1000_4</td>\n",
       "      <td>2018-12-15</td>\n",
       "      <td>5.18</td>\n",
       "      <td>1000</td>\n",
       "    </tr>\n",
       "    <tr>\n",
       "      <td>5</td>\n",
       "      <td>1000_5</td>\n",
       "      <td>2018-11-02</td>\n",
       "      <td>0.00</td>\n",
       "      <td>1000</td>\n",
       "    </tr>\n",
       "    <tr>\n",
       "      <td>6</td>\n",
       "      <td>1000_6</td>\n",
       "      <td>2018-10-18</td>\n",
       "      <td>0.00</td>\n",
       "      <td>1000</td>\n",
       "    </tr>\n",
       "    <tr>\n",
       "      <td>7</td>\n",
       "      <td>1000_7</td>\n",
       "      <td>2018-08-22</td>\n",
       "      <td>18.31</td>\n",
       "      <td>1000</td>\n",
       "    </tr>\n",
       "    <tr>\n",
       "      <td>8</td>\n",
       "      <td>1000_8</td>\n",
       "      <td>2018-09-15</td>\n",
       "      <td>18.44</td>\n",
       "      <td>1000</td>\n",
       "    </tr>\n",
       "    <tr>\n",
       "      <td>9</td>\n",
       "      <td>1000_9</td>\n",
       "      <td>2018-08-15</td>\n",
       "      <td>0.00</td>\n",
       "      <td>1000</td>\n",
       "    </tr>\n",
       "  </tbody>\n",
       "</table>\n",
       "</div>"
      ],
      "text/plain": [
       "       id   call_date  duration  user_id\n",
       "0  1000_0  2018-07-25      0.00     1000\n",
       "1  1000_1  2018-08-17      0.00     1000\n",
       "2  1000_2  2018-06-11      2.85     1000\n",
       "3  1000_3  2018-09-21     13.80     1000\n",
       "4  1000_4  2018-12-15      5.18     1000\n",
       "5  1000_5  2018-11-02      0.00     1000\n",
       "6  1000_6  2018-10-18      0.00     1000\n",
       "7  1000_7  2018-08-22     18.31     1000\n",
       "8  1000_8  2018-09-15     18.44     1000\n",
       "9  1000_9  2018-08-15      0.00     1000"
      ]
     },
     "metadata": {},
     "output_type": "display_data"
    },
    {
     "name": "stdout",
     "output_type": "stream",
     "text": [
      "<class 'pandas.core.frame.DataFrame'>\n",
      "RangeIndex: 202607 entries, 0 to 202606\n",
      "Data columns (total 4 columns):\n",
      "id           202607 non-null object\n",
      "call_date    202607 non-null object\n",
      "duration     202607 non-null float64\n",
      "user_id      202607 non-null int64\n",
      "dtypes: float64(1), int64(1), object(2)\n",
      "memory usage: 6.2+ MB\n"
     ]
    },
    {
     "data": {
      "text/plain": [
       "None"
      ]
     },
     "metadata": {},
     "output_type": "display_data"
    }
   ],
   "source": [
    "head_info(calls_data)"
   ]
  },
  {
   "cell_type": "code",
   "execution_count": 4,
   "metadata": {},
   "outputs": [
    {
     "data": {
      "text/plain": [
       "162994"
      ]
     },
     "execution_count": 4,
     "metadata": {},
     "output_type": "execute_result"
    }
   ],
   "source": [
    " calls_data.query('duration!=0')['id'].count()"
   ]
  },
  {
   "cell_type": "code",
   "execution_count": 5,
   "metadata": {},
   "outputs": [
    {
     "data": {
      "text/plain": [
       "1368790.0399999998"
      ]
     },
     "execution_count": 5,
     "metadata": {},
     "output_type": "execute_result"
    }
   ],
   "source": [
    " calls_data['duration'].sum()"
   ]
  },
  {
   "cell_type": "markdown",
   "metadata": {},
   "source": [
    "Исходя из таблицы со звонками мы видим, что ползователями за 2018 год совершено 202 607 звонков. Но, следует отметить, что многие из них нулевые, то есть скорей всего пропущенные. Длительностью больше 0 секунд было совершенно 162 994 звонков на 1 368 790 минут."
   ]
  },
  {
   "cell_type": "code",
   "execution_count": 6,
   "metadata": {
    "scrolled": true
   },
   "outputs": [
    {
     "data": {
      "text/html": [
       "<div>\n",
       "<style scoped>\n",
       "    .dataframe tbody tr th:only-of-type {\n",
       "        vertical-align: middle;\n",
       "    }\n",
       "\n",
       "    .dataframe tbody tr th {\n",
       "        vertical-align: top;\n",
       "    }\n",
       "\n",
       "    .dataframe thead th {\n",
       "        text-align: right;\n",
       "    }\n",
       "</style>\n",
       "<table border=\"1\" class=\"dataframe\">\n",
       "  <thead>\n",
       "    <tr style=\"text-align: right;\">\n",
       "      <th></th>\n",
       "      <th>id</th>\n",
       "      <th>mb_used</th>\n",
       "      <th>session_date</th>\n",
       "      <th>user_id</th>\n",
       "    </tr>\n",
       "  </thead>\n",
       "  <tbody>\n",
       "    <tr>\n",
       "      <td>0</td>\n",
       "      <td>1000_0</td>\n",
       "      <td>112.95</td>\n",
       "      <td>2018-11-25</td>\n",
       "      <td>1000</td>\n",
       "    </tr>\n",
       "    <tr>\n",
       "      <td>1</td>\n",
       "      <td>1000_1</td>\n",
       "      <td>1052.81</td>\n",
       "      <td>2018-09-07</td>\n",
       "      <td>1000</td>\n",
       "    </tr>\n",
       "    <tr>\n",
       "      <td>2</td>\n",
       "      <td>1000_2</td>\n",
       "      <td>1197.26</td>\n",
       "      <td>2018-06-25</td>\n",
       "      <td>1000</td>\n",
       "    </tr>\n",
       "    <tr>\n",
       "      <td>3</td>\n",
       "      <td>1000_3</td>\n",
       "      <td>550.27</td>\n",
       "      <td>2018-08-22</td>\n",
       "      <td>1000</td>\n",
       "    </tr>\n",
       "    <tr>\n",
       "      <td>4</td>\n",
       "      <td>1000_4</td>\n",
       "      <td>302.56</td>\n",
       "      <td>2018-09-24</td>\n",
       "      <td>1000</td>\n",
       "    </tr>\n",
       "    <tr>\n",
       "      <td>5</td>\n",
       "      <td>1000_5</td>\n",
       "      <td>399.97</td>\n",
       "      <td>2018-10-02</td>\n",
       "      <td>1000</td>\n",
       "    </tr>\n",
       "    <tr>\n",
       "      <td>6</td>\n",
       "      <td>1000_6</td>\n",
       "      <td>540.08</td>\n",
       "      <td>2018-09-07</td>\n",
       "      <td>1000</td>\n",
       "    </tr>\n",
       "    <tr>\n",
       "      <td>7</td>\n",
       "      <td>1000_7</td>\n",
       "      <td>415.70</td>\n",
       "      <td>2018-07-11</td>\n",
       "      <td>1000</td>\n",
       "    </tr>\n",
       "    <tr>\n",
       "      <td>8</td>\n",
       "      <td>1000_8</td>\n",
       "      <td>505.40</td>\n",
       "      <td>2018-10-08</td>\n",
       "      <td>1000</td>\n",
       "    </tr>\n",
       "    <tr>\n",
       "      <td>9</td>\n",
       "      <td>1000_9</td>\n",
       "      <td>345.54</td>\n",
       "      <td>2018-09-03</td>\n",
       "      <td>1000</td>\n",
       "    </tr>\n",
       "  </tbody>\n",
       "</table>\n",
       "</div>"
      ],
      "text/plain": [
       "       id  mb_used session_date  user_id\n",
       "0  1000_0   112.95   2018-11-25     1000\n",
       "1  1000_1  1052.81   2018-09-07     1000\n",
       "2  1000_2  1197.26   2018-06-25     1000\n",
       "3  1000_3   550.27   2018-08-22     1000\n",
       "4  1000_4   302.56   2018-09-24     1000\n",
       "5  1000_5   399.97   2018-10-02     1000\n",
       "6  1000_6   540.08   2018-09-07     1000\n",
       "7  1000_7   415.70   2018-07-11     1000\n",
       "8  1000_8   505.40   2018-10-08     1000\n",
       "9  1000_9   345.54   2018-09-03     1000"
      ]
     },
     "metadata": {},
     "output_type": "display_data"
    },
    {
     "name": "stdout",
     "output_type": "stream",
     "text": [
      "<class 'pandas.core.frame.DataFrame'>\n",
      "Int64Index: 149396 entries, 0 to 149395\n",
      "Data columns (total 4 columns):\n",
      "id              149396 non-null object\n",
      "mb_used         149396 non-null float64\n",
      "session_date    149396 non-null object\n",
      "user_id         149396 non-null int64\n",
      "dtypes: float64(1), int64(1), object(2)\n",
      "memory usage: 5.7+ MB\n"
     ]
    },
    {
     "data": {
      "text/plain": [
       "None"
      ]
     },
     "metadata": {},
     "output_type": "display_data"
    }
   ],
   "source": [
    "head_info(internet_data)"
   ]
  },
  {
   "cell_type": "code",
   "execution_count": 7,
   "metadata": {
    "scrolled": false
   },
   "outputs": [
    {
     "data": {
      "text/plain": [
       "55305267.73"
      ]
     },
     "execution_count": 7,
     "metadata": {},
     "output_type": "execute_result"
    }
   ],
   "source": [
    "internet_data['mb_used'].sum()"
   ]
  },
  {
   "cell_type": "markdown",
   "metadata": {},
   "source": [
    "Выходов в интернет было меньше - всего 149396 сессии, в которых переданно 55 305 267.73 мегабайт данных."
   ]
  },
  {
   "cell_type": "code",
   "execution_count": 8,
   "metadata": {
    "scrolled": true
   },
   "outputs": [
    {
     "data": {
      "text/html": [
       "<div>\n",
       "<style scoped>\n",
       "    .dataframe tbody tr th:only-of-type {\n",
       "        vertical-align: middle;\n",
       "    }\n",
       "\n",
       "    .dataframe tbody tr th {\n",
       "        vertical-align: top;\n",
       "    }\n",
       "\n",
       "    .dataframe thead th {\n",
       "        text-align: right;\n",
       "    }\n",
       "</style>\n",
       "<table border=\"1\" class=\"dataframe\">\n",
       "  <thead>\n",
       "    <tr style=\"text-align: right;\">\n",
       "      <th></th>\n",
       "      <th>id</th>\n",
       "      <th>message_date</th>\n",
       "      <th>user_id</th>\n",
       "    </tr>\n",
       "  </thead>\n",
       "  <tbody>\n",
       "    <tr>\n",
       "      <td>0</td>\n",
       "      <td>1000_0</td>\n",
       "      <td>2018-06-27</td>\n",
       "      <td>1000</td>\n",
       "    </tr>\n",
       "    <tr>\n",
       "      <td>1</td>\n",
       "      <td>1000_1</td>\n",
       "      <td>2018-10-08</td>\n",
       "      <td>1000</td>\n",
       "    </tr>\n",
       "    <tr>\n",
       "      <td>2</td>\n",
       "      <td>1000_2</td>\n",
       "      <td>2018-08-04</td>\n",
       "      <td>1000</td>\n",
       "    </tr>\n",
       "    <tr>\n",
       "      <td>3</td>\n",
       "      <td>1000_3</td>\n",
       "      <td>2018-06-16</td>\n",
       "      <td>1000</td>\n",
       "    </tr>\n",
       "    <tr>\n",
       "      <td>4</td>\n",
       "      <td>1000_4</td>\n",
       "      <td>2018-12-05</td>\n",
       "      <td>1000</td>\n",
       "    </tr>\n",
       "    <tr>\n",
       "      <td>5</td>\n",
       "      <td>1000_5</td>\n",
       "      <td>2018-06-20</td>\n",
       "      <td>1000</td>\n",
       "    </tr>\n",
       "    <tr>\n",
       "      <td>6</td>\n",
       "      <td>1000_6</td>\n",
       "      <td>2018-11-19</td>\n",
       "      <td>1000</td>\n",
       "    </tr>\n",
       "    <tr>\n",
       "      <td>7</td>\n",
       "      <td>1000_7</td>\n",
       "      <td>2018-10-29</td>\n",
       "      <td>1000</td>\n",
       "    </tr>\n",
       "    <tr>\n",
       "      <td>8</td>\n",
       "      <td>1000_8</td>\n",
       "      <td>2018-06-25</td>\n",
       "      <td>1000</td>\n",
       "    </tr>\n",
       "    <tr>\n",
       "      <td>9</td>\n",
       "      <td>1000_9</td>\n",
       "      <td>2018-12-18</td>\n",
       "      <td>1000</td>\n",
       "    </tr>\n",
       "  </tbody>\n",
       "</table>\n",
       "</div>"
      ],
      "text/plain": [
       "       id message_date  user_id\n",
       "0  1000_0   2018-06-27     1000\n",
       "1  1000_1   2018-10-08     1000\n",
       "2  1000_2   2018-08-04     1000\n",
       "3  1000_3   2018-06-16     1000\n",
       "4  1000_4   2018-12-05     1000\n",
       "5  1000_5   2018-06-20     1000\n",
       "6  1000_6   2018-11-19     1000\n",
       "7  1000_7   2018-10-29     1000\n",
       "8  1000_8   2018-06-25     1000\n",
       "9  1000_9   2018-12-18     1000"
      ]
     },
     "metadata": {},
     "output_type": "display_data"
    },
    {
     "name": "stdout",
     "output_type": "stream",
     "text": [
      "<class 'pandas.core.frame.DataFrame'>\n",
      "RangeIndex: 123036 entries, 0 to 123035\n",
      "Data columns (total 3 columns):\n",
      "id              123036 non-null object\n",
      "message_date    123036 non-null object\n",
      "user_id         123036 non-null int64\n",
      "dtypes: int64(1), object(2)\n",
      "memory usage: 2.8+ MB\n"
     ]
    },
    {
     "data": {
      "text/plain": [
       "None"
      ]
     },
     "metadata": {},
     "output_type": "display_data"
    }
   ],
   "source": [
    "head_info(messages_data)"
   ]
  },
  {
   "cell_type": "markdown",
   "metadata": {},
   "source": [
    "Сообщений отправлено еще меньше - 123 036 штук."
   ]
  },
  {
   "cell_type": "markdown",
   "metadata": {},
   "source": [
    "### Вывод"
   ]
  },
  {
   "cell_type": "markdown",
   "metadata": {},
   "source": [
    "Массив данных состоит из пяти таблиц по активности 500 пользователей,поделенных на 2 тарифных. Выявоенно, что только 38 пользователя отказалось от тарифа, остальные продолжают им пользоваться. Всего пользователями было совершено 202 607 звонков, из них 162 994 не пропущено. Их общая длительность составила 1 368 790 минут. В интернет пользователи выходили 149 396 раз, в которых переданно 55 305 267.73 мегабайт данных. Пользователями было отправленно 123 036 сообщений."
   ]
  },
  {
   "cell_type": "markdown",
   "metadata": {},
   "source": [
    "Описание таблиц:"
   ]
  },
  {
   "cell_type": "markdown",
   "metadata": {},
   "source": [
    "1. Таблица tariffs (информация о тарифах):\n",
    " - tariff_name — название тарифа\n",
    " - rub_monthly_fee — ежемесячная абонентская плата в рублях\n",
    " - minutes_included — количество минут разговора в месяц, включённых в абонентскую плату\n",
    " - messages_included — количество сообщений в месяц, включённых в абонентскую плату\n",
    " - mb_per_month_included — объём интернет-трафика, включённого в абонентскую плату (в мегабайтах)\n",
    " - rub_per_minute — стоимость минуты разговора сверх тарифного пакета (например, если в тарифе 100 минут разговора в месяц, то со 101 минуты будет взиматься плата)\n",
    " - rub_per_message — стоимость отправки сообщения сверх тарифного пакета\n",
    " - rub_per_gb — стоимость дополнительного гигабайта интернет-трафика сверх тарифного пакета (1 гигабайт = 1024 мегабайта)\n",
    "2. Таблица users (информация о пользователях):\n",
    " - user_id — уникальный идентификатор пользователя\n",
    " - first_name — имя пользователя\n",
    " - last_name — фамилия пользователя\n",
    " - age — возраст пользователя (годы)\n",
    " - reg_date — дата подключения тарифа (день, месяц, год)\n",
    " - churn_date — дата прекращения пользования тарифом (если значение пропущено, то тариф ещё действовал на момент выгрузки данных)\n",
    " - city — город проживания пользователя\n",
    " - tariff — название тарифного плана\n",
    "3. Таблица calls (информация о звонках):\n",
    " - id — уникальный номер звонка\n",
    " - call_date — дата звонка\n",
    " - duration — длительность звонка в минутах\n",
    " - user_id — идентификатор пользователя, сделавшего звонок\n",
    "4. Таблица messages (информация о сообщениях):\n",
    " - id — уникальный номер сообщения\n",
    " - message_date — дата сообщения\n",
    " - user_id — идентификатор пользователя, отправившего сообщение\n",
    "5. Таблица internet (информация об интернет-сессиях):\n",
    " - id — уникальный номер сессии\n",
    " - mb_used — объём потраченного за сессию интернет-трафика (в мегабайтах)\n",
    " - session_date — дата интернет-сессии\n",
    " - user_id — идентификатор пользователя\n"
   ]
  },
  {
   "cell_type": "markdown",
   "metadata": {},
   "source": [
    "## Шаг 2. Подготовка и обработка данных"
   ]
  },
  {
   "cell_type": "markdown",
   "metadata": {},
   "source": [
    "Рассмотрим поподробнее данные по каждой таблице. Среди звонков можно наблюдать огромное количество значений, равных нулю. Скорей всего, это пропущенные звонки,то есть по факту не совершенные и сброшенные, но которые в итоге значительно искозят нам статистику. "
   ]
  },
  {
   "cell_type": "code",
   "execution_count": 9,
   "metadata": {
    "scrolled": false
   },
   "outputs": [
    {
     "name": "stdout",
     "output_type": "stream",
     "text": [
      "Статистика по duration\n",
      "count    202607.000000\n",
      "mean          6.755887\n",
      "std           5.843365\n",
      "min           0.000000\n",
      "25%           1.300000\n",
      "50%           6.000000\n",
      "75%          10.700000\n",
      "max          38.000000\n",
      "Name: duration, dtype: float64\n"
     ]
    },
    {
     "data": {
      "text/plain": [
       "Text(0.5, 0, 'Длительность, минут')"
      ]
     },
     "execution_count": 9,
     "metadata": {},
     "output_type": "execute_result"
    },
    {
     "data": {
      "image/png": "[encoded data removed]",
      "text/plain": [
       "<Figure size 432x288 with 1 Axes>"
      ]
     },
     "metadata": {
      "needs_background": "light"
     },
     "output_type": "display_data"
    }
   ],
   "source": [
    "def info(data,column):\n",
    "    data[column].hist(bins=100)\n",
    "    print('Статистика по',column)\n",
    "    print(data[column].describe())\n",
    "    plt.title(column)\n",
    "info(calls_data,'duration')\n",
    "plt.xlabel('Длительность, минут')"
   ]
  },
  {
   "cell_type": "markdown",
   "metadata": {},
   "source": [
    "Удалим все звонки с нулевыми значениями. Они никак не влияют ни на выручку, ни на использование пакета минут, но искажают данные. Кроме того, удалим все звонки длительностью более 25 минут- их мало относительно общего объема выборка, но они искажают наши данные. Кроме того, округлим данные в большую сторону по условиям тарифов. С удаленными отклонениями средняя продолжительность звонка выросла."
   ]
  },
  {
   "cell_type": "markdown",
   "metadata": {},
   "source": [
    "Добавим параллельный датафрейм, из которого не будем исключать выбросы. Он нам нужен для сопоставления анализа по выручке."
   ]
  },
  {
   "cell_type": "code",
   "execution_count": 10,
   "metadata": {
    "scrolled": false
   },
   "outputs": [
    {
     "name": "stderr",
     "output_type": "stream",
     "text": [
      "/opt/conda/lib/python3.7/site-packages/pandas/core/ops/__init__.py:1115: FutureWarning: elementwise comparison failed; returning scalar instead, but in the future will perform elementwise comparison\n",
      "  result = method(y)\n"
     ]
    },
    {
     "name": "stdout",
     "output_type": "stream",
     "text": [
      "Количество звонков длительностью более 25 минут - 678\n",
      "Статистика по duration\n",
      "count    162312.000000\n",
      "mean          8.819021\n",
      "std           5.222890\n",
      "min           1.000000\n",
      "25%           5.000000\n",
      "50%           8.000000\n",
      "75%          12.000000\n",
      "max          25.000000\n",
      "Name: duration, dtype: float64\n"
     ]
    },
    {
     "data": {
      "text/plain": [
       "Text(0.5, 0, 'Длительность, минут')"
      ]
     },
     "execution_count": 10,
     "metadata": {},
     "output_type": "execute_result"
    },
    {
     "data": {
      "image/png": "[encoded data removed]",
      "text/plain": [
       "<Figure size 432x288 with 1 Axes>"
      ]
     },
     "metadata": {
      "needs_background": "light"
     },
     "output_type": "display_data"
    }
   ],
   "source": [
    "calls_data[calls_data['duration']==0]= calls_data[calls_data['duration']=='NaN']\n",
    "print('Количество звонков длительностью более 25 минут -',calls_data.query('duration>25')['id'].count())\n",
    "calls_data_full=calls_data.dropna()\n",
    "calls_data=calls_data.dropna().query('duration<25')\n",
    "calls_data_full['duration']=calls_data_full['duration'].apply(np.ceil).astype('int')\n",
    "calls_data['duration']=calls_data['duration'].apply(np.ceil).astype('int')\n",
    "info(calls_data,'duration')\n",
    "plt.xlabel('Длительность, минут')"
   ]
  },
  {
   "cell_type": "markdown",
   "metadata": {},
   "source": [
    "Для дальнейшего анализа переведем данные по дате в удобный формат и создадим дополнительный столбец с месяцами.\n",
    "По графику видим, что сильно выбивается столбик примерно в районе 31 декабря. Учитывая, что в этот период люди обычно звонят и поздравляют всех с новым годом, данные не выглядят странными, просто отражают особенности поведения."
   ]
  },
  {
   "cell_type": "code",
   "execution_count": 11,
   "metadata": {
    "scrolled": false
   },
   "outputs": [
    {
     "name": "stderr",
     "output_type": "stream",
     "text": [
      "/opt/conda/lib/python3.7/site-packages/pandas/plotting/_matplotlib/converter.py:103: FutureWarning: Using an implicitly registered datetime converter for a matplotlib plotting method. The converter was registered by pandas on import. Future versions of pandas will require you to explicitly register matplotlib converters.\n",
      "\n",
      "To register the converters:\n",
      "\t>>> from pandas.plotting import register_matplotlib_converters\n",
      "\t>>> register_matplotlib_converters()\n",
      "  warnings.warn(msg, FutureWarning)\n"
     ]
    },
    {
     "data": {
      "text/plain": [
       "Text(0.5, 0, 'День звонка')"
      ]
     },
     "execution_count": 11,
     "metadata": {},
     "output_type": "execute_result"
    },
    {
     "data": {
      "image/png": "[encoded data removed]",
      "text/plain": [
       "<Figure size 432x288 with 1 Axes>"
      ]
     },
     "metadata": {
      "needs_background": "light"
     },
     "output_type": "display_data"
    }
   ],
   "source": [
    "def month_info(data,column):\n",
    "    data[column]= pd.to_datetime(data[column], format='%Y-%m-%d')\n",
    "    data['month']=data[column].dt.month\n",
    "    data[column].hist(bins=365)\n",
    "    plt.title(column)\n",
    "month_info(calls_data_full,'call_date')\n",
    "month_info(calls_data,'call_date')\n",
    "plt.xlabel('День звонка')"
   ]
  },
  {
   "cell_type": "markdown",
   "metadata": {},
   "source": [
    "Если построить данные по кварталам, то видно, что количество звонков нарастает довольно равномерно."
   ]
  },
  {
   "cell_type": "code",
   "execution_count": 12,
   "metadata": {
    "scrolled": false
   },
   "outputs": [
    {
     "data": {
      "text/plain": [
       "Text(0.5, 0, 'Месяц звонка')"
      ]
     },
     "execution_count": 12,
     "metadata": {},
     "output_type": "execute_result"
    },
    {
     "data": {
      "image/png": "[encoded data removed]",
      "text/plain": [
       "<Figure size 432x288 with 1 Axes>"
      ]
     },
     "metadata": {
      "needs_background": "light"
     },
     "output_type": "display_data"
    }
   ],
   "source": [
    "calls_data['month'].hist(bins=[0,3.01,6.01,9.01,12.01], alpha=0.5)\n",
    "plt.title('Звонки по месяцам')\n",
    "plt.xlabel('Месяц звонка')"
   ]
  },
  {
   "cell_type": "markdown",
   "metadata": {},
   "source": [
    "Сгруппируем даные по пользователям, чтобы понять, сколько в среднем они совершают звонков за год."
   ]
  },
  {
   "cell_type": "code",
   "execution_count": 13,
   "metadata": {
    "scrolled": false
   },
   "outputs": [
    {
     "name": "stdout",
     "output_type": "stream",
     "text": [
      "Статистика по call_quantity\n",
      "count     492.000000\n",
      "mean      329.902439\n",
      "std       234.073645\n",
      "min         7.000000\n",
      "25%       143.000000\n",
      "50%       277.500000\n",
      "75%       470.750000\n",
      "max      1414.000000\n",
      "Name: call_quantity, dtype: float64\n"
     ]
    },
    {
     "data": {
      "text/plain": [
       "Text(0.5, 0, 'Количество звонков')"
      ]
     },
     "execution_count": 13,
     "metadata": {},
     "output_type": "execute_result"
    },
    {
     "data": {
      "image/png": "[encoded data removed]",
      "text/plain": [
       "<Figure size 432x288 with 1 Axes>"
      ]
     },
     "metadata": {
      "needs_background": "light"
     },
     "output_type": "display_data"
    }
   ],
   "source": [
    "calls = calls_data.pivot_table(index=['user_id'],\n",
    "                                      values='id',\n",
    "                                      aggfunc=('count'))\n",
    "calls.columns=['call_quantity']\n",
    "calls.sort_values(by='call_quantity',ascending=False)\n",
    "info(calls,'call_quantity')\n",
    "plt.xlabel('Количество звонков')"
   ]
  },
  {
   "cell_type": "markdown",
   "metadata": {},
   "source": [
    "Основной массив пользователей совершает до 1000 звонков в год, удалим пользователей, лежащих за этими пределами. В среднем каждый пользователь совершает 322 звонка в год."
   ]
  },
  {
   "cell_type": "code",
   "execution_count": 14,
   "metadata": {
    "scrolled": false
   },
   "outputs": [
    {
     "name": "stdout",
     "output_type": "stream",
     "text": [
      "Статистика по call_quantity\n",
      "count    488.000000\n",
      "mean     321.956967\n",
      "std      217.642220\n",
      "min        7.000000\n",
      "25%      142.750000\n",
      "50%      276.500000\n",
      "75%      466.250000\n",
      "max      976.000000\n",
      "Name: call_quantity, dtype: float64\n"
     ]
    },
    {
     "data": {
      "text/plain": [
       "Text(0.5, 0, 'Количество звонков')"
      ]
     },
     "execution_count": 14,
     "metadata": {},
     "output_type": "execute_result"
    },
    {
     "data": {
      "image/png": "[encoded data removed]",
      "text/plain": [
       "<Figure size 432x288 with 1 Axes>"
      ]
     },
     "metadata": {
      "needs_background": "light"
     },
     "output_type": "display_data"
    }
   ],
   "source": [
    "call_good_ids = calls.query('call_quantity < 1000')\n",
    "call_good_data = calls_data.query('user_id in @call_good_ids.index ')\n",
    "calls_good = call_good_data.pivot_table(index=['user_id'],\n",
    "                                      values='id',\n",
    "                                      aggfunc=('count'))\n",
    "calls_good.columns=['call_quantity']\n",
    "def info_big(data,column):\n",
    "    data.sort_values(by=column,ascending=False).hist(bins=10)\n",
    "    print('Статистика по',column)\n",
    "    print(data[column].describe())\n",
    "info_big(calls_good,'call_quantity')\n",
    "plt.xlabel('Количество звонков')"
   ]
  },
  {
   "cell_type": "markdown",
   "metadata": {},
   "source": [
    "Посмотрим, сколько говорит по длительности каждый пользователь за год. В целом, график похож на предыдущий, что скорей всего связанно с зависимостью этих параметров. друг от друга."
   ]
  },
  {
   "cell_type": "code",
   "execution_count": 15,
   "metadata": {
    "scrolled": false
   },
   "outputs": [
    {
     "name": "stdout",
     "output_type": "stream",
     "text": [
      "Статистика по duration\n",
      "count     488.000000\n",
      "mean     2838.506148\n",
      "std      1914.440973\n",
      "min        66.000000\n",
      "25%      1264.750000\n",
      "50%      2442.500000\n",
      "75%      4140.500000\n",
      "max      8634.000000\n",
      "Name: duration, dtype: float64\n"
     ]
    },
    {
     "data": {
      "text/plain": [
       "Text(0.5, 0, 'Длительность, минут')"
      ]
     },
     "execution_count": 15,
     "metadata": {},
     "output_type": "execute_result"
    },
    {
     "data": {
      "image/png": "[encoded data removed]",
      "text/plain": [
       "<Figure size 432x288 with 1 Axes>"
      ]
     },
     "metadata": {
      "needs_background": "light"
     },
     "output_type": "display_data"
    }
   ],
   "source": [
    "calls_duration = call_good_data.pivot_table(index=['user_id'],\n",
    "                                      values='duration',\n",
    "                                      aggfunc=('sum'))\n",
    "info_big(calls_duration,'duration')\n",
    "plt.xlabel('Длительность, минут')"
   ]
  },
  {
   "cell_type": "markdown",
   "metadata": {},
   "source": [
    "Сгруппируем данные по месяцам для того, чтобы потом удобнее было объединять с данными по интернету и сообщениями. Проделаем ту же операцию с данными без отсеевания отклоняющихся значений"
   ]
  },
  {
   "cell_type": "code",
   "execution_count": 16,
   "metadata": {
    "scrolled": false
   },
   "outputs": [
    {
     "data": {
      "text/html": [
       "<div>\n",
       "<style scoped>\n",
       "    .dataframe tbody tr th:only-of-type {\n",
       "        vertical-align: middle;\n",
       "    }\n",
       "\n",
       "    .dataframe tbody tr th {\n",
       "        vertical-align: top;\n",
       "    }\n",
       "\n",
       "    .dataframe thead th {\n",
       "        text-align: right;\n",
       "    }\n",
       "</style>\n",
       "<table border=\"1\" class=\"dataframe\">\n",
       "  <thead>\n",
       "    <tr style=\"text-align: right;\">\n",
       "      <th></th>\n",
       "      <th></th>\n",
       "      <th>call_quantity</th>\n",
       "      <th>call_duration_total</th>\n",
       "    </tr>\n",
       "    <tr>\n",
       "      <th>user_id</th>\n",
       "      <th>month</th>\n",
       "      <th></th>\n",
       "      <th></th>\n",
       "    </tr>\n",
       "  </thead>\n",
       "  <tbody>\n",
       "    <tr>\n",
       "      <td rowspan=\"8\" valign=\"top\">1000.0</td>\n",
       "      <td>5</td>\n",
       "      <td>17</td>\n",
       "      <td>159</td>\n",
       "    </tr>\n",
       "    <tr>\n",
       "      <td>6</td>\n",
       "      <td>28</td>\n",
       "      <td>172</td>\n",
       "    </tr>\n",
       "    <tr>\n",
       "      <td>7</td>\n",
       "      <td>41</td>\n",
       "      <td>340</td>\n",
       "    </tr>\n",
       "    <tr>\n",
       "      <td>8</td>\n",
       "      <td>42</td>\n",
       "      <td>408</td>\n",
       "    </tr>\n",
       "    <tr>\n",
       "      <td>9</td>\n",
       "      <td>46</td>\n",
       "      <td>466</td>\n",
       "    </tr>\n",
       "    <tr>\n",
       "      <td>10</td>\n",
       "      <td>44</td>\n",
       "      <td>350</td>\n",
       "    </tr>\n",
       "    <tr>\n",
       "      <td>11</td>\n",
       "      <td>37</td>\n",
       "      <td>338</td>\n",
       "    </tr>\n",
       "    <tr>\n",
       "      <td>12</td>\n",
       "      <td>38</td>\n",
       "      <td>333</td>\n",
       "    </tr>\n",
       "    <tr>\n",
       "      <td rowspan=\"2\" valign=\"top\">1001.0</td>\n",
       "      <td>11</td>\n",
       "      <td>45</td>\n",
       "      <td>430</td>\n",
       "    </tr>\n",
       "    <tr>\n",
       "      <td>12</td>\n",
       "      <td>47</td>\n",
       "      <td>414</td>\n",
       "    </tr>\n",
       "  </tbody>\n",
       "</table>\n",
       "</div>"
      ],
      "text/plain": [
       "               call_quantity  call_duration_total\n",
       "user_id month                                    \n",
       "1000.0  5                 17                  159\n",
       "        6                 28                  172\n",
       "        7                 41                  340\n",
       "        8                 42                  408\n",
       "        9                 46                  466\n",
       "        10                44                  350\n",
       "        11                37                  338\n",
       "        12                38                  333\n",
       "1001.0  11                45                  430\n",
       "        12                47                  414"
      ]
     },
     "execution_count": 16,
     "metadata": {},
     "output_type": "execute_result"
    },
    {
     "data": {
      "image/png": "[encoded data removed]",
      "text/plain": [
       "<Figure size 432x288 with 1 Axes>"
      ]
     },
     "metadata": {
      "needs_background": "light"
     },
     "output_type": "display_data"
    }
   ],
   "source": [
    "calls_month_full = calls_data_full.pivot_table(index=['user_id','month'],\n",
    "                                      values='duration',\n",
    "                                      aggfunc=('count','sum'))\n",
    "calls_month_full.columns=['call_quantity','call_duration_total']\n",
    "calls_month = call_good_data.pivot_table(index=['user_id','month'],\n",
    "                                      values='duration',\n",
    "                                      aggfunc=('count','sum'))\n",
    "calls_month.columns=['call_quantity','call_duration_total']\n",
    "\n",
    "calls_month['call_duration_total'].hist(bins=100, label='До')\n",
    "calls_month=calls_month.query('call_duration_total< 1000')\n",
    "calls_month['call_duration_total'].hist(bins=100, label='После')\n",
    "plt.xlabel('Суммарная длительность звонков, минут')\n",
    "plt.legend(loc='upper right')\n",
    "plt.title('Длительность звонков за месяц')\n",
    "\n",
    "calls_month.head(10)"
   ]
  },
  {
   "cell_type": "markdown",
   "metadata": {},
   "source": [
    "Обработаем теперь данные по интернету. Столкнулись с такой же проблемой, как и в звонках - обилие \"нулевых\" выходов в интернет. Возможно это какие-либо случайные выходы в интернет, или неверное засчитывание начала сессии. Исправим это таким же методом, потому что выхода в интернет с нулевым использованием мегабайт быть не может."
   ]
  },
  {
   "cell_type": "code",
   "execution_count": 17,
   "metadata": {
    "scrolled": false
   },
   "outputs": [
    {
     "name": "stdout",
     "output_type": "stream",
     "text": [
      "Статистика по mb_used\n",
      "count    149396.000000\n",
      "mean        370.192426\n",
      "std         278.300951\n",
      "min           0.000000\n",
      "25%         138.187500\n",
      "50%         348.015000\n",
      "75%         559.552500\n",
      "max        1724.830000\n",
      "Name: mb_used, dtype: float64\n"
     ]
    },
    {
     "data": {
      "text/plain": [
       "Text(0.5, 0, 'Количество мегабайт')"
      ]
     },
     "execution_count": 17,
     "metadata": {},
     "output_type": "execute_result"
    },
    {
     "data": {
      "image/png": "[encoded data removed]",
      "text/plain": [
       "<Figure size 432x288 with 1 Axes>"
      ]
     },
     "metadata": {
      "needs_background": "light"
     },
     "output_type": "display_data"
    }
   ],
   "source": [
    "info(internet_data,'mb_used')\n",
    "plt.xlabel('Количество мегабайт')"
   ]
  },
  {
   "cell_type": "markdown",
   "metadata": {},
   "source": [
    "В данном случае кроме нулевых выходов уберем длинный хвост после 1100 МБ, чтобы уменьшить искажения. Кроме того, округлим значения по трафику до целого вверх по условиям тарифа. Создадим так же датафрейм со всеми значениями кроме нулевых"
   ]
  },
  {
   "cell_type": "code",
   "execution_count": 18,
   "metadata": {
    "scrolled": true
   },
   "outputs": [
    {
     "name": "stdout",
     "output_type": "stream",
     "text": [
      "Количество сессий, в которые потрачено более 1100 МБ- 1252\n",
      "Статистика по mb_used\n",
      "count    128546.000000\n",
      "mean        418.987320\n",
      "std         244.722936\n",
      "min           1.000000\n",
      "25%         226.000000\n",
      "50%         398.000000\n",
      "75%         587.000000\n",
      "max        1100.000000\n",
      "Name: mb_used, dtype: float64\n"
     ]
    },
    {
     "data": {
      "text/plain": [
       "Text(0.5, 0, 'Количество мегабайт')"
      ]
     },
     "execution_count": 18,
     "metadata": {},
     "output_type": "execute_result"
    },
    {
     "data": {
      "image/png": "[encoded data removed]",
      "text/plain": [
       "<Figure size 432x288 with 1 Axes>"
      ]
     },
     "metadata": {
      "needs_background": "light"
     },
     "output_type": "display_data"
    }
   ],
   "source": [
    "internet_data[internet_data['mb_used']==0]=internet_data[internet_data['mb_used']=='NaN']\n",
    "print('Количество сессий, в которые потрачено более 1100 МБ-',internet_data.query('mb_used>1100')['id'].count())\n",
    "internet_data_full=internet_data.dropna()\n",
    "internet_data=internet_data.dropna().query('mb_used<1100')\n",
    "internet_data_full['mb_used']=internet_data_full['mb_used'].apply(np.ceil).astype('int')\n",
    "internet_data['mb_used']=internet_data['mb_used'].apply(np.ceil).astype('int')\n",
    "info(internet_data,'mb_used')\n",
    "plt.xlabel('Количество мегабайт')"
   ]
  },
  {
   "cell_type": "markdown",
   "metadata": {},
   "source": [
    "По передаче данных значения очень похожи на то, что мы видели по звонкам. Опять крупный пик приходится на новый год."
   ]
  },
  {
   "cell_type": "code",
   "execution_count": 19,
   "metadata": {
    "scrolled": false
   },
   "outputs": [
    {
     "data": {
      "text/plain": [
       "Text(0.5, 0, 'Дата сессии')"
      ]
     },
     "execution_count": 19,
     "metadata": {},
     "output_type": "execute_result"
    },
    {
     "data": {
      "image/png": "[encoded data removed]",
      "text/plain": [
       "<Figure size 432x288 with 1 Axes>"
      ]
     },
     "metadata": {
      "needs_background": "light"
     },
     "output_type": "display_data"
    }
   ],
   "source": [
    "month_info(internet_data_full,'session_date')\n",
    "month_info(internet_data,'session_date')\n",
    "plt.xlabel('Дата сессии')"
   ]
  },
  {
   "cell_type": "code",
   "execution_count": 20,
   "metadata": {
    "scrolled": true
   },
   "outputs": [
    {
     "data": {
      "text/plain": [
       "Text(0.5, 0, 'Месяц сессии')"
      ]
     },
     "execution_count": 20,
     "metadata": {},
     "output_type": "execute_result"
    },
    {
     "data": {
      "image/png": "[encoded data removed]",
      "text/plain": [
       "<Figure size 432x288 with 1 Axes>"
      ]
     },
     "metadata": {
      "needs_background": "light"
     },
     "output_type": "display_data"
    }
   ],
   "source": [
    "internet_data['month'].hist(bins=[0,3.01,6.01,9.01,12.01], alpha=0.5)\n",
    "plt.title('Сессии по месяцам')\n",
    "plt.xlabel('Месяц сессии')\n"
   ]
  },
  {
   "cell_type": "markdown",
   "metadata": {},
   "source": [
    "Изучим информацию по количеству сессий на пользователя."
   ]
  },
  {
   "cell_type": "code",
   "execution_count": 21,
   "metadata": {
    "scrolled": false
   },
   "outputs": [
    {
     "name": "stdout",
     "output_type": "stream",
     "text": [
      "Статистика по session_quantity\n",
      "count    497.000000\n",
      "mean     258.643863\n",
      "std      157.268134\n",
      "min        8.000000\n",
      "25%      130.000000\n",
      "50%      237.000000\n",
      "75%      358.000000\n",
      "max      715.000000\n",
      "Name: session_quantity, dtype: float64\n"
     ]
    },
    {
     "data": {
      "text/plain": [
       "Text(0.5, 0, 'Количество сессий')"
      ]
     },
     "execution_count": 21,
     "metadata": {},
     "output_type": "execute_result"
    },
    {
     "data": {
      "image/png": "[encoded data removed]",
      "text/plain": [
       "<Figure size 432x288 with 1 Axes>"
      ]
     },
     "metadata": {
      "needs_background": "light"
     },
     "output_type": "display_data"
    }
   ],
   "source": [
    "internet = internet_data.pivot_table(index=['user_id'],\n",
    "                                      values='id',\n",
    "                                      aggfunc=('count'))\n",
    "internet.columns=['session_quantity']\n",
    "internet.sort_values(by='session_quantity',ascending=False)\n",
    "info(internet,'session_quantity' )\n",
    "plt.xlabel('Количество сессий')"
   ]
  },
  {
   "cell_type": "markdown",
   "metadata": {},
   "source": [
    "В целом, выделяются только пользователи с количеством сессий больше 650. Уберем их из нашей статистики."
   ]
  },
  {
   "cell_type": "code",
   "execution_count": 22,
   "metadata": {
    "scrolled": false
   },
   "outputs": [
    {
     "name": "stdout",
     "output_type": "stream",
     "text": [
      "Статистика по session_quantity\n",
      "count    493.000000\n",
      "mean     255.048682\n",
      "std      152.722161\n",
      "min        8.000000\n",
      "25%      130.000000\n",
      "50%      235.000000\n",
      "75%      355.000000\n",
      "max      643.000000\n",
      "Name: session_quantity, dtype: float64\n"
     ]
    },
    {
     "data": {
      "text/plain": [
       "Text(0.5, 0, 'Количество сессий')"
      ]
     },
     "execution_count": 22,
     "metadata": {},
     "output_type": "execute_result"
    },
    {
     "data": {
      "image/png": "[encoded data removed]",
      "text/plain": [
       "<Figure size 432x288 with 1 Axes>"
      ]
     },
     "metadata": {
      "needs_background": "light"
     },
     "output_type": "display_data"
    }
   ],
   "source": [
    "internet_good_ids = internet.query('session_quantity < 650')\n",
    "internet_good_data = internet_data.query('user_id in @internet_good_ids.index ')\n",
    "internet_good = internet_good_data.pivot_table(index=['user_id'],\n",
    "                                      values='id',\n",
    "                                      aggfunc=('count'))\n",
    "internet_good.columns=['session_quantity']\n",
    "info_big(internet_good,'session_quantity' )\n",
    "plt.xlabel('Количество сессий')"
   ]
  },
  {
   "cell_type": "markdown",
   "metadata": {},
   "source": [
    "В среднем на одного пользователя приходится за год 255 сессии. Изучим количество мегабайтов, которое они при этом тратят."
   ]
  },
  {
   "cell_type": "code",
   "execution_count": 23,
   "metadata": {
    "scrolled": false
   },
   "outputs": [
    {
     "name": "stdout",
     "output_type": "stream",
     "text": [
      "Статистика по mb_used\n",
      "count       493.000000\n",
      "mean     106729.018256\n",
      "std       65529.458341\n",
      "min        4608.000000\n",
      "25%       52940.000000\n",
      "50%       98640.000000\n",
      "75%      148109.000000\n",
      "max      322800.000000\n",
      "Name: mb_used, dtype: float64\n"
     ]
    },
    {
     "data": {
      "text/plain": [
       "Text(0.5, 0, 'Количество мегабайт')"
      ]
     },
     "execution_count": 23,
     "metadata": {},
     "output_type": "execute_result"
    },
    {
     "data": {
      "image/png": "[encoded data removed]",
      "text/plain": [
       "<Figure size 432x288 with 1 Axes>"
      ]
     },
     "metadata": {
      "needs_background": "light"
     },
     "output_type": "display_data"
    }
   ],
   "source": [
    "internet_mb = internet_good_data.pivot_table(index=['user_id'],\n",
    "                                      values='mb_used',\n",
    "                                      aggfunc=('sum'))\n",
    "info_big(internet_mb ,'mb_used')\n",
    "plt.xlabel('Количество мегабайт')"
   ]
  },
  {
   "cell_type": "markdown",
   "metadata": {},
   "source": [
    "Данные по сумарному трафику не так похожи на данные по количеству сессий, как данные по сумарной длительности звонков и количество звонков, но в целом тенденции совпадают. Сгруппируем данные по месяцам."
   ]
  },
  {
   "cell_type": "code",
   "execution_count": 24,
   "metadata": {
    "scrolled": false
   },
   "outputs": [
    {
     "data": {
      "text/html": [
       "<div>\n",
       "<style scoped>\n",
       "    .dataframe tbody tr th:only-of-type {\n",
       "        vertical-align: middle;\n",
       "    }\n",
       "\n",
       "    .dataframe tbody tr th {\n",
       "        vertical-align: top;\n",
       "    }\n",
       "\n",
       "    .dataframe thead th {\n",
       "        text-align: right;\n",
       "    }\n",
       "</style>\n",
       "<table border=\"1\" class=\"dataframe\">\n",
       "  <thead>\n",
       "    <tr style=\"text-align: right;\">\n",
       "      <th></th>\n",
       "      <th></th>\n",
       "      <th>session_quantity</th>\n",
       "      <th>mb_used_total</th>\n",
       "    </tr>\n",
       "    <tr>\n",
       "      <th>user_id</th>\n",
       "      <th>month</th>\n",
       "      <th></th>\n",
       "      <th></th>\n",
       "    </tr>\n",
       "  </thead>\n",
       "  <tbody>\n",
       "    <tr>\n",
       "      <td rowspan=\"8\" valign=\"top\">1000.0</td>\n",
       "      <td>5</td>\n",
       "      <td>4</td>\n",
       "      <td>2256</td>\n",
       "    </tr>\n",
       "    <tr>\n",
       "      <td>6</td>\n",
       "      <td>43</td>\n",
       "      <td>22059</td>\n",
       "    </tr>\n",
       "    <tr>\n",
       "      <td>7</td>\n",
       "      <td>28</td>\n",
       "      <td>14016</td>\n",
       "    </tr>\n",
       "    <tr>\n",
       "      <td>8</td>\n",
       "      <td>27</td>\n",
       "      <td>14070</td>\n",
       "    </tr>\n",
       "    <tr>\n",
       "      <td>9</td>\n",
       "      <td>25</td>\n",
       "      <td>14581</td>\n",
       "    </tr>\n",
       "    <tr>\n",
       "      <td>10</td>\n",
       "      <td>27</td>\n",
       "      <td>14717</td>\n",
       "    </tr>\n",
       "    <tr>\n",
       "      <td>11</td>\n",
       "      <td>20</td>\n",
       "      <td>11046</td>\n",
       "    </tr>\n",
       "    <tr>\n",
       "      <td>12</td>\n",
       "      <td>19</td>\n",
       "      <td>9827</td>\n",
       "    </tr>\n",
       "    <tr>\n",
       "      <td rowspan=\"2\" valign=\"top\">1001.0</td>\n",
       "      <td>11</td>\n",
       "      <td>47</td>\n",
       "      <td>18452</td>\n",
       "    </tr>\n",
       "    <tr>\n",
       "      <td>12</td>\n",
       "      <td>35</td>\n",
       "      <td>14053</td>\n",
       "    </tr>\n",
       "  </tbody>\n",
       "</table>\n",
       "</div>"
      ],
      "text/plain": [
       "               session_quantity  mb_used_total\n",
       "user_id month                                 \n",
       "1000.0  5                     4           2256\n",
       "        6                    43          22059\n",
       "        7                    28          14016\n",
       "        8                    27          14070\n",
       "        9                    25          14581\n",
       "        10                   27          14717\n",
       "        11                   20          11046\n",
       "        12                   19           9827\n",
       "1001.0  11                   47          18452\n",
       "        12                   35          14053"
      ]
     },
     "execution_count": 24,
     "metadata": {},
     "output_type": "execute_result"
    },
    {
     "data": {
      "image/png": "[encoded data removed]",
      "text/plain": [
       "<Figure size 432x288 with 1 Axes>"
      ]
     },
     "metadata": {
      "needs_background": "light"
     },
     "output_type": "display_data"
    }
   ],
   "source": [
    "internet_month_full = internet_data_full.pivot_table(index=['user_id','month'],\n",
    "                                      values='mb_used',\n",
    "                                      aggfunc=('count','sum'))\n",
    "internet_month_full.columns=['session_quantity','mb_used_total']\n",
    "internet_month = internet_good_data.pivot_table(index=['user_id','month'],\n",
    "                                      values='mb_used',\n",
    "                                      aggfunc=('count','sum'))\n",
    "internet_month.columns=['session_quantity','mb_used_total']\n",
    "\n",
    "internet_month['mb_used_total'].hist(bins=50, label='До')\n",
    "internet_month=internet_month.query('mb_used_total<40000')\n",
    "internet_month['mb_used_total'].hist(bins=50, label='После')\n",
    "plt.xlabel('Суммарный трафик, мегабайт')\n",
    "plt.legend(loc='upper right')\n",
    "plt.title('Трафик в месяц')\n",
    "internet_month.head(10)"
   ]
  },
  {
   "cell_type": "markdown",
   "metadata": {},
   "source": [
    "Рассмотрим данные по сообщениям. У них нет дополнительных параметров, кроме даты. Поэтому рассмотрим сначала её. Опять всплекс в районе 31 декабря, продолжение общей тенденции."
   ]
  },
  {
   "cell_type": "code",
   "execution_count": 25,
   "metadata": {
    "scrolled": true
   },
   "outputs": [
    {
     "data": {
      "text/plain": [
       "Text(0.5, 0, 'Количество сообщений')"
      ]
     },
     "execution_count": 25,
     "metadata": {},
     "output_type": "execute_result"
    },
    {
     "data": {
      "image/png": "[encoded data removed]",
      "text/plain": [
       "<Figure size 432x288 with 1 Axes>"
      ]
     },
     "metadata": {
      "needs_background": "light"
     },
     "output_type": "display_data"
    }
   ],
   "source": [
    "month_info(messages_data,'message_date')\n",
    "plt.xlabel('Количество сообщений')"
   ]
  },
  {
   "cell_type": "code",
   "execution_count": 26,
   "metadata": {
    "scrolled": false
   },
   "outputs": [
    {
     "data": {
      "text/plain": [
       "Text(0.5, 0, 'Месяц сообщения')"
      ]
     },
     "execution_count": 26,
     "metadata": {},
     "output_type": "execute_result"
    },
    {
     "data": {
      "image/png": "[encoded data removed]",
      "text/plain": [
       "<Figure size 432x288 with 1 Axes>"
      ]
     },
     "metadata": {
      "needs_background": "light"
     },
     "output_type": "display_data"
    }
   ],
   "source": [
    "messages_data['month'].hist(bins=[0,3.01,6.01,9.01,12.01], alpha=0.5)\n",
    "plt.title('Сообщения по месяцам')\n",
    "plt.xlabel('Месяц сообщения')"
   ]
  },
  {
   "cell_type": "markdown",
   "metadata": {},
   "source": [
    "Рассмотрим количество сообщений, приходящееся на каждого пользователя"
   ]
  },
  {
   "cell_type": "code",
   "execution_count": 27,
   "metadata": {
    "scrolled": false
   },
   "outputs": [
    {
     "name": "stdout",
     "output_type": "stream",
     "text": [
      "Статистика по message_quantity\n",
      "count     426.000000\n",
      "mean      288.816901\n",
      "std       267.607552\n",
      "min         1.000000\n",
      "25%        85.750000\n",
      "50%       215.500000\n",
      "75%       414.000000\n",
      "max      1463.000000\n",
      "Name: message_quantity, dtype: float64\n"
     ]
    },
    {
     "data": {
      "text/plain": [
       "Text(0.5, 0, 'Количество сообщений')"
      ]
     },
     "execution_count": 27,
     "metadata": {},
     "output_type": "execute_result"
    },
    {
     "data": {
      "image/png": "[encoded data removed]",
      "text/plain": [
       "<Figure size 432x288 with 1 Axes>"
      ]
     },
     "metadata": {
      "needs_background": "light"
     },
     "output_type": "display_data"
    }
   ],
   "source": [
    "messages = messages_data.pivot_table(index=['user_id'],\n",
    "                                      values='id',\n",
    "                                      aggfunc=('count'))\n",
    "messages.columns=['message_quantity']\n",
    "messages.sort_values(by='message_quantity',ascending=False)\n",
    "info(messages,'message_quantity' )\n",
    "plt.xlabel('Количество сообщений')"
   ]
  },
  {
   "cell_type": "markdown",
   "metadata": {},
   "source": [
    "Убираем из дальнейшего анализа гиперактивных пользователей, которые шлют больше 1000 сообщений за год."
   ]
  },
  {
   "cell_type": "code",
   "execution_count": 28,
   "metadata": {
    "scrolled": false
   },
   "outputs": [
    {
     "name": "stdout",
     "output_type": "stream",
     "text": [
      "Статистика по session_quantity\n",
      "count    416.000000\n",
      "mean     265.766827\n",
      "std      224.025001\n",
      "min        1.000000\n",
      "25%       84.000000\n",
      "50%      208.500000\n",
      "75%      396.750000\n",
      "max      944.000000\n",
      "Name: session_quantity, dtype: float64\n"
     ]
    },
    {
     "data": {
      "text/plain": [
       "Text(0.5, 0, 'Количество сообщений')"
      ]
     },
     "execution_count": 28,
     "metadata": {},
     "output_type": "execute_result"
    },
    {
     "data": {
      "image/png": "[encoded data removed]",
      "text/plain": [
       "<Figure size 432x288 with 1 Axes>"
      ]
     },
     "metadata": {
      "needs_background": "light"
     },
     "output_type": "display_data"
    }
   ],
   "source": [
    "messages_good_ids = messages.query('message_quantity < 1000')\n",
    "messages_good_data = messages_data.query('user_id in @messages_good_ids.index ')\n",
    "messages_good = messages_good_data.pivot_table(index=['user_id'],\n",
    "                                      values='id',\n",
    "                                      aggfunc=('count'))\n",
    "messages_good.columns=['session_quantity']\n",
    "info_big(messages_good,'session_quantity' )\n",
    "plt.xlabel('Количество сообщений')"
   ]
  },
  {
   "cell_type": "markdown",
   "metadata": {},
   "source": [
    "Группируем по месяцам для дальнейшего анализа."
   ]
  },
  {
   "cell_type": "code",
   "execution_count": 29,
   "metadata": {
    "scrolled": false
   },
   "outputs": [
    {
     "data": {
      "text/html": [
       "<div>\n",
       "<style scoped>\n",
       "    .dataframe tbody tr th:only-of-type {\n",
       "        vertical-align: middle;\n",
       "    }\n",
       "\n",
       "    .dataframe tbody tr th {\n",
       "        vertical-align: top;\n",
       "    }\n",
       "\n",
       "    .dataframe thead th {\n",
       "        text-align: right;\n",
       "    }\n",
       "</style>\n",
       "<table border=\"1\" class=\"dataframe\">\n",
       "  <thead>\n",
       "    <tr style=\"text-align: right;\">\n",
       "      <th></th>\n",
       "      <th></th>\n",
       "      <th>message_total</th>\n",
       "    </tr>\n",
       "    <tr>\n",
       "      <th>user_id</th>\n",
       "      <th>month</th>\n",
       "      <th></th>\n",
       "    </tr>\n",
       "  </thead>\n",
       "  <tbody>\n",
       "    <tr>\n",
       "      <td rowspan=\"8\" valign=\"top\">1000</td>\n",
       "      <td>5</td>\n",
       "      <td>22</td>\n",
       "    </tr>\n",
       "    <tr>\n",
       "      <td>6</td>\n",
       "      <td>60</td>\n",
       "    </tr>\n",
       "    <tr>\n",
       "      <td>7</td>\n",
       "      <td>75</td>\n",
       "    </tr>\n",
       "    <tr>\n",
       "      <td>8</td>\n",
       "      <td>81</td>\n",
       "    </tr>\n",
       "    <tr>\n",
       "      <td>9</td>\n",
       "      <td>57</td>\n",
       "    </tr>\n",
       "    <tr>\n",
       "      <td>10</td>\n",
       "      <td>73</td>\n",
       "    </tr>\n",
       "    <tr>\n",
       "      <td>11</td>\n",
       "      <td>58</td>\n",
       "    </tr>\n",
       "    <tr>\n",
       "      <td>12</td>\n",
       "      <td>70</td>\n",
       "    </tr>\n",
       "    <tr>\n",
       "      <td rowspan=\"2\" valign=\"top\">1002</td>\n",
       "      <td>6</td>\n",
       "      <td>4</td>\n",
       "    </tr>\n",
       "    <tr>\n",
       "      <td>7</td>\n",
       "      <td>11</td>\n",
       "    </tr>\n",
       "  </tbody>\n",
       "</table>\n",
       "</div>"
      ],
      "text/plain": [
       "               message_total\n",
       "user_id month               \n",
       "1000    5                 22\n",
       "        6                 60\n",
       "        7                 75\n",
       "        8                 81\n",
       "        9                 57\n",
       "        10                73\n",
       "        11                58\n",
       "        12                70\n",
       "1002    6                  4\n",
       "        7                 11"
      ]
     },
     "execution_count": 29,
     "metadata": {},
     "output_type": "execute_result"
    },
    {
     "data": {
      "image/png": "[encoded data removed]",
      "text/plain": [
       "<Figure size 432x288 with 1 Axes>"
      ]
     },
     "metadata": {
      "needs_background": "light"
     },
     "output_type": "display_data"
    }
   ],
   "source": [
    "messages_month_full = messages_data.pivot_table(index=['user_id','month'],\n",
    "                                      values='id',\n",
    "                                      aggfunc='count')\n",
    "messages_month_full.columns=['message_total']\n",
    "messages_month = messages_good_data.pivot_table(index=['user_id','month'],\n",
    "                                      values='id',\n",
    "                                      aggfunc='count')\n",
    "messages_month.columns=['message_total']\n",
    "messages_month['message_total'].hist(bins=50, label='До')\n",
    "messages_month=messages_month.query('message_total<150')\n",
    "messages_month['message_total'].hist(bins=50, label='После')\n",
    "plt.xlabel('Суммарное количество сообщений')\n",
    "plt.legend(loc='upper right')\n",
    "plt.title('Отправка сообщений в месяц')\n",
    "messages_month.head(10)\n"
   ]
  },
  {
   "cell_type": "markdown",
   "metadata": {},
   "source": [
    "Соединим таблицы по месяцам используя метод join."
   ]
  },
  {
   "cell_type": "code",
   "execution_count": 30,
   "metadata": {
    "scrolled": true
   },
   "outputs": [
    {
     "data": {
      "text/html": [
       "<div>\n",
       "<style scoped>\n",
       "    .dataframe tbody tr th:only-of-type {\n",
       "        vertical-align: middle;\n",
       "    }\n",
       "\n",
       "    .dataframe tbody tr th {\n",
       "        vertical-align: top;\n",
       "    }\n",
       "\n",
       "    .dataframe thead th {\n",
       "        text-align: right;\n",
       "    }\n",
       "</style>\n",
       "<table border=\"1\" class=\"dataframe\">\n",
       "  <thead>\n",
       "    <tr style=\"text-align: right;\">\n",
       "      <th></th>\n",
       "      <th></th>\n",
       "      <th>call_quantity</th>\n",
       "      <th>call_duration_total</th>\n",
       "      <th>session_quantity</th>\n",
       "      <th>mb_used_total</th>\n",
       "      <th>message_total</th>\n",
       "    </tr>\n",
       "    <tr>\n",
       "      <th>user_id</th>\n",
       "      <th>month</th>\n",
       "      <th></th>\n",
       "      <th></th>\n",
       "      <th></th>\n",
       "      <th></th>\n",
       "      <th></th>\n",
       "    </tr>\n",
       "  </thead>\n",
       "  <tbody>\n",
       "    <tr>\n",
       "      <td rowspan=\"5\" valign=\"top\">1000.0</td>\n",
       "      <td>5</td>\n",
       "      <td>17.0</td>\n",
       "      <td>159.0</td>\n",
       "      <td>4.0</td>\n",
       "      <td>2256.0</td>\n",
       "      <td>22.0</td>\n",
       "    </tr>\n",
       "    <tr>\n",
       "      <td>6</td>\n",
       "      <td>28.0</td>\n",
       "      <td>172.0</td>\n",
       "      <td>43.0</td>\n",
       "      <td>22059.0</td>\n",
       "      <td>60.0</td>\n",
       "    </tr>\n",
       "    <tr>\n",
       "      <td>7</td>\n",
       "      <td>41.0</td>\n",
       "      <td>340.0</td>\n",
       "      <td>28.0</td>\n",
       "      <td>14016.0</td>\n",
       "      <td>75.0</td>\n",
       "    </tr>\n",
       "    <tr>\n",
       "      <td>8</td>\n",
       "      <td>42.0</td>\n",
       "      <td>408.0</td>\n",
       "      <td>27.0</td>\n",
       "      <td>14070.0</td>\n",
       "      <td>81.0</td>\n",
       "    </tr>\n",
       "    <tr>\n",
       "      <td>9</td>\n",
       "      <td>46.0</td>\n",
       "      <td>466.0</td>\n",
       "      <td>25.0</td>\n",
       "      <td>14581.0</td>\n",
       "      <td>57.0</td>\n",
       "    </tr>\n",
       "  </tbody>\n",
       "</table>\n",
       "</div>"
      ],
      "text/plain": [
       "               call_quantity  call_duration_total  session_quantity  \\\n",
       "user_id month                                                         \n",
       "1000.0  5               17.0                159.0               4.0   \n",
       "        6               28.0                172.0              43.0   \n",
       "        7               41.0                340.0              28.0   \n",
       "        8               42.0                408.0              27.0   \n",
       "        9               46.0                466.0              25.0   \n",
       "\n",
       "               mb_used_total  message_total  \n",
       "user_id month                                \n",
       "1000.0  5             2256.0           22.0  \n",
       "        6            22059.0           60.0  \n",
       "        7            14016.0           75.0  \n",
       "        8            14070.0           81.0  \n",
       "        9            14581.0           57.0  "
      ]
     },
     "execution_count": 30,
     "metadata": {},
     "output_type": "execute_result"
    }
   ],
   "source": [
    "calls_internet=calls_month.join(internet_month,on=['user_id','month'],how='outer')\n",
    "calls_internet_messages=calls_internet.join(messages_month,on=['user_id','month'],how='outer')\n",
    "calls_internet_full=calls_month_full.join(internet_month_full,on=['user_id','month'],how='outer')\n",
    "calls_internet_messages_full=calls_internet_full.join(messages_month_full,on=['user_id','month'],how='outer')\n",
    "calls_internet_messages.head()"
   ]
  },
  {
   "cell_type": "markdown",
   "metadata": {},
   "source": [
    "Чтобы работать с полученной таблицей дальше, нам нужно изучить данные по пользователям в целом. Для начала узнаем, каким был первый месяц, в течение которого пользователь использовал тариф полностью. Необходимо это для того, чтобы выделить группу данных, пригодных для сравнения. А сравнивать поведение пользователя, использовавшего тариф всего пять дней с пользователем, который использовал тариф все 30 дней, лишенно смысла и может исказить результаты.\n",
    "Для этого у пользователей, которые подключились к тарифу не 1 числа, значение месяца регистрации округлим вверх."
   ]
  },
  {
   "cell_type": "code",
   "execution_count": 31,
   "metadata": {
    "scrolled": true
   },
   "outputs": [
    {
     "data": {
      "text/html": [
       "<div>\n",
       "<style scoped>\n",
       "    .dataframe tbody tr th:only-of-type {\n",
       "        vertical-align: middle;\n",
       "    }\n",
       "\n",
       "    .dataframe tbody tr th {\n",
       "        vertical-align: top;\n",
       "    }\n",
       "\n",
       "    .dataframe thead th {\n",
       "        text-align: right;\n",
       "    }\n",
       "</style>\n",
       "<table border=\"1\" class=\"dataframe\">\n",
       "  <thead>\n",
       "    <tr style=\"text-align: right;\">\n",
       "      <th></th>\n",
       "      <th>user_id</th>\n",
       "      <th>age</th>\n",
       "      <th>churn_date</th>\n",
       "      <th>city</th>\n",
       "      <th>first_name</th>\n",
       "      <th>last_name</th>\n",
       "      <th>reg_date</th>\n",
       "      <th>tariff</th>\n",
       "      <th>reg_month</th>\n",
       "      <th>reg_day</th>\n",
       "    </tr>\n",
       "  </thead>\n",
       "  <tbody>\n",
       "    <tr>\n",
       "      <td>0</td>\n",
       "      <td>1000</td>\n",
       "      <td>52</td>\n",
       "      <td>NaN</td>\n",
       "      <td>Краснодар</td>\n",
       "      <td>Рафаил</td>\n",
       "      <td>Верещагин</td>\n",
       "      <td>2018-05-25</td>\n",
       "      <td>ultra</td>\n",
       "      <td>6</td>\n",
       "      <td>25</td>\n",
       "    </tr>\n",
       "    <tr>\n",
       "      <td>1</td>\n",
       "      <td>1001</td>\n",
       "      <td>41</td>\n",
       "      <td>NaN</td>\n",
       "      <td>Москва</td>\n",
       "      <td>Иван</td>\n",
       "      <td>Ежов</td>\n",
       "      <td>2018-11-01</td>\n",
       "      <td>smart</td>\n",
       "      <td>11</td>\n",
       "      <td>1</td>\n",
       "    </tr>\n",
       "    <tr>\n",
       "      <td>2</td>\n",
       "      <td>1002</td>\n",
       "      <td>59</td>\n",
       "      <td>NaN</td>\n",
       "      <td>Стерлитамак</td>\n",
       "      <td>Евгений</td>\n",
       "      <td>Абрамович</td>\n",
       "      <td>2018-06-17</td>\n",
       "      <td>smart</td>\n",
       "      <td>7</td>\n",
       "      <td>17</td>\n",
       "    </tr>\n",
       "    <tr>\n",
       "      <td>3</td>\n",
       "      <td>1003</td>\n",
       "      <td>23</td>\n",
       "      <td>NaN</td>\n",
       "      <td>Москва</td>\n",
       "      <td>Белла</td>\n",
       "      <td>Белякова</td>\n",
       "      <td>2018-08-17</td>\n",
       "      <td>ultra</td>\n",
       "      <td>9</td>\n",
       "      <td>17</td>\n",
       "    </tr>\n",
       "    <tr>\n",
       "      <td>4</td>\n",
       "      <td>1004</td>\n",
       "      <td>68</td>\n",
       "      <td>NaN</td>\n",
       "      <td>Новокузнецк</td>\n",
       "      <td>Татьяна</td>\n",
       "      <td>Авдеенко</td>\n",
       "      <td>2018-05-14</td>\n",
       "      <td>ultra</td>\n",
       "      <td>6</td>\n",
       "      <td>14</td>\n",
       "    </tr>\n",
       "    <tr>\n",
       "      <td>5</td>\n",
       "      <td>1005</td>\n",
       "      <td>67</td>\n",
       "      <td>NaN</td>\n",
       "      <td>Набережные Челны</td>\n",
       "      <td>Афанасий</td>\n",
       "      <td>Горлов</td>\n",
       "      <td>2018-01-25</td>\n",
       "      <td>smart</td>\n",
       "      <td>2</td>\n",
       "      <td>25</td>\n",
       "    </tr>\n",
       "    <tr>\n",
       "      <td>6</td>\n",
       "      <td>1006</td>\n",
       "      <td>21</td>\n",
       "      <td>NaN</td>\n",
       "      <td>Ульяновск</td>\n",
       "      <td>Леонид</td>\n",
       "      <td>Ермолаев</td>\n",
       "      <td>2018-02-26</td>\n",
       "      <td>smart</td>\n",
       "      <td>3</td>\n",
       "      <td>26</td>\n",
       "    </tr>\n",
       "    <tr>\n",
       "      <td>7</td>\n",
       "      <td>1007</td>\n",
       "      <td>65</td>\n",
       "      <td>NaN</td>\n",
       "      <td>Москва</td>\n",
       "      <td>Юна</td>\n",
       "      <td>Березина</td>\n",
       "      <td>2018-04-19</td>\n",
       "      <td>smart</td>\n",
       "      <td>5</td>\n",
       "      <td>19</td>\n",
       "    </tr>\n",
       "    <tr>\n",
       "      <td>8</td>\n",
       "      <td>1008</td>\n",
       "      <td>63</td>\n",
       "      <td>NaN</td>\n",
       "      <td>Челябинск</td>\n",
       "      <td>Рустэм</td>\n",
       "      <td>Пономарёв</td>\n",
       "      <td>2018-12-19</td>\n",
       "      <td>smart</td>\n",
       "      <td>13</td>\n",
       "      <td>19</td>\n",
       "    </tr>\n",
       "    <tr>\n",
       "      <td>9</td>\n",
       "      <td>1009</td>\n",
       "      <td>24</td>\n",
       "      <td>NaN</td>\n",
       "      <td>Пермь</td>\n",
       "      <td>Василиса</td>\n",
       "      <td>Блинова</td>\n",
       "      <td>2018-03-22</td>\n",
       "      <td>smart</td>\n",
       "      <td>4</td>\n",
       "      <td>22</td>\n",
       "    </tr>\n",
       "  </tbody>\n",
       "</table>\n",
       "</div>"
      ],
      "text/plain": [
       "   user_id  age churn_date              city first_name  last_name   reg_date  \\\n",
       "0     1000   52        NaN         Краснодар     Рафаил  Верещагин 2018-05-25   \n",
       "1     1001   41        NaN            Москва       Иван       Ежов 2018-11-01   \n",
       "2     1002   59        NaN       Стерлитамак    Евгений  Абрамович 2018-06-17   \n",
       "3     1003   23        NaN            Москва      Белла   Белякова 2018-08-17   \n",
       "4     1004   68        NaN       Новокузнецк    Татьяна   Авдеенко 2018-05-14   \n",
       "5     1005   67        NaN  Набережные Челны   Афанасий     Горлов 2018-01-25   \n",
       "6     1006   21        NaN         Ульяновск     Леонид   Ермолаев 2018-02-26   \n",
       "7     1007   65        NaN            Москва        Юна   Березина 2018-04-19   \n",
       "8     1008   63        NaN         Челябинск     Рустэм  Пономарёв 2018-12-19   \n",
       "9     1009   24        NaN             Пермь   Василиса    Блинова 2018-03-22   \n",
       "\n",
       "  tariff  reg_month  reg_day  \n",
       "0  ultra          6       25  \n",
       "1  smart         11        1  \n",
       "2  smart          7       17  \n",
       "3  ultra          9       17  \n",
       "4  ultra          6       14  \n",
       "5  smart          2       25  \n",
       "6  smart          3       26  \n",
       "7  smart          5       19  \n",
       "8  smart         13       19  \n",
       "9  smart          4       22  "
      ]
     },
     "execution_count": 31,
     "metadata": {},
     "output_type": "execute_result"
    }
   ],
   "source": [
    "users_data['reg_date']= pd.to_datetime(users_data['reg_date'], format='%Y-%m-%d')\n",
    "users_data['reg_month']=users_data['reg_date'].dt.month\n",
    "users_data['reg_day']=users_data['reg_date'].dt.day\n",
    "def month_round(data):\n",
    "    day=data['reg_day']\n",
    "    month=data['reg_month']\n",
    "    if day !=1:\n",
    "        return month+1\n",
    "    else:\n",
    "        return month\n",
    "users_data['reg_month']=users_data.apply(month_round,axis=1)\n",
    "users_data.head(10)"
   ]
  },
  {
   "cell_type": "markdown",
   "metadata": {},
   "source": [
    "По этой же причине округлим данные по пользователям, которые отказались от использования тарифа. Но, здесь мы не будем учитвать месяца, где пользователь отключился ранее последнего дня месяца - 30 или 31 числа соответственно."
   ]
  },
  {
   "cell_type": "code",
   "execution_count": 32,
   "metadata": {
    "scrolled": true
   },
   "outputs": [
    {
     "data": {
      "text/html": [
       "<div>\n",
       "<style scoped>\n",
       "    .dataframe tbody tr th:only-of-type {\n",
       "        vertical-align: middle;\n",
       "    }\n",
       "\n",
       "    .dataframe tbody tr th {\n",
       "        vertical-align: top;\n",
       "    }\n",
       "\n",
       "    .dataframe thead th {\n",
       "        text-align: right;\n",
       "    }\n",
       "</style>\n",
       "<table border=\"1\" class=\"dataframe\">\n",
       "  <thead>\n",
       "    <tr style=\"text-align: right;\">\n",
       "      <th></th>\n",
       "      <th>age</th>\n",
       "      <th>churn_date</th>\n",
       "      <th>city</th>\n",
       "      <th>first_name</th>\n",
       "      <th>last_name</th>\n",
       "      <th>reg_date</th>\n",
       "      <th>tariff</th>\n",
       "      <th>reg_month</th>\n",
       "      <th>reg_day</th>\n",
       "      <th>churn_month</th>\n",
       "      <th>churn_day</th>\n",
       "    </tr>\n",
       "    <tr>\n",
       "      <th>user_id</th>\n",
       "      <th></th>\n",
       "      <th></th>\n",
       "      <th></th>\n",
       "      <th></th>\n",
       "      <th></th>\n",
       "      <th></th>\n",
       "      <th></th>\n",
       "      <th></th>\n",
       "      <th></th>\n",
       "      <th></th>\n",
       "      <th></th>\n",
       "    </tr>\n",
       "  </thead>\n",
       "  <tbody>\n",
       "    <tr>\n",
       "      <td>1071</td>\n",
       "      <td>20</td>\n",
       "      <td>2018-08-31</td>\n",
       "      <td>Омск</td>\n",
       "      <td>Гектор</td>\n",
       "      <td>Чумаков</td>\n",
       "      <td>2018-01-09</td>\n",
       "      <td>smart</td>\n",
       "      <td>2</td>\n",
       "      <td>9</td>\n",
       "      <td>8.0</td>\n",
       "      <td>31.0</td>\n",
       "    </tr>\n",
       "    <tr>\n",
       "      <td>1232</td>\n",
       "      <td>60</td>\n",
       "      <td>2018-11-30</td>\n",
       "      <td>Томск</td>\n",
       "      <td>Виктория</td>\n",
       "      <td>Ларина</td>\n",
       "      <td>2018-10-07</td>\n",
       "      <td>smart</td>\n",
       "      <td>11</td>\n",
       "      <td>7</td>\n",
       "      <td>11.0</td>\n",
       "      <td>30.0</td>\n",
       "    </tr>\n",
       "    <tr>\n",
       "      <td>1371</td>\n",
       "      <td>50</td>\n",
       "      <td>2018-12-30</td>\n",
       "      <td>Омск</td>\n",
       "      <td>Ириней</td>\n",
       "      <td>Трофимов</td>\n",
       "      <td>2018-12-25</td>\n",
       "      <td>smart</td>\n",
       "      <td>13</td>\n",
       "      <td>25</td>\n",
       "      <td>11.0</td>\n",
       "      <td>30.0</td>\n",
       "    </tr>\n",
       "  </tbody>\n",
       "</table>\n",
       "</div>"
      ],
      "text/plain": [
       "         age churn_date   city first_name last_name   reg_date tariff  \\\n",
       "user_id                                                                 \n",
       "1071      20 2018-08-31   Омск     Гектор   Чумаков 2018-01-09  smart   \n",
       "1232      60 2018-11-30  Томск   Виктория    Ларина 2018-10-07  smart   \n",
       "1371      50 2018-12-30   Омск     Ириней  Трофимов 2018-12-25  smart   \n",
       "\n",
       "         reg_month  reg_day  churn_month  churn_day  \n",
       "user_id                                              \n",
       "1071             2        9          8.0       31.0  \n",
       "1232            11        7         11.0       30.0  \n",
       "1371            13       25         11.0       30.0  "
      ]
     },
     "execution_count": 32,
     "metadata": {},
     "output_type": "execute_result"
    }
   ],
   "source": [
    "users_data['churn_date'].unique()\n",
    "users_data['churn_date']= pd.to_datetime(users_data['churn_date'], format='%Y-%m-%d')\n",
    "users_data['churn_month']=users_data['churn_date'].dt.month\n",
    "users_data['churn_day']=users_data['churn_date'].dt.day\n",
    "def month_churn_round(data):\n",
    "    day=data['churn_day']\n",
    "    month=data['churn_month']\n",
    "    if day >=30 and month !=12:\n",
    "        return month\n",
    "    else:\n",
    "        return month-1\n",
    "users_data['churn_month']=users_data.apply(month_churn_round,axis=1)\n",
    "users_data=users_data.set_index('user_id')\n",
    "users_data.query('churn_day>28')"
   ]
  },
  {
   "cell_type": "code",
   "execution_count": 33,
   "metadata": {},
   "outputs": [],
   "source": [
    "users_data=users_data.drop(columns= ['reg_day','churn_day'])"
   ]
  },
  {
   "cell_type": "markdown",
   "metadata": {},
   "source": [
    "Чтобы объединенить данные по пользователям с информацией по использованию тарифов, необходимо сбросить мультииндекс, включающий месяц."
   ]
  },
  {
   "cell_type": "code",
   "execution_count": 34,
   "metadata": {
    "scrolled": true
   },
   "outputs": [
    {
     "data": {
      "text/html": [
       "<div>\n",
       "<style scoped>\n",
       "    .dataframe tbody tr th:only-of-type {\n",
       "        vertical-align: middle;\n",
       "    }\n",
       "\n",
       "    .dataframe tbody tr th {\n",
       "        vertical-align: top;\n",
       "    }\n",
       "\n",
       "    .dataframe thead th {\n",
       "        text-align: right;\n",
       "    }\n",
       "</style>\n",
       "<table border=\"1\" class=\"dataframe\">\n",
       "  <thead>\n",
       "    <tr style=\"text-align: right;\">\n",
       "      <th></th>\n",
       "      <th>month</th>\n",
       "      <th>call_quantity</th>\n",
       "      <th>call_duration_total</th>\n",
       "      <th>session_quantity</th>\n",
       "      <th>mb_used_total</th>\n",
       "      <th>message_total</th>\n",
       "    </tr>\n",
       "    <tr>\n",
       "      <th>user_id</th>\n",
       "      <th></th>\n",
       "      <th></th>\n",
       "      <th></th>\n",
       "      <th></th>\n",
       "      <th></th>\n",
       "      <th></th>\n",
       "    </tr>\n",
       "  </thead>\n",
       "  <tbody>\n",
       "    <tr>\n",
       "      <td>1000.0</td>\n",
       "      <td>5</td>\n",
       "      <td>17.0</td>\n",
       "      <td>159.0</td>\n",
       "      <td>4.0</td>\n",
       "      <td>2256.0</td>\n",
       "      <td>22.0</td>\n",
       "    </tr>\n",
       "    <tr>\n",
       "      <td>1000.0</td>\n",
       "      <td>6</td>\n",
       "      <td>28.0</td>\n",
       "      <td>172.0</td>\n",
       "      <td>43.0</td>\n",
       "      <td>22059.0</td>\n",
       "      <td>60.0</td>\n",
       "    </tr>\n",
       "    <tr>\n",
       "      <td>1000.0</td>\n",
       "      <td>7</td>\n",
       "      <td>41.0</td>\n",
       "      <td>340.0</td>\n",
       "      <td>28.0</td>\n",
       "      <td>14016.0</td>\n",
       "      <td>75.0</td>\n",
       "    </tr>\n",
       "    <tr>\n",
       "      <td>1000.0</td>\n",
       "      <td>8</td>\n",
       "      <td>42.0</td>\n",
       "      <td>408.0</td>\n",
       "      <td>27.0</td>\n",
       "      <td>14070.0</td>\n",
       "      <td>81.0</td>\n",
       "    </tr>\n",
       "    <tr>\n",
       "      <td>1000.0</td>\n",
       "      <td>9</td>\n",
       "      <td>46.0</td>\n",
       "      <td>466.0</td>\n",
       "      <td>25.0</td>\n",
       "      <td>14581.0</td>\n",
       "      <td>57.0</td>\n",
       "    </tr>\n",
       "  </tbody>\n",
       "</table>\n",
       "</div>"
      ],
      "text/plain": [
       "         month  call_quantity  call_duration_total  session_quantity  \\\n",
       "user_id                                                                \n",
       "1000.0       5           17.0                159.0               4.0   \n",
       "1000.0       6           28.0                172.0              43.0   \n",
       "1000.0       7           41.0                340.0              28.0   \n",
       "1000.0       8           42.0                408.0              27.0   \n",
       "1000.0       9           46.0                466.0              25.0   \n",
       "\n",
       "         mb_used_total  message_total  \n",
       "user_id                                \n",
       "1000.0          2256.0           22.0  \n",
       "1000.0         22059.0           60.0  \n",
       "1000.0         14016.0           75.0  \n",
       "1000.0         14070.0           81.0  \n",
       "1000.0         14581.0           57.0  "
      ]
     },
     "execution_count": 34,
     "metadata": {},
     "output_type": "execute_result"
    }
   ],
   "source": [
    "calls_internet_messages.reset_index(level='month',inplace=True)\n",
    "calls_internet_messages_full.reset_index(level='month',inplace=True)\n",
    "calls_internet_messages.head()"
   ]
  },
  {
   "cell_type": "markdown",
   "metadata": {},
   "source": [
    "Добавим отдельные колонки к таблице, которые нас интересуют для дальнейшего анализа, а именно - месяц регистрации, месяц конца использования тарифа, тариф и город пользователя."
   ]
  },
  {
   "cell_type": "code",
   "execution_count": 35,
   "metadata": {
    "scrolled": false
   },
   "outputs": [
    {
     "data": {
      "text/html": [
       "<div>\n",
       "<style scoped>\n",
       "    .dataframe tbody tr th:only-of-type {\n",
       "        vertical-align: middle;\n",
       "    }\n",
       "\n",
       "    .dataframe tbody tr th {\n",
       "        vertical-align: top;\n",
       "    }\n",
       "\n",
       "    .dataframe thead th {\n",
       "        text-align: right;\n",
       "    }\n",
       "</style>\n",
       "<table border=\"1\" class=\"dataframe\">\n",
       "  <thead>\n",
       "    <tr style=\"text-align: right;\">\n",
       "      <th></th>\n",
       "      <th>user_id</th>\n",
       "      <th>month</th>\n",
       "      <th>call_quantity</th>\n",
       "      <th>call_duration_total</th>\n",
       "      <th>session_quantity</th>\n",
       "      <th>mb_used_total</th>\n",
       "      <th>message_total</th>\n",
       "      <th>reg_month</th>\n",
       "      <th>churn_month</th>\n",
       "      <th>tariff</th>\n",
       "      <th>city</th>\n",
       "    </tr>\n",
       "  </thead>\n",
       "  <tbody>\n",
       "    <tr>\n",
       "      <td>0</td>\n",
       "      <td>1000.0</td>\n",
       "      <td>5</td>\n",
       "      <td>17.0</td>\n",
       "      <td>159.0</td>\n",
       "      <td>4.0</td>\n",
       "      <td>2256.0</td>\n",
       "      <td>22.0</td>\n",
       "      <td>6</td>\n",
       "      <td>NaN</td>\n",
       "      <td>ultra</td>\n",
       "      <td>Краснодар</td>\n",
       "    </tr>\n",
       "    <tr>\n",
       "      <td>1</td>\n",
       "      <td>1000.0</td>\n",
       "      <td>6</td>\n",
       "      <td>28.0</td>\n",
       "      <td>172.0</td>\n",
       "      <td>43.0</td>\n",
       "      <td>22059.0</td>\n",
       "      <td>60.0</td>\n",
       "      <td>6</td>\n",
       "      <td>NaN</td>\n",
       "      <td>ultra</td>\n",
       "      <td>Краснодар</td>\n",
       "    </tr>\n",
       "    <tr>\n",
       "      <td>2</td>\n",
       "      <td>1000.0</td>\n",
       "      <td>7</td>\n",
       "      <td>41.0</td>\n",
       "      <td>340.0</td>\n",
       "      <td>28.0</td>\n",
       "      <td>14016.0</td>\n",
       "      <td>75.0</td>\n",
       "      <td>6</td>\n",
       "      <td>NaN</td>\n",
       "      <td>ultra</td>\n",
       "      <td>Краснодар</td>\n",
       "    </tr>\n",
       "    <tr>\n",
       "      <td>3</td>\n",
       "      <td>1000.0</td>\n",
       "      <td>8</td>\n",
       "      <td>42.0</td>\n",
       "      <td>408.0</td>\n",
       "      <td>27.0</td>\n",
       "      <td>14070.0</td>\n",
       "      <td>81.0</td>\n",
       "      <td>6</td>\n",
       "      <td>NaN</td>\n",
       "      <td>ultra</td>\n",
       "      <td>Краснодар</td>\n",
       "    </tr>\n",
       "    <tr>\n",
       "      <td>4</td>\n",
       "      <td>1000.0</td>\n",
       "      <td>9</td>\n",
       "      <td>46.0</td>\n",
       "      <td>466.0</td>\n",
       "      <td>25.0</td>\n",
       "      <td>14581.0</td>\n",
       "      <td>57.0</td>\n",
       "      <td>6</td>\n",
       "      <td>NaN</td>\n",
       "      <td>ultra</td>\n",
       "      <td>Краснодар</td>\n",
       "    </tr>\n",
       "  </tbody>\n",
       "</table>\n",
       "</div>"
      ],
      "text/plain": [
       "   user_id  month  call_quantity  call_duration_total  session_quantity  \\\n",
       "0   1000.0      5           17.0                159.0               4.0   \n",
       "1   1000.0      6           28.0                172.0              43.0   \n",
       "2   1000.0      7           41.0                340.0              28.0   \n",
       "3   1000.0      8           42.0                408.0              27.0   \n",
       "4   1000.0      9           46.0                466.0              25.0   \n",
       "\n",
       "   mb_used_total  message_total  reg_month  churn_month tariff       city  \n",
       "0         2256.0           22.0          6          NaN  ultra  Краснодар  \n",
       "1        22059.0           60.0          6          NaN  ultra  Краснодар  \n",
       "2        14016.0           75.0          6          NaN  ultra  Краснодар  \n",
       "3        14070.0           81.0          6          NaN  ultra  Краснодар  \n",
       "4        14581.0           57.0          6          NaN  ultra  Краснодар  "
      ]
     },
     "execution_count": 35,
     "metadata": {},
     "output_type": "execute_result"
    }
   ],
   "source": [
    "column_to_join=['reg_month','churn_month','tariff','city']\n",
    "for column in column_to_join:\n",
    "    calls_internet_messages[column]=users_data[column]\n",
    "    calls_internet_messages_full[column]=users_data[column]\n",
    "calls_internet_messages.reset_index(inplace=True)\n",
    "calls_internet_messages_full.reset_index(inplace=True)\n",
    "calls_internet_messages.head()"
   ]
  },
  {
   "cell_type": "markdown",
   "metadata": {},
   "source": [
    "Теперь добавим информацию о том, будем использовать мы данные по месяцу в дальнейшем анализе, или нет. Для этого сравним номер месяца с номерами первого и последнего полного месяцев пользователя."
   ]
  },
  {
   "cell_type": "code",
   "execution_count": 36,
   "metadata": {
    "scrolled": false
   },
   "outputs": [
    {
     "data": {
      "text/html": [
       "<div>\n",
       "<style scoped>\n",
       "    .dataframe tbody tr th:only-of-type {\n",
       "        vertical-align: middle;\n",
       "    }\n",
       "\n",
       "    .dataframe tbody tr th {\n",
       "        vertical-align: top;\n",
       "    }\n",
       "\n",
       "    .dataframe thead th {\n",
       "        text-align: right;\n",
       "    }\n",
       "</style>\n",
       "<table border=\"1\" class=\"dataframe\">\n",
       "  <thead>\n",
       "    <tr style=\"text-align: right;\">\n",
       "      <th></th>\n",
       "      <th>user_id</th>\n",
       "      <th>month</th>\n",
       "      <th>call_quantity</th>\n",
       "      <th>call_duration_total</th>\n",
       "      <th>session_quantity</th>\n",
       "      <th>mb_used_total</th>\n",
       "      <th>message_total</th>\n",
       "      <th>tariff</th>\n",
       "      <th>city</th>\n",
       "      <th>full_month</th>\n",
       "    </tr>\n",
       "  </thead>\n",
       "  <tbody>\n",
       "    <tr>\n",
       "      <td>0</td>\n",
       "      <td>1000.0</td>\n",
       "      <td>5</td>\n",
       "      <td>17.0</td>\n",
       "      <td>159.0</td>\n",
       "      <td>4.0</td>\n",
       "      <td>2256.0</td>\n",
       "      <td>22.0</td>\n",
       "      <td>ultra</td>\n",
       "      <td>Краснодар</td>\n",
       "      <td>NaN</td>\n",
       "    </tr>\n",
       "    <tr>\n",
       "      <td>1</td>\n",
       "      <td>1000.0</td>\n",
       "      <td>6</td>\n",
       "      <td>28.0</td>\n",
       "      <td>172.0</td>\n",
       "      <td>43.0</td>\n",
       "      <td>22059.0</td>\n",
       "      <td>60.0</td>\n",
       "      <td>ultra</td>\n",
       "      <td>Краснодар</td>\n",
       "      <td>6</td>\n",
       "    </tr>\n",
       "    <tr>\n",
       "      <td>2</td>\n",
       "      <td>1000.0</td>\n",
       "      <td>7</td>\n",
       "      <td>41.0</td>\n",
       "      <td>340.0</td>\n",
       "      <td>28.0</td>\n",
       "      <td>14016.0</td>\n",
       "      <td>75.0</td>\n",
       "      <td>ultra</td>\n",
       "      <td>Краснодар</td>\n",
       "      <td>7</td>\n",
       "    </tr>\n",
       "    <tr>\n",
       "      <td>3</td>\n",
       "      <td>1000.0</td>\n",
       "      <td>8</td>\n",
       "      <td>42.0</td>\n",
       "      <td>408.0</td>\n",
       "      <td>27.0</td>\n",
       "      <td>14070.0</td>\n",
       "      <td>81.0</td>\n",
       "      <td>ultra</td>\n",
       "      <td>Краснодар</td>\n",
       "      <td>8</td>\n",
       "    </tr>\n",
       "    <tr>\n",
       "      <td>4</td>\n",
       "      <td>1000.0</td>\n",
       "      <td>9</td>\n",
       "      <td>46.0</td>\n",
       "      <td>466.0</td>\n",
       "      <td>25.0</td>\n",
       "      <td>14581.0</td>\n",
       "      <td>57.0</td>\n",
       "      <td>ultra</td>\n",
       "      <td>Краснодар</td>\n",
       "      <td>9</td>\n",
       "    </tr>\n",
       "  </tbody>\n",
       "</table>\n",
       "</div>"
      ],
      "text/plain": [
       "   user_id  month  call_quantity  call_duration_total  session_quantity  \\\n",
       "0   1000.0      5           17.0                159.0               4.0   \n",
       "1   1000.0      6           28.0                172.0              43.0   \n",
       "2   1000.0      7           41.0                340.0              28.0   \n",
       "3   1000.0      8           42.0                408.0              27.0   \n",
       "4   1000.0      9           46.0                466.0              25.0   \n",
       "\n",
       "   mb_used_total  message_total tariff       city full_month  \n",
       "0         2256.0           22.0  ultra  Краснодар        NaN  \n",
       "1        22059.0           60.0  ultra  Краснодар          6  \n",
       "2        14016.0           75.0  ultra  Краснодар          7  \n",
       "3        14070.0           81.0  ultra  Краснодар          8  \n",
       "4        14581.0           57.0  ultra  Краснодар          9  "
      ]
     },
     "execution_count": 36,
     "metadata": {},
     "output_type": "execute_result"
    }
   ],
   "source": [
    "calls_internet_messages['churn_month']=calls_internet_messages['churn_month'].fillna(12)\n",
    "def month_for_analysys(data):\n",
    "    month=data['month']\n",
    "    reg=data['reg_month']\n",
    "    churn=data['churn_month']\n",
    "    if reg<=month<=churn:\n",
    "        return month\n",
    "    else:\n",
    "        return 'NaN'\n",
    "calls_internet_messages['full_month']=calls_internet_messages.apply(month_for_analysys,axis=1)\n",
    "calls_internet_messages=calls_internet_messages.drop(columns= ['reg_month','churn_month'])\n",
    "calls_internet_messages.head()"
   ]
  },
  {
   "cell_type": "markdown",
   "metadata": {},
   "source": [
    "Посчитаем информацию по выручки с каждого пользователя по месяцам. Для этого сложим данные по плате за тариф с платой за использование превышающих тариф использованных минутах, мегабайтах и сообщениях."
   ]
  },
  {
   "cell_type": "code",
   "execution_count": 37,
   "metadata": {
    "scrolled": false
   },
   "outputs": [
    {
     "data": {
      "text/html": [
       "<div>\n",
       "<style scoped>\n",
       "    .dataframe tbody tr th:only-of-type {\n",
       "        vertical-align: middle;\n",
       "    }\n",
       "\n",
       "    .dataframe tbody tr th {\n",
       "        vertical-align: top;\n",
       "    }\n",
       "\n",
       "    .dataframe thead th {\n",
       "        text-align: right;\n",
       "    }\n",
       "</style>\n",
       "<table border=\"1\" class=\"dataframe\">\n",
       "  <thead>\n",
       "    <tr style=\"text-align: right;\">\n",
       "      <th></th>\n",
       "      <th>user_id</th>\n",
       "      <th>month</th>\n",
       "      <th>call_quantity</th>\n",
       "      <th>call_duration_total</th>\n",
       "      <th>session_quantity</th>\n",
       "      <th>mb_used_total</th>\n",
       "      <th>message_total</th>\n",
       "      <th>tariff</th>\n",
       "      <th>city</th>\n",
       "      <th>full_month</th>\n",
       "      <th>spent</th>\n",
       "    </tr>\n",
       "  </thead>\n",
       "  <tbody>\n",
       "    <tr>\n",
       "      <td>0</td>\n",
       "      <td>1000.0</td>\n",
       "      <td>5</td>\n",
       "      <td>17.0</td>\n",
       "      <td>159.0</td>\n",
       "      <td>4.0</td>\n",
       "      <td>2256.0</td>\n",
       "      <td>22.0</td>\n",
       "      <td>ultra</td>\n",
       "      <td>Краснодар</td>\n",
       "      <td>NaN</td>\n",
       "      <td>1950.00</td>\n",
       "    </tr>\n",
       "    <tr>\n",
       "      <td>1</td>\n",
       "      <td>1000.0</td>\n",
       "      <td>6</td>\n",
       "      <td>28.0</td>\n",
       "      <td>172.0</td>\n",
       "      <td>43.0</td>\n",
       "      <td>22059.0</td>\n",
       "      <td>60.0</td>\n",
       "      <td>ultra</td>\n",
       "      <td>Краснодар</td>\n",
       "      <td>6</td>\n",
       "      <td>1950.00</td>\n",
       "    </tr>\n",
       "    <tr>\n",
       "      <td>2</td>\n",
       "      <td>1000.0</td>\n",
       "      <td>7</td>\n",
       "      <td>41.0</td>\n",
       "      <td>340.0</td>\n",
       "      <td>28.0</td>\n",
       "      <td>14016.0</td>\n",
       "      <td>75.0</td>\n",
       "      <td>ultra</td>\n",
       "      <td>Краснодар</td>\n",
       "      <td>7</td>\n",
       "      <td>1950.00</td>\n",
       "    </tr>\n",
       "    <tr>\n",
       "      <td>3</td>\n",
       "      <td>1000.0</td>\n",
       "      <td>8</td>\n",
       "      <td>42.0</td>\n",
       "      <td>408.0</td>\n",
       "      <td>27.0</td>\n",
       "      <td>14070.0</td>\n",
       "      <td>81.0</td>\n",
       "      <td>ultra</td>\n",
       "      <td>Краснодар</td>\n",
       "      <td>8</td>\n",
       "      <td>1950.00</td>\n",
       "    </tr>\n",
       "    <tr>\n",
       "      <td>4</td>\n",
       "      <td>1000.0</td>\n",
       "      <td>9</td>\n",
       "      <td>46.0</td>\n",
       "      <td>466.0</td>\n",
       "      <td>25.0</td>\n",
       "      <td>14581.0</td>\n",
       "      <td>57.0</td>\n",
       "      <td>ultra</td>\n",
       "      <td>Краснодар</td>\n",
       "      <td>9</td>\n",
       "      <td>1950.00</td>\n",
       "    </tr>\n",
       "    <tr>\n",
       "      <td>5</td>\n",
       "      <td>1000.0</td>\n",
       "      <td>10</td>\n",
       "      <td>44.0</td>\n",
       "      <td>350.0</td>\n",
       "      <td>27.0</td>\n",
       "      <td>14717.0</td>\n",
       "      <td>73.0</td>\n",
       "      <td>ultra</td>\n",
       "      <td>Краснодар</td>\n",
       "      <td>10</td>\n",
       "      <td>1950.00</td>\n",
       "    </tr>\n",
       "    <tr>\n",
       "      <td>6</td>\n",
       "      <td>1000.0</td>\n",
       "      <td>11</td>\n",
       "      <td>37.0</td>\n",
       "      <td>338.0</td>\n",
       "      <td>20.0</td>\n",
       "      <td>11046.0</td>\n",
       "      <td>58.0</td>\n",
       "      <td>ultra</td>\n",
       "      <td>Краснодар</td>\n",
       "      <td>11</td>\n",
       "      <td>1950.00</td>\n",
       "    </tr>\n",
       "    <tr>\n",
       "      <td>7</td>\n",
       "      <td>1000.0</td>\n",
       "      <td>12</td>\n",
       "      <td>38.0</td>\n",
       "      <td>333.0</td>\n",
       "      <td>19.0</td>\n",
       "      <td>9827.0</td>\n",
       "      <td>70.0</td>\n",
       "      <td>ultra</td>\n",
       "      <td>Краснодар</td>\n",
       "      <td>12</td>\n",
       "      <td>1950.00</td>\n",
       "    </tr>\n",
       "    <tr>\n",
       "      <td>8</td>\n",
       "      <td>1001.0</td>\n",
       "      <td>11</td>\n",
       "      <td>45.0</td>\n",
       "      <td>430.0</td>\n",
       "      <td>47.0</td>\n",
       "      <td>18452.0</td>\n",
       "      <td>NaN</td>\n",
       "      <td>smart</td>\n",
       "      <td>Москва</td>\n",
       "      <td>11</td>\n",
       "      <td>1153.91</td>\n",
       "    </tr>\n",
       "    <tr>\n",
       "      <td>9</td>\n",
       "      <td>1001.0</td>\n",
       "      <td>12</td>\n",
       "      <td>47.0</td>\n",
       "      <td>414.0</td>\n",
       "      <td>35.0</td>\n",
       "      <td>14053.0</td>\n",
       "      <td>NaN</td>\n",
       "      <td>smart</td>\n",
       "      <td>Москва</td>\n",
       "      <td>12</td>\n",
       "      <td>550.00</td>\n",
       "    </tr>\n",
       "    <tr>\n",
       "      <td>10</td>\n",
       "      <td>1002.0</td>\n",
       "      <td>6</td>\n",
       "      <td>14.0</td>\n",
       "      <td>117.0</td>\n",
       "      <td>27.0</td>\n",
       "      <td>10871.0</td>\n",
       "      <td>4.0</td>\n",
       "      <td>smart</td>\n",
       "      <td>Стерлитамак</td>\n",
       "      <td>NaN</td>\n",
       "      <td>550.00</td>\n",
       "    </tr>\n",
       "    <tr>\n",
       "      <td>11</td>\n",
       "      <td>1002.0</td>\n",
       "      <td>7</td>\n",
       "      <td>20.0</td>\n",
       "      <td>187.0</td>\n",
       "      <td>44.0</td>\n",
       "      <td>17601.0</td>\n",
       "      <td>11.0</td>\n",
       "      <td>smart</td>\n",
       "      <td>Стерлитамак</td>\n",
       "      <td>7</td>\n",
       "      <td>987.70</td>\n",
       "    </tr>\n",
       "    <tr>\n",
       "      <td>12</td>\n",
       "      <td>1002.0</td>\n",
       "      <td>8</td>\n",
       "      <td>37.0</td>\n",
       "      <td>289.0</td>\n",
       "      <td>50.0</td>\n",
       "      <td>20347.0</td>\n",
       "      <td>13.0</td>\n",
       "      <td>smart</td>\n",
       "      <td>Стерлитамак</td>\n",
       "      <td>8</td>\n",
       "      <td>1524.02</td>\n",
       "    </tr>\n",
       "    <tr>\n",
       "      <td>13</td>\n",
       "      <td>1002.0</td>\n",
       "      <td>9</td>\n",
       "      <td>25.0</td>\n",
       "      <td>206.0</td>\n",
       "      <td>44.0</td>\n",
       "      <td>16712.0</td>\n",
       "      <td>4.0</td>\n",
       "      <td>smart</td>\n",
       "      <td>Стерлитамак</td>\n",
       "      <td>9</td>\n",
       "      <td>814.06</td>\n",
       "    </tr>\n",
       "    <tr>\n",
       "      <td>14</td>\n",
       "      <td>1002.0</td>\n",
       "      <td>10</td>\n",
       "      <td>24.0</td>\n",
       "      <td>212.0</td>\n",
       "      <td>36.0</td>\n",
       "      <td>13905.0</td>\n",
       "      <td>10.0</td>\n",
       "      <td>smart</td>\n",
       "      <td>Стерлитамак</td>\n",
       "      <td>10</td>\n",
       "      <td>550.00</td>\n",
       "    </tr>\n",
       "    <tr>\n",
       "      <td>15</td>\n",
       "      <td>1002.0</td>\n",
       "      <td>11</td>\n",
       "      <td>25.0</td>\n",
       "      <td>243.0</td>\n",
       "      <td>43.0</td>\n",
       "      <td>17496.0</td>\n",
       "      <td>16.0</td>\n",
       "      <td>smart</td>\n",
       "      <td>Стерлитамак</td>\n",
       "      <td>11</td>\n",
       "      <td>967.19</td>\n",
       "    </tr>\n",
       "    <tr>\n",
       "      <td>16</td>\n",
       "      <td>1002.0</td>\n",
       "      <td>12</td>\n",
       "      <td>27.0</td>\n",
       "      <td>236.0</td>\n",
       "      <td>52.0</td>\n",
       "      <td>18137.0</td>\n",
       "      <td>12.0</td>\n",
       "      <td>smart</td>\n",
       "      <td>Стерлитамак</td>\n",
       "      <td>12</td>\n",
       "      <td>1092.38</td>\n",
       "    </tr>\n",
       "    <tr>\n",
       "      <td>17</td>\n",
       "      <td>1003.0</td>\n",
       "      <td>8</td>\n",
       "      <td>43.0</td>\n",
       "      <td>380.0</td>\n",
       "      <td>14.0</td>\n",
       "      <td>8571.0</td>\n",
       "      <td>37.0</td>\n",
       "      <td>ultra</td>\n",
       "      <td>Москва</td>\n",
       "      <td>NaN</td>\n",
       "      <td>1950.00</td>\n",
       "    </tr>\n",
       "    <tr>\n",
       "      <td>18</td>\n",
       "      <td>1003.0</td>\n",
       "      <td>9</td>\n",
       "      <td>105.0</td>\n",
       "      <td>961.0</td>\n",
       "      <td>22.0</td>\n",
       "      <td>12479.0</td>\n",
       "      <td>91.0</td>\n",
       "      <td>ultra</td>\n",
       "      <td>Москва</td>\n",
       "      <td>9</td>\n",
       "      <td>1950.00</td>\n",
       "    </tr>\n",
       "    <tr>\n",
       "      <td>19</td>\n",
       "      <td>1003.0</td>\n",
       "      <td>10</td>\n",
       "      <td>97.0</td>\n",
       "      <td>855.0</td>\n",
       "      <td>22.0</td>\n",
       "      <td>11079.0</td>\n",
       "      <td>83.0</td>\n",
       "      <td>ultra</td>\n",
       "      <td>Москва</td>\n",
       "      <td>10</td>\n",
       "      <td>1950.00</td>\n",
       "    </tr>\n",
       "  </tbody>\n",
       "</table>\n",
       "</div>"
      ],
      "text/plain": [
       "    user_id  month  call_quantity  call_duration_total  session_quantity  \\\n",
       "0    1000.0      5           17.0                159.0               4.0   \n",
       "1    1000.0      6           28.0                172.0              43.0   \n",
       "2    1000.0      7           41.0                340.0              28.0   \n",
       "3    1000.0      8           42.0                408.0              27.0   \n",
       "4    1000.0      9           46.0                466.0              25.0   \n",
       "5    1000.0     10           44.0                350.0              27.0   \n",
       "6    1000.0     11           37.0                338.0              20.0   \n",
       "7    1000.0     12           38.0                333.0              19.0   \n",
       "8    1001.0     11           45.0                430.0              47.0   \n",
       "9    1001.0     12           47.0                414.0              35.0   \n",
       "10   1002.0      6           14.0                117.0              27.0   \n",
       "11   1002.0      7           20.0                187.0              44.0   \n",
       "12   1002.0      8           37.0                289.0              50.0   \n",
       "13   1002.0      9           25.0                206.0              44.0   \n",
       "14   1002.0     10           24.0                212.0              36.0   \n",
       "15   1002.0     11           25.0                243.0              43.0   \n",
       "16   1002.0     12           27.0                236.0              52.0   \n",
       "17   1003.0      8           43.0                380.0              14.0   \n",
       "18   1003.0      9          105.0                961.0              22.0   \n",
       "19   1003.0     10           97.0                855.0              22.0   \n",
       "\n",
       "    mb_used_total  message_total tariff         city full_month    spent  \n",
       "0          2256.0           22.0  ultra    Краснодар        NaN  1950.00  \n",
       "1         22059.0           60.0  ultra    Краснодар          6  1950.00  \n",
       "2         14016.0           75.0  ultra    Краснодар          7  1950.00  \n",
       "3         14070.0           81.0  ultra    Краснодар          8  1950.00  \n",
       "4         14581.0           57.0  ultra    Краснодар          9  1950.00  \n",
       "5         14717.0           73.0  ultra    Краснодар         10  1950.00  \n",
       "6         11046.0           58.0  ultra    Краснодар         11  1950.00  \n",
       "7          9827.0           70.0  ultra    Краснодар         12  1950.00  \n",
       "8         18452.0            NaN  smart       Москва         11  1153.91  \n",
       "9         14053.0            NaN  smart       Москва         12   550.00  \n",
       "10        10871.0            4.0  smart  Стерлитамак        NaN   550.00  \n",
       "11        17601.0           11.0  smart  Стерлитамак          7   987.70  \n",
       "12        20347.0           13.0  smart  Стерлитамак          8  1524.02  \n",
       "13        16712.0            4.0  smart  Стерлитамак          9   814.06  \n",
       "14        13905.0           10.0  smart  Стерлитамак         10   550.00  \n",
       "15        17496.0           16.0  smart  Стерлитамак         11   967.19  \n",
       "16        18137.0           12.0  smart  Стерлитамак         12  1092.38  \n",
       "17         8571.0           37.0  ultra       Москва        NaN  1950.00  \n",
       "18        12479.0           91.0  ultra       Москва          9  1950.00  \n",
       "19        11079.0           83.0  ultra       Москва         10  1950.00  "
      ]
     },
     "execution_count": 37,
     "metadata": {},
     "output_type": "execute_result"
    }
   ],
   "source": [
    "def money_spent(row):\n",
    "    tariff=row['tariff']\n",
    "    if tariff=='ultra':\n",
    "        i=1\n",
    "    else:\n",
    "        i=0\n",
    "    fee=tariffs_data.loc[i,'rub_monthly_fee']\n",
    "    minutes=row['call_duration_total']\n",
    "    minutes_included=tariffs_data.loc[i,'minutes_included']\n",
    "    minutes_cost=tariffs_data.loc[i,'rub_per_minute']\n",
    "    mb=row['mb_used_total']\n",
    "    mb_included=tariffs_data.loc[i,'mb_per_month_included']\n",
    "    mb_cost=tariffs_data.loc[i,'rub_per_gb']/1024\n",
    "    messages=row['message_total']\n",
    "    messages_included=tariffs_data.loc[i,'messages_included']\n",
    "    messages_cost=tariffs_data.loc[i,'rub_per_message']\n",
    "    try:\n",
    "        if minutes > minutes_included:\n",
    "            minute_bonus=(minutes_cost*(minutes-minutes_included))\n",
    "        else:\n",
    "            minute_bonus=0\n",
    "    except:\n",
    "        minut_bonus=0\n",
    "    try:\n",
    "        if mb > mb_included:\n",
    "            mb_bonus=(mb_cost*(mb-mb_included))\n",
    "        else:\n",
    "            mb_bonus=0\n",
    "    except:\n",
    "        mb_bonus=0\n",
    "    try:\n",
    "        if messages > messages_included:\n",
    "            message_bonus=(messages_cost*(messages-messages_included))\n",
    "        else:\n",
    "            message_bonus=0\n",
    "    except:\n",
    "        message_bonus=0\n",
    "    spent=round(fee+minute_bonus+mb_bonus+message_bonus,2)\n",
    "    return spent\n",
    "calls_internet_messages['spent']=calls_internet_messages.apply(money_spent,axis=1)\n",
    "calls_internet_messages_full['spent']=calls_internet_messages_full.apply(money_spent,axis=1)\n",
    "calls_internet_messages.head(20)"
   ]
  },
  {
   "cell_type": "markdown",
   "metadata": {},
   "source": [
    "Посмотрим, насколько встрачаются разбросы в данных по выручке. Два пика сосредоточены в районе абонементской платы за тариф. Основное количество пользователей тратит не более 3000 рублей в месяц."
   ]
  },
  {
   "cell_type": "code",
   "execution_count": 38,
   "metadata": {
    "scrolled": true
   },
   "outputs": [
    {
     "data": {
      "text/plain": [
       "Text(0.5, 1.0, 'Выручка за месяц, в рублях')"
      ]
     },
     "execution_count": 38,
     "metadata": {},
     "output_type": "execute_result"
    },
    {
     "data": {
      "image/png": "[encoded data removed]",
      "text/plain": [
       "<Figure size 432x288 with 1 Axes>"
      ]
     },
     "metadata": {
      "needs_background": "light"
     },
     "output_type": "display_data"
    }
   ],
   "source": [
    "spent_data =calls_internet_messages.pivot_table(index=['user_id'],\n",
    "                                      values='spent',\n",
    "                                      aggfunc=('mean'))\n",
    "spent_data['spent'].hist(bins=15, label='До')\n",
    "spent_data=spent_data.query('spent< 3000')\n",
    "spent_data['spent'].hist(bins=15, label='После')\n",
    "plt.xlabel('Выручка за месяц')\n",
    "plt.legend(loc='upper right')\n",
    "plt.title('Выручка за месяц, в рублях')\n"
   ]
  },
  {
   "cell_type": "markdown",
   "metadata": {},
   "source": [
    "Исключим данные по неполным месяцам и по слишком большим тратам за тариф. "
   ]
  },
  {
   "cell_type": "code",
   "execution_count": 50,
   "metadata": {
    "scrolled": false
   },
   "outputs": [
    {
     "name": "stdout",
     "output_type": "stream",
     "text": [
      "<class 'pandas.core.frame.DataFrame'>\n",
      "Int64Index: 2629 entries, 1 to 3212\n",
      "Data columns (total 10 columns):\n",
      "user_id                2629 non-null int64\n",
      "month                  2629 non-null int64\n",
      "call_quantity          2497 non-null float64\n",
      "call_duration_total    2497 non-null float64\n",
      "session_quantity       2568 non-null float64\n",
      "mb_used_total          2568 non-null float64\n",
      "message_total          2132 non-null float64\n",
      "tariff                 2629 non-null object\n",
      "city                   2629 non-null object\n",
      "spent                  2629 non-null int64\n",
      "dtypes: float64(5), int64(3), object(2)\n",
      "memory usage: 225.9+ KB\n"
     ]
    }
   ],
   "source": [
    "good_total_data=calls_internet_messages.query('full_month!=\"NaN\" and spent<3000')\n",
    "good_total_data=good_total_data.drop(columns= ['full_month'])\n",
    "good_total_data['user_id']=good_total_data['user_id'].astype('int')\n",
    "good_total_data['spent']=good_total_data['spent'].astype('int')\n",
    "calls_internet_messages_full['user_id']=calls_internet_messages_full['user_id'].astype('int')\n",
    "calls_internet_messages_full['spent']=calls_internet_messages_full['spent'].astype('int')\n",
    "good_total_data.info()"
   ]
  },
  {
   "cell_type": "markdown",
   "metadata": {},
   "source": [
    "### Вывод"
   ]
  },
  {
   "cell_type": "markdown",
   "metadata": {},
   "source": [
    "На этом шаге были подготовленны данные для дальнейшего анализа. Удалены нулевые значения по длительности звонков и сессий в интернете. Изучены пропуски, принято решение их оставить для облегчения дальнейшего анализа, так в большинстве случаев они связаны либо с отсутствием использования услуги, либо с выбивающимися значениями. Для изучения выручки оба варианта нам не интересны. Удалены значения по количеству сессий, звонков и сообщений, длительности звонков и потраченного трафика, а так же по выручке, которые слишком отличаются от основной вариации. Составлена единная таблица, где можно узнать основную информацию по пользователям в разрезе по полным месяцам, которые пользователь использовал тариф. Посчитана средняя выручка по месяцам. \n"
   ]
  },
  {
   "cell_type": "markdown",
   "metadata": {},
   "source": [
    "## Шаг 3. Анализ данных"
   ]
  },
  {
   "cell_type": "markdown",
   "metadata": {},
   "source": [
    "Разделим данные по тарифам на два дата-сета."
   ]
  },
  {
   "cell_type": "code",
   "execution_count": 51,
   "metadata": {
    "scrolled": true
   },
   "outputs": [],
   "source": [
    "smart_data=(good_total_data\n",
    "            .query('tariff==\"smart\"')\n",
    "            .pivot_table(index=['user_id'], \n",
    "                        columns=None, \n",
    "                        aggfunc={'call_duration_total':'mean'\n",
    "                                 ,'mb_used_total':'mean'\n",
    "                                 ,'message_total':'mean'\n",
    "                                 ,'spent':'mean'})\n",
    "                                 )\n",
    "ultra_data=(good_total_data\n",
    "            .query('tariff==\"ultra\"')\n",
    "            .pivot_table(index=['user_id'], \n",
    "                        columns=None, \n",
    "                        aggfunc={'call_duration_total':'mean'\n",
    "                                 ,'mb_used_total':'mean'\n",
    "                                 ,'message_total':'mean'\n",
    "                                 ,'spent':'mean'})\n",
    "                                 )\n"
   ]
  },
  {
   "cell_type": "markdown",
   "metadata": {},
   "source": [
    "Опишем поведение пользователей по двум выборкам. Для начала рассмотрим сколько в среднем минут по телефону разговаривают пользователи разных тарифов."
   ]
  },
  {
   "cell_type": "code",
   "execution_count": 57,
   "metadata": {
    "scrolled": false
   },
   "outputs": [
    {
     "name": "stdout",
     "output_type": "stream",
     "text": [
      "Суммарная длительность звонков за месяц на одного пользователя\n",
      "\n",
      "Тариф \"Смарт\"\n",
      "Среднее значение - 450.09\n",
      "Дисперсия - 23524.64\n",
      "Стандартное отклонение- 153.38\n",
      "\n",
      "Тариф \"Ультра\"\n",
      "Среднее значение - 534.1\n",
      "Дисперсия - 55877.12\n",
      "Стандартное отклонение- 236.38\n",
      "\n"
     ]
    },
    {
     "data": {
      "text/plain": [
       "Text(0.5, 1.0, 'Длительность звонков за месяц')"
      ]
     },
     "execution_count": 57,
     "metadata": {},
     "output_type": "execute_result"
    },
    {
     "data": {
      "image/png": "[encoded data removed]",
      "text/plain": [
       "<Figure size 432x288 with 1 Axes>"
      ]
     },
     "metadata": {
      "needs_background": "light"
     },
     "output_type": "display_data"
    }
   ],
   "source": [
    "def varaities_info(column,name):\n",
    "    data_list=[smart_data,ultra_data]\n",
    "    i=0\n",
    "    print(name)\n",
    "    print()\n",
    "    for data_name in data_list:\n",
    "        if i==0:\n",
    "            tariff_name='\"Смарт\"'\n",
    "            color='blue'\n",
    "        else:\n",
    "            tariff_name='\"Ультра\"'\n",
    "            color='green'\n",
    "        print(\"Тариф\",tariff_name)\n",
    "        \n",
    "        print(\"Среднее значение -\", round(data_name[column].mean(),2))\n",
    "        print(\"Дисперсия -\", round(np.var(data_name[column], ddof=1),2))\n",
    "        print(\"Стандартное отклонение-\",round(np.std(data_name[column], ddof=1),2))\n",
    "        data_name[column].plot(kind='hist', bins=7, facecolor=color, alpha=0.5, label=tariff_name)\n",
    "        plt.legend(loc='upper right')\n",
    "        print()\n",
    "        i=+1\n",
    "varaities_info('call_duration_total','Суммарная длительность звонков за месяц на одного пользователя')       \n",
    "plt.xlabel('Суммарная длительность звонков, минут')\n",
    "plt.title('Длительность звонков за месяц')"
   ]
  },
  {
   "cell_type": "markdown",
   "metadata": {},
   "source": [
    "Средние значения использованных минут по пользователям разных тарифов довольно сильно отличаются. Пользователи тарифом \"Смарт\" тратят в среднем на 84 минуты меньше на разговоры, чем пользователи тарифа \"Ультра\". При этом стандартное отклонение у тарифа \"Ультра\" также значительно больше. Поэтому на графике мы можем увидеть, что график по пользователям тарифа \"Смарт\"(голубой) больше похож на нормальное распределение, чем график по пользователям тарифа \"Ультра\", который имеет перекос в левую сторону и сильно \"сплюснут\". Это говорит скорей всего о том, что пользователи тарифа \"Ультра\" менее однородны как сегмент, и выбирают тариф не из соображения своего пользовательского поведения, а по иным факторам. Или, наоборот, что пользователи тарифа \"Смарт\" корректируют свои нужды в соответствии с нуждами более жесткого тпо условиям тарифа."
   ]
  },
  {
   "cell_type": "markdown",
   "metadata": {},
   "source": [
    "Рассмотрим данные по использованию интернет-трафика."
   ]
  },
  {
   "cell_type": "code",
   "execution_count": 59,
   "metadata": {
    "scrolled": false
   },
   "outputs": [
    {
     "name": "stdout",
     "output_type": "stream",
     "text": [
      "Суммарный интернет-трафик за месяц на одного пользователя\n",
      "\n",
      "Тариф \"Смарт\"\n",
      "Среднее значение - 17165.15\n",
      "Дисперсия - 13704728.58\n",
      "Стандартное отклонение- 3701.99\n",
      "\n",
      "Тариф \"Ультра\"\n",
      "Среднее значение - 20295.47\n",
      "Дисперсия - 65810320.26\n",
      "Стандартное отклонение- 8112.36\n",
      "\n"
     ]
    },
    {
     "data": {
      "text/plain": [
       "Text(0.5, 1.0, 'Трафик в месяц')"
      ]
     },
     "execution_count": 59,
     "metadata": {},
     "output_type": "execute_result"
    },
    {
     "data": {
      "image/png": "[encoded data removed]",
      "text/plain": [
       "<Figure size 432x288 with 1 Axes>"
      ]
     },
     "metadata": {
      "needs_background": "light"
     },
     "output_type": "display_data"
    }
   ],
   "source": [
    "varaities_info('mb_used_total','Суммарный интернет-трафик за месяц на одного пользователя')\n",
    "plt.xlabel('Суммарный трафик, мегабайт')\n",
    "plt.title('Трафик в месяц')"
   ]
  },
  {
   "cell_type": "markdown",
   "metadata": {},
   "source": [
    "Средние значения использованных трафика по пользователям разных тарифов так же сильно отличаются. Пользователи тарифом \"Смарт\" тратят в среднем на около 3 ГБ меньше, чем пользователи тарифа \"Ультра\". При этом стандартное отклонение у тарифа \"Ультра\" также значительно больше. Поэтому на графике мы можем увидеть, что график по пользователям тарифа \"Смарт\"(голубой) больше похож на нормальное распределение, чем график по пользователям тарифа \"Ультра\", который имеет перекос в левую сторону и сильно \"сплюснут\". В отличие от звонков, у использования интернета пользователями тарифа \"Ультра\" легче выдить модальное поведение, которое распологается в районе 20 ГБ в месяц."
   ]
  },
  {
   "cell_type": "markdown",
   "metadata": {},
   "source": [
    "Изучим данные по количеству сообщений."
   ]
  },
  {
   "cell_type": "code",
   "execution_count": 58,
   "metadata": {
    "scrolled": false
   },
   "outputs": [
    {
     "name": "stdout",
     "output_type": "stream",
     "text": [
      "Суммарное количество сообщений за месяц на одного пользователя\n",
      "\n",
      "Тариф \"Смарт\"\n",
      "Среднее значение - 41.12\n",
      "Дисперсия - 731.6\n",
      "Стандартное отклонение- 27.05\n",
      "\n",
      "Тариф \"Ультра\"\n",
      "Среднее значение - 60.34\n",
      "Дисперсия - 1348.23\n",
      "Стандартное отклонение- 36.72\n",
      "\n"
     ]
    },
    {
     "data": {
      "text/plain": [
       "Text(0.5, 1.0, 'Отправка сообщений в месяц')"
      ]
     },
     "execution_count": 58,
     "metadata": {},
     "output_type": "execute_result"
    },
    {
     "data": {
      "image/png": "[encoded data removed]",
      "text/plain": [
       "<Figure size 432x288 with 1 Axes>"
      ]
     },
     "metadata": {
      "needs_background": "light"
     },
     "output_type": "display_data"
    }
   ],
   "source": [
    "varaities_info('message_total','Суммарное количество сообщений за месяц на одного пользователя')\n",
    "plt.xlabel('Суммарное количество сообщений')\n",
    "plt.title('Отправка сообщений в месяц')"
   ]
  },
  {
   "cell_type": "markdown",
   "metadata": {},
   "source": [
    "В случае с сообщениями, средние значения по количеству различается почти в полтора раза - 41 сообщение по тарифу \"Смарт\" и 60 сообщений по тарифу \"Ультра\". Такие же различия и в стандартном отклонении. Стоит отметить, что достаточно строгие ограничения по тарифу влияют на пользователей тарифа \"Смарт\" дали значительный скос в правую сторону и распределине перестало быть похоже на нормальное, и стало больше похоже на распределение Пуассона. Что касается пользователей тарифом \"Ультра\", у них наблюдается такое же неярко выраженное распределение, как и в звонках. "
   ]
  },
  {
   "cell_type": "code",
   "execution_count": 74,
   "metadata": {
    "scrolled": true
   },
   "outputs": [
    {
     "data": {
      "text/html": [
       "<div>\n",
       "<style scoped>\n",
       "    .dataframe tbody tr th:only-of-type {\n",
       "        vertical-align: middle;\n",
       "    }\n",
       "\n",
       "    .dataframe tbody tr th {\n",
       "        vertical-align: top;\n",
       "    }\n",
       "\n",
       "    .dataframe thead tr th {\n",
       "        text-align: left;\n",
       "    }\n",
       "\n",
       "    .dataframe thead tr:last-of-type th {\n",
       "        text-align: right;\n",
       "    }\n",
       "</style>\n",
       "<table border=\"1\" class=\"dataframe\">\n",
       "  <thead>\n",
       "    <tr>\n",
       "      <th></th>\n",
       "      <th colspan=\"3\" halign=\"left\">mean</th>\n",
       "      <th colspan=\"3\" halign=\"left\">var_ddof1</th>\n",
       "      <th colspan=\"3\" halign=\"left\">std</th>\n",
       "    </tr>\n",
       "    <tr>\n",
       "      <th></th>\n",
       "      <th>call_duration_total</th>\n",
       "      <th>mb_used_total</th>\n",
       "      <th>message_total</th>\n",
       "      <th>call_duration_total</th>\n",
       "      <th>mb_used_total</th>\n",
       "      <th>message_total</th>\n",
       "      <th>call_duration_total</th>\n",
       "      <th>mb_used_total</th>\n",
       "      <th>message_total</th>\n",
       "    </tr>\n",
       "    <tr>\n",
       "      <th>tariff</th>\n",
       "      <th></th>\n",
       "      <th></th>\n",
       "      <th></th>\n",
       "      <th></th>\n",
       "      <th></th>\n",
       "      <th></th>\n",
       "      <th></th>\n",
       "      <th></th>\n",
       "      <th></th>\n",
       "    </tr>\n",
       "  </thead>\n",
       "  <tbody>\n",
       "    <tr>\n",
       "      <td>smart</td>\n",
       "      <td>450.091965</td>\n",
       "      <td>17165.146401</td>\n",
       "      <td>41.115164</td>\n",
       "      <td>23524.641954</td>\n",
       "      <td>1.370473e+07</td>\n",
       "      <td>731.595474</td>\n",
       "      <td>153.377449</td>\n",
       "      <td>3701.989813</td>\n",
       "      <td>27.048022</td>\n",
       "    </tr>\n",
       "    <tr>\n",
       "      <td>ultra</td>\n",
       "      <td>534.097653</td>\n",
       "      <td>20295.465381</td>\n",
       "      <td>60.336049</td>\n",
       "      <td>55877.116171</td>\n",
       "      <td>6.581032e+07</td>\n",
       "      <td>1348.233456</td>\n",
       "      <td>236.383409</td>\n",
       "      <td>8112.356024</td>\n",
       "      <td>36.718299</td>\n",
       "    </tr>\n",
       "  </tbody>\n",
       "</table>\n",
       "</div>"
      ],
      "text/plain": [
       "                      mean                                       var_ddof1  \\\n",
       "       call_duration_total mb_used_total message_total call_duration_total   \n",
       "tariff                                                                       \n",
       "smart           450.091965  17165.146401     41.115164        23524.641954   \n",
       "ultra           534.097653  20295.465381     60.336049        55877.116171   \n",
       "\n",
       "                                                   std                \\\n",
       "       mb_used_total message_total call_duration_total mb_used_total   \n",
       "tariff                                                                 \n",
       "smart   1.370473e+07    731.595474          153.377449   3701.989813   \n",
       "ultra   6.581032e+07   1348.233456          236.383409   8112.356024   \n",
       "\n",
       "                      \n",
       "       message_total  \n",
       "tariff                \n",
       "smart      27.048022  \n",
       "ultra      36.718299  "
      ]
     },
     "execution_count": 74,
     "metadata": {},
     "output_type": "execute_result"
    }
   ],
   "source": [
    "pivot_for_mean=good_total_data.pivot_table(index=['user_id','tariff'], \n",
    "                        aggfunc={'call_duration_total':'mean'\n",
    "                                 ,'mb_used_total':'mean'\n",
    "                                 ,'message_total':'mean'\n",
    "                                 ,'spent':'mean'})\n",
    "pivot_for_mean.reset_index(inplace=True)\n",
    "def var_ddof1(x): \n",
    "    return np.var(x, ddof=1)\n",
    "pivot_for_mean.pivot_table(index='tariff',\n",
    "                                  values=['call_duration_total', 'mb_used_total', 'message_total'],\n",
    "                                  aggfunc=[np.mean, var_ddof1, np.std])"
   ]
  },
  {
   "cell_type": "markdown",
   "metadata": {},
   "source": [
    "Изучим данные по выручке."
   ]
  },
  {
   "cell_type": "code",
   "execution_count": 60,
   "metadata": {
    "scrolled": false
   },
   "outputs": [
    {
     "name": "stdout",
     "output_type": "stream",
     "text": [
      "Суммарная выручка за месяц на одного пользователя\n",
      "\n",
      "Тариф \"Смарт\"\n",
      "Среднее значение - 1251.45\n",
      "Дисперсия - 278018.04\n",
      "Стандартное отклонение- 527.27\n",
      "\n",
      "Тариф \"Ультра\"\n",
      "Среднее значение - 2019.06\n",
      "Дисперсия - 38943.25\n",
      "Стандартное отклонение- 197.34\n",
      "\n"
     ]
    },
    {
     "data": {
      "text/plain": [
       "Text(0.5, 1.0, 'Выручка в месяц')"
      ]
     },
     "execution_count": 60,
     "metadata": {},
     "output_type": "execute_result"
    },
    {
     "data": {
      "image/png": "[encoded data removed]",
      "text/plain": [
       "<Figure size 432x288 with 1 Axes>"
      ]
     },
     "metadata": {
      "needs_background": "light"
     },
     "output_type": "display_data"
    }
   ],
   "source": [
    "varaities_info('spent','Суммарная выручка за месяц на одного пользователя')\n",
    "plt.xlabel('Выручка, рублей')\n",
    "plt.title('Выручка в месяц')"
   ]
  },
  {
   "cell_type": "markdown",
   "metadata": {},
   "source": [
    "Здесь данные ведут себя совершенно иначе. Если плата за тариф различается почти в 4 раза, то средние по итоговой выручке отличаются меньше, чем в 2 раза. При этом стандартное отклонение у пользователей тарифа \"Смарт\" значительно выше, чем у мпользователей тарифа \"Ултра\". По графику тоже хорошо видно, что основное количество пользователей тарифа \"Ультра\" платят только за тариф, в то время как пользователи тарифа \"Смарт\" могут иногда даже платить больше, чем пользователи тарифа \"Ультра\" "
   ]
  },
  {
   "cell_type": "code",
   "execution_count": 61,
   "metadata": {
    "scrolled": true
   },
   "outputs": [
    {
     "name": "stdout",
     "output_type": "stream",
     "text": [
      "Выручка по пользователям тарифа \"Смарт\" 2748486\n",
      "Выручка по пользователям тарифа \"Ультра\" 2029557\n"
     ]
    }
   ],
   "source": [
    "print('Выручка по пользователям тарифа \"Смарт\"',calls_internet_messages_full[calls_internet_messages_full['tariff']=='smart']['spent'].sum().round(2))\n",
    "print('Выручка по пользователям тарифа \"Ультра\"',calls_internet_messages_full[calls_internet_messages_full['tariff']=='ultra']['spent'].sum().round(2))"
   ]
  },
  {
   "cell_type": "code",
   "execution_count": 62,
   "metadata": {},
   "outputs": [
    {
     "name": "stdout",
     "output_type": "stream",
     "text": [
      "Суммарная выручка за месяц на одного пользователя\n",
      "\n",
      "Тариф \"Смарт\"\n",
      "Среднее значение - 1266.64\n",
      "Дисперсия - 345367.92\n",
      "Стандартное отклонение- 587.68\n",
      "\n",
      "Тариф \"Ультра\"\n",
      "Среднее значение - 2076.18\n",
      "Дисперсия - 78758.26\n",
      "Стандартное отклонение- 280.64\n",
      "\n"
     ]
    },
    {
     "data": {
      "text/plain": [
       "Text(0.5, 1.0, 'Выручка в месяц')"
      ]
     },
     "execution_count": 62,
     "metadata": {},
     "output_type": "execute_result"
    },
    {
     "data": {
      "image/png": "[encoded data removed]",
      "text/plain": [
       "<Figure size 432x288 with 1 Axes>"
      ]
     },
     "metadata": {
      "needs_background": "light"
     },
     "output_type": "display_data"
    }
   ],
   "source": [
    "smart_data_full=(calls_internet_messages_full\n",
    "            .query('tariff==\"smart\"')\n",
    "            .pivot_table(index=['user_id'], \n",
    "                        columns=None, \n",
    "                        aggfunc={'call_duration_total':'mean'\n",
    "                                 ,'mb_used_total':'mean'\n",
    "                                 ,'message_total':'mean'\n",
    "                                 ,'spent':'mean'})\n",
    "                                 )\n",
    "ultra_data_full=(calls_internet_messages_full\n",
    "            .query('tariff==\"ultra\"')\n",
    "            .pivot_table(index=['user_id'], \n",
    "                        columns=None, \n",
    "                        aggfunc={'call_duration_total':'mean'\n",
    "                                 ,'mb_used_total':'mean'\n",
    "                                 ,'message_total':'mean'\n",
    "                                 ,'spent':'mean'})\n",
    "                                 )\n",
    "def varaities_info_full(column,name):\n",
    "    data_list=[smart_data_full,ultra_data_full]\n",
    "    i=0\n",
    "    print(name)\n",
    "    print()\n",
    "    for data_name in data_list:\n",
    "        if i==0:\n",
    "            tariff_name='\"Смарт\"'\n",
    "            color='blue'\n",
    "        else:\n",
    "            tariff_name='\"Ультра\"'\n",
    "            color='green'\n",
    "        print(\"Тариф\",tariff_name)\n",
    "        \n",
    "        print(\"Среднее значение -\", round(data_name[column].mean(),2))\n",
    "        print(\"Дисперсия -\", round(np.var(data_name[column], ddof=1),2))\n",
    "        print(\"Стандартное отклонение-\",round(np.std(data_name[column], ddof=1),2))\n",
    "        data_name[column].plot(kind='hist', bins=7, facecolor=color, alpha=0.5, label=tariff_name)\n",
    "        plt.legend(loc='upper right')\n",
    "        print()\n",
    "        i=+1\n",
    "varaities_info_full('spent','Суммарная выручка за месяц на одного пользователя')\n",
    "plt.xlabel('Выручка, рублей')\n",
    "plt.title('Выручка в месяц')"
   ]
  },
  {
   "cell_type": "markdown",
   "metadata": {},
   "source": [
    "И, можно предположить, что тариф \"Ультра\" приносит большую среднюю выручку, поэтому надо сосредоточится на нём. Но если посчитать сумарную выручку, то тариф \"Смарт\" приносит значительно больше денег компании. "
   ]
  },
  {
   "cell_type": "markdown",
   "metadata": {},
   "source": [
    "### Вывод"
   ]
  },
  {
   "cell_type": "markdown",
   "metadata": {},
   "source": [
    "При изучении количества потраченных минут, мегабайтов и сообщений выявлены различия между пользователями разных тарифов. Так, среди пользователей тарифом \"Ультра\" наблюдается распределние, близкое к нормальному, по длительности звонков и трафику интернета. При этом ограничение по сообщениям слишком жесткое, и укладываться в него пользователям сложнее. У пользователей тарифа \"Ультра\", наоборот, слишком лояльные условия. Максимум по минутам и сообщениям никто не набирает, при этом интернет-трафика им не всем хватает."
   ]
  },
  {
   "cell_type": "markdown",
   "metadata": {},
   "source": [
    "## Шаг 4. Проверка гипотез"
   ]
  },
  {
   "cell_type": "markdown",
   "metadata": {},
   "source": [
    "Проверим различия в выручке между пользователями по двум тарифам и между пользователями из Москвы и регионов."
   ]
  },
  {
   "cell_type": "markdown",
   "metadata": {},
   "source": [
    "Но: средние по выручке двух выборок по тарифам равны между собой\n",
    "Н1: средние по выручке двух выборок по тарифам не равны между собой"
   ]
  },
  {
   "cell_type": "code",
   "execution_count": 46,
   "metadata": {},
   "outputs": [
    {
     "name": "stdout",
     "output_type": "stream",
     "text": [
      "p-значение: 6.995868923514512e-49\n",
      "Отвергаем нулевую гипотезу\n"
     ]
    }
   ],
   "source": [
    "alpha = .05\n",
    "results =  st.ttest_ind(smart_data['spent'],ultra_data['spent'])\n",
    "print('p-значение:', results.pvalue)\n",
    "if (results.pvalue < alpha):\n",
    "    print(\"Отвергаем нулевую гипотезу\")\n",
    "else:\n",
    "    print(\"Не получилось отвергнуть нулевую гипотезу\")"
   ]
  },
  {
   "cell_type": "markdown",
   "metadata": {},
   "source": [
    "Но: средние по выручке двух выборок по Москве и регионам равны между собой\n",
    "Н1: средние по выручке двух выборок по Москве и регионам не равны между собой"
   ]
  },
  {
   "cell_type": "code",
   "execution_count": 63,
   "metadata": {},
   "outputs": [
    {
     "name": "stdout",
     "output_type": "stream",
     "text": [
      "p-значение: 0.6418715749211665\n",
      "Не получилось отвергнуть нулевую гипотезу\n"
     ]
    },
    {
     "name": "stderr",
     "output_type": "stream",
     "text": [
      "/opt/conda/lib/python3.7/site-packages/pandas/plotting/_matplotlib/hist.py:62: MatplotlibDeprecationWarning: \n",
      "The 'normed' kwarg was deprecated in Matplotlib 2.1 and will be removed in 3.1. Use 'density' instead.\n",
      "  n, bins, patches = ax.hist(y, bins=bins, bottom=bottom, **kwds)\n",
      "/opt/conda/lib/python3.7/site-packages/pandas/plotting/_matplotlib/hist.py:62: MatplotlibDeprecationWarning: \n",
      "The 'normed' kwarg was deprecated in Matplotlib 2.1 and will be removed in 3.1. Use 'density' instead.\n",
      "  n, bins, patches = ax.hist(y, bins=bins, bottom=bottom, **kwds)\n"
     ]
    },
    {
     "data": {
      "text/plain": [
       "Text(0.5, 1.0, 'Выручка в месяц')"
      ]
     },
     "execution_count": 63,
     "metadata": {},
     "output_type": "execute_result"
    },
    {
     "data": {
      "image/png": "[encoded data removed]",
      "text/plain": [
       "<Figure size 432x288 with 1 Axes>"
      ]
     },
     "metadata": {
      "needs_background": "light"
     },
     "output_type": "display_data"
    }
   ],
   "source": [
    "moscow_spent=(good_total_data\n",
    "              .query('city==\"Москва\"')\n",
    "              .pivot_table(index=['user_id'], \n",
    "                           columns=None, \n",
    "                           aggfunc={'spent':'mean'})\n",
    "                        )\n",
    "region_spent=(good_total_data\n",
    "              .query('city!=\"Москва\"')\n",
    "              .pivot_table(index=['user_id'], \n",
    "                           columns=None, \n",
    "                           aggfunc={'spent':'mean'})\n",
    "                        )\n",
    "moscow_spent['spent'].plot(kind='hist', bins=10, normed=1, facecolor='blue', alpha=0.5, label=\"Москва\")\n",
    "region_spent['spent'].plot(kind='hist', bins=10, normed=1, facecolor='green', alpha=0.5, label=\"Регионы\")\n",
    "plt.legend(loc='upper right')\n",
    "results =  st.ttest_ind(moscow_spent['spent'],region_spent['spent'])\n",
    "print('p-значение:', results.pvalue)\n",
    "if (results.pvalue < alpha):\n",
    "    print (\"Отвергаем нулевую гипотезу\")\n",
    "else:\n",
    "    print (\"Не получилось отвергнуть нулевую гипотезу\")\n",
    "plt.xlabel('Выручка, рублей')\n",
    "plt.title('Выручка в месяц')"
   ]
  },
  {
   "cell_type": "code",
   "execution_count": 73,
   "metadata": {},
   "outputs": [
    {
     "data": {
      "text/html": [
       "<div>\n",
       "<style scoped>\n",
       "    .dataframe tbody tr th:only-of-type {\n",
       "        vertical-align: middle;\n",
       "    }\n",
       "\n",
       "    .dataframe tbody tr th {\n",
       "        vertical-align: top;\n",
       "    }\n",
       "\n",
       "    .dataframe thead tr th {\n",
       "        text-align: left;\n",
       "    }\n",
       "\n",
       "    .dataframe thead tr:last-of-type th {\n",
       "        text-align: right;\n",
       "    }\n",
       "</style>\n",
       "<table border=\"1\" class=\"dataframe\">\n",
       "  <thead>\n",
       "    <tr>\n",
       "      <th></th>\n",
       "      <th colspan=\"3\" halign=\"left\">mean</th>\n",
       "      <th colspan=\"3\" halign=\"left\">var_ddof1</th>\n",
       "      <th colspan=\"3\" halign=\"left\">std</th>\n",
       "    </tr>\n",
       "    <tr>\n",
       "      <th></th>\n",
       "      <th>call_duration_total</th>\n",
       "      <th>mb_used_total</th>\n",
       "      <th>message_total</th>\n",
       "      <th>call_duration_total</th>\n",
       "      <th>mb_used_total</th>\n",
       "      <th>message_total</th>\n",
       "      <th>call_duration_total</th>\n",
       "      <th>mb_used_total</th>\n",
       "      <th>message_total</th>\n",
       "    </tr>\n",
       "    <tr>\n",
       "      <th>tariff</th>\n",
       "      <th></th>\n",
       "      <th></th>\n",
       "      <th></th>\n",
       "      <th></th>\n",
       "      <th></th>\n",
       "      <th></th>\n",
       "      <th></th>\n",
       "      <th></th>\n",
       "      <th></th>\n",
       "    </tr>\n",
       "  </thead>\n",
       "  <tbody>\n",
       "    <tr>\n",
       "      <td>smart</td>\n",
       "      <td>450.091965</td>\n",
       "      <td>17165.146401</td>\n",
       "      <td>41.115164</td>\n",
       "      <td>23524.641954</td>\n",
       "      <td>1.370473e+07</td>\n",
       "      <td>731.595474</td>\n",
       "      <td>153.377449</td>\n",
       "      <td>3701.989813</td>\n",
       "      <td>27.048022</td>\n",
       "    </tr>\n",
       "    <tr>\n",
       "      <td>ultra</td>\n",
       "      <td>534.097653</td>\n",
       "      <td>20295.465381</td>\n",
       "      <td>60.336049</td>\n",
       "      <td>55877.116171</td>\n",
       "      <td>6.581032e+07</td>\n",
       "      <td>1348.233456</td>\n",
       "      <td>236.383409</td>\n",
       "      <td>8112.356024</td>\n",
       "      <td>36.718299</td>\n",
       "    </tr>\n",
       "  </tbody>\n",
       "</table>\n",
       "</div>"
      ],
      "text/plain": [
       "                      mean                                       var_ddof1  \\\n",
       "       call_duration_total mb_used_total message_total call_duration_total   \n",
       "tariff                                                                       \n",
       "smart           450.091965  17165.146401     41.115164        23524.641954   \n",
       "ultra           534.097653  20295.465381     60.336049        55877.116171   \n",
       "\n",
       "                                                   std                \\\n",
       "       mb_used_total message_total call_duration_total mb_used_total   \n",
       "tariff                                                                 \n",
       "smart   1.370473e+07    731.595474          153.377449   3701.989813   \n",
       "ultra   6.581032e+07   1348.233456          236.383409   8112.356024   \n",
       "\n",
       "                      \n",
       "       message_total  \n",
       "tariff                \n",
       "smart      27.048022  \n",
       "ultra      36.718299  "
      ]
     },
     "execution_count": 73,
     "metadata": {},
     "output_type": "execute_result"
    }
   ],
   "source": [
    "pivot_for_mean=good_total_data.pivot_table(index=['user_id','tariff'], \n",
    "                        aggfunc={'call_duration_total':'mean'\n",
    "                                 ,'mb_used_total':'mean'\n",
    "                                 ,'message_total':'mean'\n",
    "                                 ,'spent':'mean'})\n",
    "pivot_for_mean.reset_index(inplace=True)\n",
    "def var_ddof1(x): \n",
    "    return np.var(x, ddof=1)\n",
    "pivot_for_mean.pivot_table(index='tariff',\n",
    "                                  values=['call_duration_total', 'mb_used_total', 'message_total'],\n",
    "                                  aggfunc=[np.mean, var_ddof1, np.std])"
   ]
  },
  {
   "cell_type": "markdown",
   "metadata": {},
   "source": [
    "## Вывод"
   ]
  },
  {
   "cell_type": "markdown",
   "metadata": {},
   "source": [
    "В аналитической работе было изучено поведение клиентов двух тарифов. В рамках тарифа \"Смарт\" клиенты склоны экономить и стараются придерживаться ограничений тарифа. Они звонят в среднем 450 минут, исползуют  17 ГБ трафика (что больше, чем ограничения тарифа) и посылают около 41 сообщений в месяц. При этом клиенты приносят в среднем 1251.45 рублей в месяц. Это более чем в два раза больше тарифной платы. Некоторые из них в итоге платят больше, чем клиенты тарифа \"Ультра\". Клиенты тарифа \"Ультра\", наоборот, часто недоиспользуют возможности тарифа, особенно это касается количество звонков и сообщений. В среднем, они разговаривают 534 минуты, используют 20 ГБ мобильного интернета и отправляют 60 сообщений. В среднем тратят 2019 рублей в месяц. Различие в тратах между клиентами тарифов статистически значимо. При этом различие в тратах между Москвой и регионами подтвердить не удалось. Тариф \"Ультра\" по результатам анализа приносит компании больше денег на одного клиента, но при этом это не значит, что следует отказываться от тарифа \"Смарт\". Если брать суммарную выручку, то тариф \"Смарт\" показывает лучшие результаты -  2,7 млн. рублей против 2 млн. Связанно это с тем, что на тарифе \"Смарт\" больше клиентов. Поэтому ответ о том, какой тариф для компании лучше нельзя дать однозначно не зная целей. Без привязки к целям тарифы существуют каждый для своего сегмента потребителей, и отказываться ни от одного из них не рекомендуется, хотя их модификации возможны."
   ]
  }
 ],
 "metadata": {
  "kernelspec": {
   "display_name": "Python 3",
   "language": "python",
   "name": "python3"
  },
  "language_info": {
   "codemirror_mode": {
    "name": "ipython",
    "version": 3
   },
   "file_extension": ".py",
   "mimetype": "text/x-python",
   "name": "python",
   "nbconvert_exporter": "python",
   "pygments_lexer": "ipython3",
   "version": "3.7.6"
  }
 },
 "nbformat": 4,
 "nbformat_minor": 2
}
